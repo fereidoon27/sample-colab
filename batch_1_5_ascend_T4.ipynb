{
  "cells": [
    {
      "cell_type": "markdown",
      "metadata": {
        "id": "view-in-github",
        "colab_type": "text"
      },
      "source": [
        "<a href=\"https://colab.research.google.com/github/fereidoon27/sample-colab/blob/main/batch_1_5_ascend_T4.ipynb\" target=\"_parent\"><img src=\"https://colab.research.google.com/assets/colab-badge.svg\" alt=\"Open In Colab\"/></a>"
      ]
    },
    {
      "cell_type": "code",
      "source": [
        "#@title Initialize_time\n",
        "import time\n",
        "\n",
        "# Initialize an empty file\n",
        "with open('/content/time_cell_batch.txt', 'w') as file:\n",
        "    file.write('')\n",
        "\n",
        "\n",
        "def log_execution_time(start_time, cell_title):\n",
        "    end_time = time.time()\n",
        "    execution_time = end_time - start_time\n",
        "\n",
        "    with open('/content/time_cell_batch.txt', 'a') as file:\n",
        "        file.write(f\"execution_time_{cell_title}, {execution_time}\\n\")\n",
        "\n",
        "from_beginning_to_end = \"Start_running_the_code\"\n",
        "code_start_time = time.time()"
      ],
      "metadata": {
        "id": "el4dU4_088Xh",
        "cellView": "form"
      },
      "execution_count": 1,
      "outputs": []
    },
    {
      "cell_type": "code",
      "execution_count": 2,
      "metadata": {
        "id": "Iu_wXmRquKlk",
        "cellView": "form"
      },
      "outputs": [],
      "source": [
        "#@title clone\n",
        "%%capture\n",
        "cell_title = \"clone\"\n",
        "start_time = time.time()\n",
        "\n",
        "!git clone https://github.com/Zuricho/ParallelFold.git\n",
        "!git clone https://github.com/fereidoon27/jaxalpha.git\n",
        "\n",
        "log_execution_time(start_time, cell_title)"
      ]
    },
    {
      "cell_type": "code",
      "execution_count": 3,
      "metadata": {
        "collapsed": true,
        "id": "71M2Wr3NuZfM",
        "cellView": "form"
      },
      "outputs": [],
      "source": [
        "#@title Miniconda\n",
        "%%capture\n",
        "cell_title = \"Miniconda\"\n",
        "start_time = time.time()\n",
        "\n",
        "# Install Miniconda\n",
        "!wget https://repo.anaconda.com/miniconda/Miniconda3-latest-Linux-x86_64.sh\n",
        "!chmod +x Miniconda3-latest-Linux-x86_64.sh\n",
        "!bash ./Miniconda3-latest-Linux-x86_64.sh -b -f -p /usr/local\n",
        "\n",
        "# Initialize Conda\n",
        "import sys\n",
        "sys.path.append('/usr/local/lib/python3.8/site-packages')\n",
        "\n",
        "# Configure conda\n",
        "!conda init bash\n",
        "!source ~/.bashrc\n",
        "\n",
        "# Update conda\n",
        "!conda update conda -y\n",
        "\n",
        "log_execution_time(start_time, cell_title)"
      ]
    },
    {
      "cell_type": "code",
      "execution_count": 4,
      "metadata": {
        "collapsed": true,
        "id": "lr6PZXRiufLc",
        "cellView": "form"
      },
      "outputs": [],
      "source": [
        "#@title parafold_env\n",
        "%%capture\n",
        "cell_title = \"parafold_env\"\n",
        "start_time = time.time()\n",
        "\n",
        "# Recommend you to use python 3.8, version < 3.7 have missing packages, python versions newer than 3.8 were not tested\n",
        "!conda create -n parafold python=3.8 -y\n",
        "\n",
        "log_execution_time(start_time, cell_title)"
      ]
    },
    {
      "cell_type": "code",
      "execution_count": 5,
      "metadata": {
        "id": "ag5mSJ5fvZRA",
        "cellView": "form"
      },
      "outputs": [],
      "source": [
        "#@title testing_activate_parafold\n",
        "%%capture\n",
        "cell_title = \"testing_activate_parafold\"\n",
        "start_time = time.time()\n",
        "\n",
        "!source activate parafold && { \\\n",
        "    echo \"Setting up the parafold environment\"; \\\n",
        "    echo \"Current Python version:\"; \\\n",
        "    python --version; \\\n",
        "    }\n",
        "\n",
        "log_execution_time(start_time, cell_title)"
      ]
    },
    {
      "cell_type": "code",
      "execution_count": 6,
      "metadata": {
        "id": "qw3B2zQgxgw1",
        "cellView": "form"
      },
      "outputs": [],
      "source": [
        "#@title install_py3dmol\n",
        "%%capture\n",
        "cell_title = \"install_py3dmol\"\n",
        "start_time = time.time()\n",
        "\n",
        "#install py3dmol\n",
        "!source activate parafold && pip install py3dmol\n",
        "\n",
        "log_execution_time(start_time, cell_title)"
      ]
    },
    {
      "cell_type": "code",
      "execution_count": 7,
      "metadata": {
        "collapsed": true,
        "id": "nhH-cpF51ao4",
        "cellView": "form"
      },
      "outputs": [],
      "source": [
        "#@title install_openmm\n",
        "%%capture\n",
        "cell_title = \"install_openmm\"\n",
        "start_time = time.time()\n",
        "\n",
        "# openmm 7.7 is recommended (original alphafold using 7.5.1, but it is not supported now)\n",
        "!source activate parafold && conda install -c conda-forge openmm=7.7 pdbfixer -y\n",
        "\n",
        "log_execution_time(start_time, cell_title)"
      ]
    },
    {
      "cell_type": "code",
      "execution_count": 8,
      "metadata": {
        "collapsed": true,
        "id": "uW7VE2hi1jwl",
        "cellView": "form"
      },
      "outputs": [],
      "source": [
        "#@title install_requirements\n",
        "%%capture\n",
        "cell_title = \"install_requirements\"\n",
        "start_time = time.time()\n",
        "\n",
        "%cd ParallelFold\n",
        "#install requirements\n",
        "!source activate parafold && pip3 install -r requirements.txt\n",
        "\n",
        "log_execution_time(start_time, cell_title)"
      ]
    },
    {
      "cell_type": "code",
      "execution_count": 9,
      "metadata": {
        "collapsed": true,
        "id": "1P1qlWikHrT4",
        "cellView": "form"
      },
      "outputs": [],
      "source": [
        "#@title install_cuda_and_cudnn\n",
        "%%capture\n",
        "cell_title = \"install_cuda_and_cudnn\"\n",
        "start_time = time.time()\n",
        "\n",
        "# cudatoolkit 11.3.1 matches cudnn 8.2.1\n",
        "!source activate parafold && echo 'y' | conda install cudatoolkit=11.3 cudnn -y\n",
        "\n",
        "log_execution_time(start_time, cell_title)"
      ]
    },
    {
      "cell_type": "code",
      "execution_count": 10,
      "metadata": {
        "collapsed": true,
        "id": "BdbRAX2JI44X",
        "cellView": "form"
      },
      "outputs": [],
      "source": [
        "#@title downgrade_jaxlib\n",
        "%%capture\n",
        "cell_title = \"downgrade_jaxlib\"\n",
        "start_time = time.time()\n",
        "\n",
        "# downgrade jaxlib to the correct version, matches with cuda and cudnn version\n",
        "!source activate parafold && pip3 install --upgrade --no-cache-dir jax==0.3.25 jaxlib==0.3.25+cuda11.cudnn82 -f https://storage.googleapis.com/jax-releases/jax_cuda_releases.html\n",
        "\n",
        "log_execution_time(start_time, cell_title)"
      ]
    },
    {
      "cell_type": "code",
      "execution_count": 11,
      "metadata": {
        "collapsed": true,
        "id": "-O_Df8cdJAKj",
        "cellView": "form"
      },
      "outputs": [],
      "source": [
        "#@title packages_for_MSA\n",
        "%%capture\n",
        "cell_title = \"packages_for_MSA\"\n",
        "start_time = time.time()\n",
        "\n",
        "# install packages for multiple sequence alignment\n",
        "!source activate parafold && conda install -c bioconda hmmer=3.3.2 hhsuite=3.3.0 kalign2=2.04 -y\n",
        "\n",
        "log_execution_time(start_time, cell_title)"
      ]
    },
    {
      "cell_type": "code",
      "execution_count": 12,
      "metadata": {
        "collapsed": true,
        "id": "zmue22y1c7LC",
        "cellView": "form"
      },
      "outputs": [],
      "source": [
        "#@title aria2\n",
        "%%capture\n",
        "cell_title = \"aria2\"\n",
        "start_time = time.time()\n",
        "\n",
        "!source activate parafold && conda install aria2 -y\n",
        "\n",
        "log_execution_time(start_time, cell_title)"
      ]
    },
    {
      "cell_type": "code",
      "source": [
        "#@title alphafold_params\n",
        "%%capture\n",
        "cell_title = \"alphafold_params\"\n",
        "start_time = time.time()\n",
        "\n",
        "!source activate parafold && bash /content/ParallelFold/scripts/download_alphafold_params.sh /content/ParallelFold\n",
        "\n",
        "log_execution_time(start_time, cell_title)"
      ],
      "metadata": {
        "id": "iglOn5cGF7gC",
        "cellView": "form"
      },
      "execution_count": 13,
      "outputs": []
    },
    {
      "cell_type": "code",
      "execution_count": 14,
      "metadata": {
        "collapsed": true,
        "id": "IOE5ESGGOaT5",
        "colab": {
          "base_uri": "https://localhost:8080/"
        },
        "outputId": "288c96de-a948-4670-d743-0436826de2f1"
      },
      "outputs": [
        {
          "output_type": "stream",
          "name": "stdout",
          "text": [
            "/content/ParallelFold\n"
          ]
        }
      ],
      "source": [
        "#@title directory\n",
        "!mv /content/jaxalpha/parjax_cla_multi_GoogleColab.py /content/ParallelFold\n",
        "%cd /content/ParallelFold/\n",
        "#!chmod +x parjax_cla_multi_GoogleColab.sh"
      ]
    },
    {
      "cell_type": "code",
      "source": [
        "cell_title = \"batch_1_5_ascend_T4\"\n",
        "start_time = time.time()"
      ],
      "metadata": {
        "id": "QzSv4dVwHnr1"
      },
      "execution_count": 15,
      "outputs": []
    },
    {
      "cell_type": "code",
      "execution_count": 16,
      "metadata": {
        "collapsed": true,
        "id": "HiqjNrx6jnLE",
        "colab": {
          "base_uri": "https://localhost:8080/"
        },
        "outputId": "46303269-62d5-4209-dafc-1582d33ee79a"
      },
      "outputs": [
        {
          "output_type": "stream",
          "name": "stderr",
          "text": [
            "I0715 09:19:43.310142 138021093316416 xla_bridge.py:353] Unable to initialize backend 'tpu_driver': NOT_FOUND: Unable to find driver in registry given worker: \n",
            "I0715 09:19:43.608749 138021093316416 xla_bridge.py:353] Unable to initialize backend 'rocm': NOT_FOUND: Could not find registered platform with name: \"rocm\". Available platform names are: Host CUDA Interpreter\n",
            "I0715 09:19:43.609205 138021093316416 xla_bridge.py:353] Unable to initialize backend 'tpu': module 'jaxlib.xla_extension' has no attribute 'get_tpu_client'\n",
            "I0715 09:19:43.609344 138021093316416 xla_bridge.py:353] Unable to initialize backend 'plugin': xla_extension has no attributes named get_plugin_device_client. Compile TensorFlow with //tensorflow/compiler/xla/python:enable_plugin_device set to true (defaults to false) to enable this.\n",
            "I0715 09:19:55.740241 138021093316416 parjax_cla_multi_GoogleColab.py:279] Have 5 models: ['model_1_pred_0', 'model_2_pred_0', 'model_3_pred_0', 'model_4_pred_0', 'model_5_pred_0']\n",
            "I0715 09:19:55.740463 138021093316416 parjax_cla_multi_GoogleColab.py:293] Using random seed 132215516691527186 for the data pipeline\n",
            "I0715 09:19:55.740784 138021093316416 parjax_cla_multi_GoogleColab.py:107] Predicting 2LHC\n",
            "I0715 09:19:55.744234 138021093316416 parjax_cla_multi_GoogleColab.py:132] Running model model_1_pred_0 on 2LHC\n",
            "W0715 09:19:56.633896 138021093316416 deprecation.py:350] From /usr/local/envs/parafold/lib/python3.8/site-packages/tensorflow/python/autograph/pyct/static_analysis/liveness.py:83: Analyzer.lamba_check (from tensorflow.python.autograph.pyct.static_analysis.liveness) is deprecated and will be removed after 2023-09-23.\n",
            "Instructions for updating:\n",
            "Lambda fuctions will be no more assumed to be used in the statement where they are used, or at least in the same block. https://github.com/tensorflow/tensorflow/issues/56089\n",
            "I0715 09:20:00.375856 138021093316416 model.py:165] Running predict with shape(feat) = {'aatype': (4, 56), 'residue_index': (4, 56), 'seq_length': (4,), 'template_aatype': (4, 4, 56), 'template_all_atom_masks': (4, 4, 56, 37), 'template_all_atom_positions': (4, 4, 56, 37, 3), 'template_sum_probs': (4, 4, 1), 'is_distillation': (4,), 'seq_mask': (4, 56), 'msa_mask': (4, 508, 56), 'msa_row_mask': (4, 508), 'random_crop_to_size_seed': (4, 2), 'template_mask': (4, 4), 'template_pseudo_beta': (4, 4, 56, 3), 'template_pseudo_beta_mask': (4, 4, 56), 'atom14_atom_exists': (4, 56, 14), 'residx_atom14_to_atom37': (4, 56, 14), 'residx_atom37_to_atom14': (4, 56, 37), 'atom37_atom_exists': (4, 56, 37), 'extra_msa': (4, 5120, 56), 'extra_msa_mask': (4, 5120, 56), 'extra_msa_row_mask': (4, 5120), 'bert_mask': (4, 508, 56), 'true_msa': (4, 508, 56), 'extra_has_deletion': (4, 5120, 56), 'extra_deletion_value': (4, 5120, 56), 'msa_feat': (4, 508, 56, 49), 'target_feat': (4, 56, 22)}\n",
            "I0715 09:23:32.380094 138021093316416 model.py:175] Output shape was {'distogram': {'bin_edges': (63,), 'logits': (56, 56, 64)}, 'experimentally_resolved': {'logits': (56, 37)}, 'masked_msa': {'logits': (508, 56, 23)}, 'predicted_lddt': {'logits': (56, 50)}, 'structure_module': {'final_atom_mask': (56, 37), 'final_atom_positions': (56, 37, 3)}, 'plddt': (56,), 'ranking_confidence': ()}\n",
            "I0715 09:23:32.380338 138021093316416 parjax_cla_multi_GoogleColab.py:144] Total JAX model model_1_pred_0 on 2LHC predict time (includes compilation time, see --benchmark): 212.0s\n",
            "I0715 09:23:32.393353 138021093316416 parjax_cla_multi_GoogleColab.py:132] Running model model_2_pred_0 on 2LHC\n",
            "I0715 09:23:34.399045 138021093316416 model.py:165] Running predict with shape(feat) = {'aatype': (4, 56), 'residue_index': (4, 56), 'seq_length': (4,), 'template_aatype': (4, 4, 56), 'template_all_atom_masks': (4, 4, 56, 37), 'template_all_atom_positions': (4, 4, 56, 37, 3), 'template_sum_probs': (4, 4, 1), 'is_distillation': (4,), 'seq_mask': (4, 56), 'msa_mask': (4, 508, 56), 'msa_row_mask': (4, 508), 'random_crop_to_size_seed': (4, 2), 'template_mask': (4, 4), 'template_pseudo_beta': (4, 4, 56, 3), 'template_pseudo_beta_mask': (4, 4, 56), 'atom14_atom_exists': (4, 56, 14), 'residx_atom14_to_atom37': (4, 56, 14), 'residx_atom37_to_atom14': (4, 56, 37), 'atom37_atom_exists': (4, 56, 37), 'extra_msa': (4, 1024, 56), 'extra_msa_mask': (4, 1024, 56), 'extra_msa_row_mask': (4, 1024), 'bert_mask': (4, 508, 56), 'true_msa': (4, 508, 56), 'extra_has_deletion': (4, 1024, 56), 'extra_deletion_value': (4, 1024, 56), 'msa_feat': (4, 508, 56, 49), 'target_feat': (4, 56, 22)}\n",
            "I0715 09:27:06.839472 138021093316416 model.py:175] Output shape was {'distogram': {'bin_edges': (63,), 'logits': (56, 56, 64)}, 'experimentally_resolved': {'logits': (56, 37)}, 'masked_msa': {'logits': (508, 56, 23)}, 'predicted_lddt': {'logits': (56, 50)}, 'structure_module': {'final_atom_mask': (56, 37), 'final_atom_positions': (56, 37, 3)}, 'plddt': (56,), 'ranking_confidence': ()}\n",
            "I0715 09:27:06.839814 138021093316416 parjax_cla_multi_GoogleColab.py:144] Total JAX model model_2_pred_0 on 2LHC predict time (includes compilation time, see --benchmark): 212.4s\n",
            "I0715 09:27:06.855614 138021093316416 parjax_cla_multi_GoogleColab.py:132] Running model model_3_pred_0 on 2LHC\n",
            "I0715 09:27:09.166687 138021093316416 model.py:165] Running predict with shape(feat) = {'aatype': (4, 56), 'residue_index': (4, 56), 'seq_length': (4,), 'is_distillation': (4,), 'seq_mask': (4, 56), 'msa_mask': (4, 512, 56), 'msa_row_mask': (4, 512), 'random_crop_to_size_seed': (4, 2), 'atom14_atom_exists': (4, 56, 14), 'residx_atom14_to_atom37': (4, 56, 14), 'residx_atom37_to_atom14': (4, 56, 37), 'atom37_atom_exists': (4, 56, 37), 'extra_msa': (4, 5120, 56), 'extra_msa_mask': (4, 5120, 56), 'extra_msa_row_mask': (4, 5120), 'bert_mask': (4, 512, 56), 'true_msa': (4, 512, 56), 'extra_has_deletion': (4, 5120, 56), 'extra_deletion_value': (4, 5120, 56), 'msa_feat': (4, 512, 56, 49), 'target_feat': (4, 56, 22)}\n",
            "I0715 09:30:06.995595 138021093316416 model.py:175] Output shape was {'distogram': {'bin_edges': (63,), 'logits': (56, 56, 64)}, 'experimentally_resolved': {'logits': (56, 37)}, 'masked_msa': {'logits': (512, 56, 23)}, 'predicted_lddt': {'logits': (56, 50)}, 'structure_module': {'final_atom_mask': (56, 37), 'final_atom_positions': (56, 37, 3)}, 'plddt': (56,), 'ranking_confidence': ()}\n",
            "I0715 09:30:06.995870 138021093316416 parjax_cla_multi_GoogleColab.py:144] Total JAX model model_3_pred_0 on 2LHC predict time (includes compilation time, see --benchmark): 177.8s\n",
            "I0715 09:30:07.008566 138021093316416 parjax_cla_multi_GoogleColab.py:132] Running model model_4_pred_0 on 2LHC\n",
            "I0715 09:30:08.767762 138021093316416 model.py:165] Running predict with shape(feat) = {'aatype': (4, 56), 'residue_index': (4, 56), 'seq_length': (4,), 'is_distillation': (4,), 'seq_mask': (4, 56), 'msa_mask': (4, 512, 56), 'msa_row_mask': (4, 512), 'random_crop_to_size_seed': (4, 2), 'atom14_atom_exists': (4, 56, 14), 'residx_atom14_to_atom37': (4, 56, 14), 'residx_atom37_to_atom14': (4, 56, 37), 'atom37_atom_exists': (4, 56, 37), 'extra_msa': (4, 5120, 56), 'extra_msa_mask': (4, 5120, 56), 'extra_msa_row_mask': (4, 5120), 'bert_mask': (4, 512, 56), 'true_msa': (4, 512, 56), 'extra_has_deletion': (4, 5120, 56), 'extra_deletion_value': (4, 5120, 56), 'msa_feat': (4, 512, 56, 49), 'target_feat': (4, 56, 22)}\n",
            "I0715 09:32:57.676570 138021093316416 model.py:175] Output shape was {'distogram': {'bin_edges': (63,), 'logits': (56, 56, 64)}, 'experimentally_resolved': {'logits': (56, 37)}, 'masked_msa': {'logits': (512, 56, 23)}, 'predicted_lddt': {'logits': (56, 50)}, 'structure_module': {'final_atom_mask': (56, 37), 'final_atom_positions': (56, 37, 3)}, 'plddt': (56,), 'ranking_confidence': ()}\n",
            "I0715 09:32:57.676887 138021093316416 parjax_cla_multi_GoogleColab.py:144] Total JAX model model_4_pred_0 on 2LHC predict time (includes compilation time, see --benchmark): 168.9s\n",
            "I0715 09:32:57.695725 138021093316416 parjax_cla_multi_GoogleColab.py:132] Running model model_5_pred_0 on 2LHC\n",
            "I0715 09:32:59.844080 138021093316416 model.py:165] Running predict with shape(feat) = {'aatype': (4, 56), 'residue_index': (4, 56), 'seq_length': (4,), 'is_distillation': (4,), 'seq_mask': (4, 56), 'msa_mask': (4, 512, 56), 'msa_row_mask': (4, 512), 'random_crop_to_size_seed': (4, 2), 'atom14_atom_exists': (4, 56, 14), 'residx_atom14_to_atom37': (4, 56, 14), 'residx_atom37_to_atom14': (4, 56, 37), 'atom37_atom_exists': (4, 56, 37), 'extra_msa': (4, 1024, 56), 'extra_msa_mask': (4, 1024, 56), 'extra_msa_row_mask': (4, 1024), 'bert_mask': (4, 512, 56), 'true_msa': (4, 512, 56), 'extra_has_deletion': (4, 1024, 56), 'extra_deletion_value': (4, 1024, 56), 'msa_feat': (4, 512, 56, 49), 'target_feat': (4, 56, 22)}\n",
            "I0715 09:35:58.149076 138021093316416 model.py:175] Output shape was {'distogram': {'bin_edges': (63,), 'logits': (56, 56, 64)}, 'experimentally_resolved': {'logits': (56, 37)}, 'masked_msa': {'logits': (512, 56, 23)}, 'predicted_lddt': {'logits': (56, 50)}, 'structure_module': {'final_atom_mask': (56, 37), 'final_atom_positions': (56, 37, 3)}, 'plddt': (56,), 'ranking_confidence': ()}\n",
            "I0715 09:35:58.149333 138021093316416 parjax_cla_multi_GoogleColab.py:144] Total JAX model model_5_pred_0 on 2LHC predict time (includes compilation time, see --benchmark): 178.3s\n",
            "W0715 09:35:58.352586 138021093316416 __init__.py:5] Warning: importing 'simtk.openmm' is deprecated.  Import 'openmm' instead.\n",
            "I0715 09:36:04.692095 138021093316416 amber_minimize.py:178] alterations info: {'nonstandard_residues': [], 'removed_heterogens': set(), 'missing_residues': {}, 'missing_heavy_atoms': {}, 'missing_terminals': {<Residue 55 (GLU) of chain 0>: ['OXT']}, 'Se_in_MET': [], 'removed_chains': {0: []}}\n",
            "I0715 09:36:04.756785 138021093316416 amber_minimize.py:408] Minimizing protein, attempt 1 of 100.\n",
            "I0715 09:36:04.935142 138021093316416 amber_minimize.py:69] Restraining 448 / 921 particles.\n",
            "I0715 09:36:06.791015 138021093316416 amber_minimize.py:178] alterations info: {'nonstandard_residues': [], 'removed_heterogens': set(), 'missing_residues': {}, 'missing_heavy_atoms': {}, 'missing_terminals': {}, 'Se_in_MET': [], 'removed_chains': {0: []}}\n",
            "I0715 09:36:09.184897 138021093316416 amber_minimize.py:500] Iteration completed: Einit 1839.15 Efinal -606.71 Time 1.59 s num residue violations 0 num residue exclusions 0 \n",
            "I0715 09:36:09.232454 138021093316416 parjax_cla_multi_GoogleColab.py:231] Final timings for 2LHC: {'process_features_model_1_pred_0': 4.631080627441406, 'predict_and_compile_model_1_pred_0': 212.0049078464508, 'process_features_model_2_pred_0': 2.0053040981292725, 'predict_and_compile_model_2_pred_0': 212.44099140167236, 'process_features_model_3_pred_0': 2.3106515407562256, 'predict_and_compile_model_3_pred_0': 177.8293981552124, 'process_features_model_4_pred_0': 1.7588322162628174, 'predict_and_compile_model_4_pred_0': 168.909321308136, 'process_features_model_5_pred_0': 2.1480016708374023, 'predict_and_compile_model_5_pred_0': 178.30543446540833, 'relax_model_4_pred_0': 11.069392681121826}\n",
            "I0715 09:36:09.233120 138021093316416 parjax_cla_multi_GoogleColab.py:308] 2LHC AlphaFold structure prediction COMPLETE\n",
            "I0715 09:36:09.233262 138021093316416 parjax_cla_multi_GoogleColab.py:107] Predicting 2LHG\n",
            "I0715 09:36:09.236351 138021093316416 parjax_cla_multi_GoogleColab.py:132] Running model model_1_pred_0 on 2LHG\n",
            "I0715 09:36:11.664122 138021093316416 model.py:165] Running predict with shape(feat) = {'aatype': (4, 56), 'residue_index': (4, 56), 'seq_length': (4,), 'template_aatype': (4, 4, 56), 'template_all_atom_masks': (4, 4, 56, 37), 'template_all_atom_positions': (4, 4, 56, 37, 3), 'template_sum_probs': (4, 4, 1), 'is_distillation': (4,), 'seq_mask': (4, 56), 'msa_mask': (4, 508, 56), 'msa_row_mask': (4, 508), 'random_crop_to_size_seed': (4, 2), 'template_mask': (4, 4), 'template_pseudo_beta': (4, 4, 56, 3), 'template_pseudo_beta_mask': (4, 4, 56), 'atom14_atom_exists': (4, 56, 14), 'residx_atom14_to_atom37': (4, 56, 14), 'residx_atom37_to_atom14': (4, 56, 37), 'atom37_atom_exists': (4, 56, 37), 'extra_msa': (4, 5120, 56), 'extra_msa_mask': (4, 5120, 56), 'extra_msa_row_mask': (4, 5120), 'bert_mask': (4, 508, 56), 'true_msa': (4, 508, 56), 'extra_has_deletion': (4, 5120, 56), 'extra_deletion_value': (4, 5120, 56), 'msa_feat': (4, 508, 56, 49), 'target_feat': (4, 56, 22)}\n",
            "I0715 09:36:27.043435 138021093316416 model.py:175] Output shape was {'distogram': {'bin_edges': (63,), 'logits': (56, 56, 64)}, 'experimentally_resolved': {'logits': (56, 37)}, 'masked_msa': {'logits': (508, 56, 23)}, 'predicted_lddt': {'logits': (56, 50)}, 'structure_module': {'final_atom_mask': (56, 37), 'final_atom_positions': (56, 37, 3)}, 'plddt': (56,), 'ranking_confidence': ()}\n",
            "I0715 09:36:27.043708 138021093316416 parjax_cla_multi_GoogleColab.py:144] Total JAX model model_1_pred_0 on 2LHG predict time (includes compilation time, see --benchmark): 15.4s\n",
            "I0715 09:36:27.056666 138021093316416 parjax_cla_multi_GoogleColab.py:132] Running model model_2_pred_0 on 2LHG\n",
            "I0715 09:36:29.117359 138021093316416 model.py:165] Running predict with shape(feat) = {'aatype': (4, 56), 'residue_index': (4, 56), 'seq_length': (4,), 'template_aatype': (4, 4, 56), 'template_all_atom_masks': (4, 4, 56, 37), 'template_all_atom_positions': (4, 4, 56, 37, 3), 'template_sum_probs': (4, 4, 1), 'is_distillation': (4,), 'seq_mask': (4, 56), 'msa_mask': (4, 508, 56), 'msa_row_mask': (4, 508), 'random_crop_to_size_seed': (4, 2), 'template_mask': (4, 4), 'template_pseudo_beta': (4, 4, 56, 3), 'template_pseudo_beta_mask': (4, 4, 56), 'atom14_atom_exists': (4, 56, 14), 'residx_atom14_to_atom37': (4, 56, 14), 'residx_atom37_to_atom14': (4, 56, 37), 'atom37_atom_exists': (4, 56, 37), 'extra_msa': (4, 1024, 56), 'extra_msa_mask': (4, 1024, 56), 'extra_msa_row_mask': (4, 1024), 'bert_mask': (4, 508, 56), 'true_msa': (4, 508, 56), 'extra_has_deletion': (4, 1024, 56), 'extra_deletion_value': (4, 1024, 56), 'msa_feat': (4, 508, 56, 49), 'target_feat': (4, 56, 22)}\n",
            "I0715 09:36:42.843993 138021093316416 model.py:175] Output shape was {'distogram': {'bin_edges': (63,), 'logits': (56, 56, 64)}, 'experimentally_resolved': {'logits': (56, 37)}, 'masked_msa': {'logits': (508, 56, 23)}, 'predicted_lddt': {'logits': (56, 50)}, 'structure_module': {'final_atom_mask': (56, 37), 'final_atom_positions': (56, 37, 3)}, 'plddt': (56,), 'ranking_confidence': ()}\n",
            "I0715 09:36:42.844221 138021093316416 parjax_cla_multi_GoogleColab.py:144] Total JAX model model_2_pred_0 on 2LHG predict time (includes compilation time, see --benchmark): 13.7s\n",
            "I0715 09:36:42.858253 138021093316416 parjax_cla_multi_GoogleColab.py:132] Running model model_3_pred_0 on 2LHG\n",
            "I0715 09:36:44.814531 138021093316416 model.py:165] Running predict with shape(feat) = {'aatype': (4, 56), 'residue_index': (4, 56), 'seq_length': (4,), 'is_distillation': (4,), 'seq_mask': (4, 56), 'msa_mask': (4, 512, 56), 'msa_row_mask': (4, 512), 'random_crop_to_size_seed': (4, 2), 'atom14_atom_exists': (4, 56, 14), 'residx_atom14_to_atom37': (4, 56, 14), 'residx_atom37_to_atom14': (4, 56, 37), 'atom37_atom_exists': (4, 56, 37), 'extra_msa': (4, 5120, 56), 'extra_msa_mask': (4, 5120, 56), 'extra_msa_row_mask': (4, 5120), 'bert_mask': (4, 512, 56), 'true_msa': (4, 512, 56), 'extra_has_deletion': (4, 5120, 56), 'extra_deletion_value': (4, 5120, 56), 'msa_feat': (4, 512, 56, 49), 'target_feat': (4, 56, 22)}\n",
            "I0715 09:37:00.189014 138021093316416 model.py:175] Output shape was {'distogram': {'bin_edges': (63,), 'logits': (56, 56, 64)}, 'experimentally_resolved': {'logits': (56, 37)}, 'masked_msa': {'logits': (512, 56, 23)}, 'predicted_lddt': {'logits': (56, 50)}, 'structure_module': {'final_atom_mask': (56, 37), 'final_atom_positions': (56, 37, 3)}, 'plddt': (56,), 'ranking_confidence': ()}\n",
            "I0715 09:37:00.189224 138021093316416 parjax_cla_multi_GoogleColab.py:144] Total JAX model model_3_pred_0 on 2LHG predict time (includes compilation time, see --benchmark): 15.4s\n",
            "I0715 09:37:00.201948 138021093316416 parjax_cla_multi_GoogleColab.py:132] Running model model_4_pred_0 on 2LHG\n",
            "I0715 09:37:01.788424 138021093316416 model.py:165] Running predict with shape(feat) = {'aatype': (4, 56), 'residue_index': (4, 56), 'seq_length': (4,), 'is_distillation': (4,), 'seq_mask': (4, 56), 'msa_mask': (4, 512, 56), 'msa_row_mask': (4, 512), 'random_crop_to_size_seed': (4, 2), 'atom14_atom_exists': (4, 56, 14), 'residx_atom14_to_atom37': (4, 56, 14), 'residx_atom37_to_atom14': (4, 56, 37), 'atom37_atom_exists': (4, 56, 37), 'extra_msa': (4, 5120, 56), 'extra_msa_mask': (4, 5120, 56), 'extra_msa_row_mask': (4, 5120), 'bert_mask': (4, 512, 56), 'true_msa': (4, 512, 56), 'extra_has_deletion': (4, 5120, 56), 'extra_deletion_value': (4, 5120, 56), 'msa_feat': (4, 512, 56, 49), 'target_feat': (4, 56, 22)}\n",
            "I0715 09:37:16.907308 138021093316416 model.py:175] Output shape was {'distogram': {'bin_edges': (63,), 'logits': (56, 56, 64)}, 'experimentally_resolved': {'logits': (56, 37)}, 'masked_msa': {'logits': (512, 56, 23)}, 'predicted_lddt': {'logits': (56, 50)}, 'structure_module': {'final_atom_mask': (56, 37), 'final_atom_positions': (56, 37, 3)}, 'plddt': (56,), 'ranking_confidence': ()}\n",
            "I0715 09:37:16.907673 138021093316416 parjax_cla_multi_GoogleColab.py:144] Total JAX model model_4_pred_0 on 2LHG predict time (includes compilation time, see --benchmark): 15.1s\n",
            "I0715 09:37:16.929822 138021093316416 parjax_cla_multi_GoogleColab.py:132] Running model model_5_pred_0 on 2LHG\n",
            "I0715 09:37:18.719476 138021093316416 model.py:165] Running predict with shape(feat) = {'aatype': (4, 56), 'residue_index': (4, 56), 'seq_length': (4,), 'is_distillation': (4,), 'seq_mask': (4, 56), 'msa_mask': (4, 512, 56), 'msa_row_mask': (4, 512), 'random_crop_to_size_seed': (4, 2), 'atom14_atom_exists': (4, 56, 14), 'residx_atom14_to_atom37': (4, 56, 14), 'residx_atom37_to_atom14': (4, 56, 37), 'atom37_atom_exists': (4, 56, 37), 'extra_msa': (4, 1024, 56), 'extra_msa_mask': (4, 1024, 56), 'extra_msa_row_mask': (4, 1024), 'bert_mask': (4, 512, 56), 'true_msa': (4, 512, 56), 'extra_has_deletion': (4, 1024, 56), 'extra_deletion_value': (4, 1024, 56), 'msa_feat': (4, 512, 56, 49), 'target_feat': (4, 56, 22)}\n",
            "I0715 09:37:32.131044 138021093316416 model.py:175] Output shape was {'distogram': {'bin_edges': (63,), 'logits': (56, 56, 64)}, 'experimentally_resolved': {'logits': (56, 37)}, 'masked_msa': {'logits': (512, 56, 23)}, 'predicted_lddt': {'logits': (56, 50)}, 'structure_module': {'final_atom_mask': (56, 37), 'final_atom_positions': (56, 37, 3)}, 'plddt': (56,), 'ranking_confidence': ()}\n",
            "I0715 09:37:32.131243 138021093316416 parjax_cla_multi_GoogleColab.py:144] Total JAX model model_5_pred_0 on 2LHG predict time (includes compilation time, see --benchmark): 13.4s\n",
            "I0715 09:37:36.117611 138021093316416 amber_minimize.py:178] alterations info: {'nonstandard_residues': [], 'removed_heterogens': set(), 'missing_residues': {}, 'missing_heavy_atoms': {}, 'missing_terminals': {<Residue 55 (GLU) of chain 0>: ['OXT']}, 'Se_in_MET': [], 'removed_chains': {0: []}}\n",
            "I0715 09:37:36.183663 138021093316416 amber_minimize.py:408] Minimizing protein, attempt 1 of 100.\n",
            "I0715 09:37:36.466337 138021093316416 amber_minimize.py:69] Restraining 453 / 928 particles.\n",
            "I0715 09:37:38.217022 138021093316416 amber_minimize.py:178] alterations info: {'nonstandard_residues': [], 'removed_heterogens': set(), 'missing_residues': {}, 'missing_heavy_atoms': {}, 'missing_terminals': {}, 'Se_in_MET': [], 'removed_chains': {0: []}}\n",
            "I0715 09:37:38.315780 138021093316416 amber_minimize.py:500] Iteration completed: Einit 5129526.77 Efinal -513.24 Time 1.56 s num residue violations 0 num residue exclusions 0 \n",
            "I0715 09:37:38.345366 138021093316416 parjax_cla_multi_GoogleColab.py:231] Final timings for 2LHG: {'process_features_model_1_pred_0': 2.4262309074401855, 'predict_and_compile_model_1_pred_0': 15.380933046340942, 'process_features_model_2_pred_0': 2.06002140045166, 'predict_and_compile_model_2_pred_0': 13.727370023727417, 'process_features_model_3_pred_0': 1.9560012817382812, 'predict_and_compile_model_3_pred_0': 15.374828338623047, 'process_features_model_4_pred_0': 1.5861952304840088, 'predict_and_compile_model_4_pred_0': 15.119357109069824, 'process_features_model_5_pred_0': 1.7892606258392334, 'predict_and_compile_model_5_pred_0': 13.411916971206665, 'relax_model_4_pred_0': 6.200720310211182}\n",
            "I0715 09:37:38.345991 138021093316416 parjax_cla_multi_GoogleColab.py:308] 2LHG AlphaFold structure prediction COMPLETE\n",
            "I0715 09:37:38.346113 138021093316416 parjax_cla_multi_GoogleColab.py:107] Predicting 2LHE\n",
            "I0715 09:37:38.349273 138021093316416 parjax_cla_multi_GoogleColab.py:132] Running model model_1_pred_0 on 2LHE\n",
            "I0715 09:37:40.423351 138021093316416 model.py:165] Running predict with shape(feat) = {'aatype': (4, 56), 'residue_index': (4, 56), 'seq_length': (4,), 'template_aatype': (4, 4, 56), 'template_all_atom_masks': (4, 4, 56, 37), 'template_all_atom_positions': (4, 4, 56, 37, 3), 'template_sum_probs': (4, 4, 1), 'is_distillation': (4,), 'seq_mask': (4, 56), 'msa_mask': (4, 508, 56), 'msa_row_mask': (4, 508), 'random_crop_to_size_seed': (4, 2), 'template_mask': (4, 4), 'template_pseudo_beta': (4, 4, 56, 3), 'template_pseudo_beta_mask': (4, 4, 56), 'atom14_atom_exists': (4, 56, 14), 'residx_atom14_to_atom37': (4, 56, 14), 'residx_atom37_to_atom14': (4, 56, 37), 'atom37_atom_exists': (4, 56, 37), 'extra_msa': (4, 5120, 56), 'extra_msa_mask': (4, 5120, 56), 'extra_msa_row_mask': (4, 5120), 'bert_mask': (4, 508, 56), 'true_msa': (4, 508, 56), 'extra_has_deletion': (4, 5120, 56), 'extra_deletion_value': (4, 5120, 56), 'msa_feat': (4, 508, 56, 49), 'target_feat': (4, 56, 22)}\n",
            "I0715 09:37:55.818426 138021093316416 model.py:175] Output shape was {'distogram': {'bin_edges': (63,), 'logits': (56, 56, 64)}, 'experimentally_resolved': {'logits': (56, 37)}, 'masked_msa': {'logits': (508, 56, 23)}, 'predicted_lddt': {'logits': (56, 50)}, 'structure_module': {'final_atom_mask': (56, 37), 'final_atom_positions': (56, 37, 3)}, 'plddt': (56,), 'ranking_confidence': ()}\n",
            "I0715 09:37:55.818698 138021093316416 parjax_cla_multi_GoogleColab.py:144] Total JAX model model_1_pred_0 on 2LHE predict time (includes compilation time, see --benchmark): 15.4s\n",
            "I0715 09:37:55.838177 138021093316416 parjax_cla_multi_GoogleColab.py:132] Running model model_2_pred_0 on 2LHE\n",
            "I0715 09:37:58.113078 138021093316416 model.py:165] Running predict with shape(feat) = {'aatype': (4, 56), 'residue_index': (4, 56), 'seq_length': (4,), 'template_aatype': (4, 4, 56), 'template_all_atom_masks': (4, 4, 56, 37), 'template_all_atom_positions': (4, 4, 56, 37, 3), 'template_sum_probs': (4, 4, 1), 'is_distillation': (4,), 'seq_mask': (4, 56), 'msa_mask': (4, 508, 56), 'msa_row_mask': (4, 508), 'random_crop_to_size_seed': (4, 2), 'template_mask': (4, 4), 'template_pseudo_beta': (4, 4, 56, 3), 'template_pseudo_beta_mask': (4, 4, 56), 'atom14_atom_exists': (4, 56, 14), 'residx_atom14_to_atom37': (4, 56, 14), 'residx_atom37_to_atom14': (4, 56, 37), 'atom37_atom_exists': (4, 56, 37), 'extra_msa': (4, 1024, 56), 'extra_msa_mask': (4, 1024, 56), 'extra_msa_row_mask': (4, 1024), 'bert_mask': (4, 508, 56), 'true_msa': (4, 508, 56), 'extra_has_deletion': (4, 1024, 56), 'extra_deletion_value': (4, 1024, 56), 'msa_feat': (4, 508, 56, 49), 'target_feat': (4, 56, 22)}\n",
            "I0715 09:38:11.887989 138021093316416 model.py:175] Output shape was {'distogram': {'bin_edges': (63,), 'logits': (56, 56, 64)}, 'experimentally_resolved': {'logits': (56, 37)}, 'masked_msa': {'logits': (508, 56, 23)}, 'predicted_lddt': {'logits': (56, 50)}, 'structure_module': {'final_atom_mask': (56, 37), 'final_atom_positions': (56, 37, 3)}, 'plddt': (56,), 'ranking_confidence': ()}\n",
            "I0715 09:38:11.888269 138021093316416 parjax_cla_multi_GoogleColab.py:144] Total JAX model model_2_pred_0 on 2LHE predict time (includes compilation time, see --benchmark): 13.8s\n",
            "I0715 09:38:11.900997 138021093316416 parjax_cla_multi_GoogleColab.py:132] Running model model_3_pred_0 on 2LHE\n",
            "I0715 09:38:13.435219 138021093316416 model.py:165] Running predict with shape(feat) = {'aatype': (4, 56), 'residue_index': (4, 56), 'seq_length': (4,), 'is_distillation': (4,), 'seq_mask': (4, 56), 'msa_mask': (4, 512, 56), 'msa_row_mask': (4, 512), 'random_crop_to_size_seed': (4, 2), 'atom14_atom_exists': (4, 56, 14), 'residx_atom14_to_atom37': (4, 56, 14), 'residx_atom37_to_atom14': (4, 56, 37), 'atom37_atom_exists': (4, 56, 37), 'extra_msa': (4, 5120, 56), 'extra_msa_mask': (4, 5120, 56), 'extra_msa_row_mask': (4, 5120), 'bert_mask': (4, 512, 56), 'true_msa': (4, 512, 56), 'extra_has_deletion': (4, 5120, 56), 'extra_deletion_value': (4, 5120, 56), 'msa_feat': (4, 512, 56, 49), 'target_feat': (4, 56, 22)}\n",
            "I0715 09:38:28.682314 138021093316416 model.py:175] Output shape was {'distogram': {'bin_edges': (63,), 'logits': (56, 56, 64)}, 'experimentally_resolved': {'logits': (56, 37)}, 'masked_msa': {'logits': (512, 56, 23)}, 'predicted_lddt': {'logits': (56, 50)}, 'structure_module': {'final_atom_mask': (56, 37), 'final_atom_positions': (56, 37, 3)}, 'plddt': (56,), 'ranking_confidence': ()}\n",
            "I0715 09:38:28.682525 138021093316416 parjax_cla_multi_GoogleColab.py:144] Total JAX model model_3_pred_0 on 2LHE predict time (includes compilation time, see --benchmark): 15.2s\n",
            "I0715 09:38:28.695480 138021093316416 parjax_cla_multi_GoogleColab.py:132] Running model model_4_pred_0 on 2LHE\n",
            "I0715 09:38:30.245250 138021093316416 model.py:165] Running predict with shape(feat) = {'aatype': (4, 56), 'residue_index': (4, 56), 'seq_length': (4,), 'is_distillation': (4,), 'seq_mask': (4, 56), 'msa_mask': (4, 512, 56), 'msa_row_mask': (4, 512), 'random_crop_to_size_seed': (4, 2), 'atom14_atom_exists': (4, 56, 14), 'residx_atom14_to_atom37': (4, 56, 14), 'residx_atom37_to_atom14': (4, 56, 37), 'atom37_atom_exists': (4, 56, 37), 'extra_msa': (4, 5120, 56), 'extra_msa_mask': (4, 5120, 56), 'extra_msa_row_mask': (4, 5120), 'bert_mask': (4, 512, 56), 'true_msa': (4, 512, 56), 'extra_has_deletion': (4, 5120, 56), 'extra_deletion_value': (4, 5120, 56), 'msa_feat': (4, 512, 56, 49), 'target_feat': (4, 56, 22)}\n",
            "I0715 09:38:45.367114 138021093316416 model.py:175] Output shape was {'distogram': {'bin_edges': (63,), 'logits': (56, 56, 64)}, 'experimentally_resolved': {'logits': (56, 37)}, 'masked_msa': {'logits': (512, 56, 23)}, 'predicted_lddt': {'logits': (56, 50)}, 'structure_module': {'final_atom_mask': (56, 37), 'final_atom_positions': (56, 37, 3)}, 'plddt': (56,), 'ranking_confidence': ()}\n",
            "I0715 09:38:45.367340 138021093316416 parjax_cla_multi_GoogleColab.py:144] Total JAX model model_4_pred_0 on 2LHE predict time (includes compilation time, see --benchmark): 15.1s\n",
            "I0715 09:38:45.387152 138021093316416 parjax_cla_multi_GoogleColab.py:132] Running model model_5_pred_0 on 2LHE\n",
            "I0715 09:38:47.458693 138021093316416 model.py:165] Running predict with shape(feat) = {'aatype': (4, 56), 'residue_index': (4, 56), 'seq_length': (4,), 'is_distillation': (4,), 'seq_mask': (4, 56), 'msa_mask': (4, 512, 56), 'msa_row_mask': (4, 512), 'random_crop_to_size_seed': (4, 2), 'atom14_atom_exists': (4, 56, 14), 'residx_atom14_to_atom37': (4, 56, 14), 'residx_atom37_to_atom14': (4, 56, 37), 'atom37_atom_exists': (4, 56, 37), 'extra_msa': (4, 1024, 56), 'extra_msa_mask': (4, 1024, 56), 'extra_msa_row_mask': (4, 1024), 'bert_mask': (4, 512, 56), 'true_msa': (4, 512, 56), 'extra_has_deletion': (4, 1024, 56), 'extra_deletion_value': (4, 1024, 56), 'msa_feat': (4, 512, 56, 49), 'target_feat': (4, 56, 22)}\n",
            "I0715 09:39:00.890172 138021093316416 model.py:175] Output shape was {'distogram': {'bin_edges': (63,), 'logits': (56, 56, 64)}, 'experimentally_resolved': {'logits': (56, 37)}, 'masked_msa': {'logits': (512, 56, 23)}, 'predicted_lddt': {'logits': (56, 50)}, 'structure_module': {'final_atom_mask': (56, 37), 'final_atom_positions': (56, 37, 3)}, 'plddt': (56,), 'ranking_confidence': ()}\n",
            "I0715 09:39:00.890378 138021093316416 parjax_cla_multi_GoogleColab.py:144] Total JAX model model_5_pred_0 on 2LHE predict time (includes compilation time, see --benchmark): 13.4s\n",
            "I0715 09:39:04.946904 138021093316416 amber_minimize.py:178] alterations info: {'nonstandard_residues': [], 'removed_heterogens': set(), 'missing_residues': {}, 'missing_heavy_atoms': {}, 'missing_terminals': {<Residue 55 (GLU) of chain 0>: ['OXT']}, 'Se_in_MET': [], 'removed_chains': {0: []}}\n",
            "I0715 09:39:05.013047 138021093316416 amber_minimize.py:408] Minimizing protein, attempt 1 of 100.\n",
            "I0715 09:39:05.288833 138021093316416 amber_minimize.py:69] Restraining 450 / 919 particles.\n",
            "I0715 09:39:06.992959 138021093316416 amber_minimize.py:178] alterations info: {'nonstandard_residues': [], 'removed_heterogens': set(), 'missing_residues': {}, 'missing_heavy_atoms': {}, 'missing_terminals': {}, 'Se_in_MET': [], 'removed_chains': {0: []}}\n",
            "I0715 09:39:07.225589 138021093316416 amber_minimize.py:500] Iteration completed: Einit 1198.33 Efinal -1021.02 Time 1.53 s num residue violations 0 num residue exclusions 0 \n",
            "I0715 09:39:07.270040 138021093316416 parjax_cla_multi_GoogleColab.py:231] Final timings for 2LHE: {'process_features_model_1_pred_0': 2.0726754665374756, 'predict_and_compile_model_1_pred_0': 15.396628141403198, 'process_features_model_2_pred_0': 2.2734932899475098, 'predict_and_compile_model_2_pred_0': 13.776434183120728, 'process_features_model_3_pred_0': 1.5339465141296387, 'predict_and_compile_model_3_pred_0': 15.247440576553345, 'process_features_model_4_pred_0': 1.5494837760925293, 'predict_and_compile_model_4_pred_0': 15.12223196029663, 'process_features_model_5_pred_0': 2.0712170600891113, 'predict_and_compile_model_5_pred_0': 13.431844234466553, 'relax_model_5_pred_0': 6.365935802459717}\n",
            "I0715 09:39:07.270679 138021093316416 parjax_cla_multi_GoogleColab.py:308] 2LHE AlphaFold structure prediction COMPLETE\n",
            "I0715 09:39:07.270812 138021093316416 parjax_cla_multi_GoogleColab.py:107] Predicting 2LHD\n",
            "I0715 09:39:07.273946 138021093316416 parjax_cla_multi_GoogleColab.py:132] Running model model_1_pred_0 on 2LHD\n",
            "I0715 09:39:09.383883 138021093316416 model.py:165] Running predict with shape(feat) = {'aatype': (4, 56), 'residue_index': (4, 56), 'seq_length': (4,), 'template_aatype': (4, 4, 56), 'template_all_atom_masks': (4, 4, 56, 37), 'template_all_atom_positions': (4, 4, 56, 37, 3), 'template_sum_probs': (4, 4, 1), 'is_distillation': (4,), 'seq_mask': (4, 56), 'msa_mask': (4, 508, 56), 'msa_row_mask': (4, 508), 'random_crop_to_size_seed': (4, 2), 'template_mask': (4, 4), 'template_pseudo_beta': (4, 4, 56, 3), 'template_pseudo_beta_mask': (4, 4, 56), 'atom14_atom_exists': (4, 56, 14), 'residx_atom14_to_atom37': (4, 56, 14), 'residx_atom37_to_atom14': (4, 56, 37), 'atom37_atom_exists': (4, 56, 37), 'extra_msa': (4, 5120, 56), 'extra_msa_mask': (4, 5120, 56), 'extra_msa_row_mask': (4, 5120), 'bert_mask': (4, 508, 56), 'true_msa': (4, 508, 56), 'extra_has_deletion': (4, 5120, 56), 'extra_deletion_value': (4, 5120, 56), 'msa_feat': (4, 508, 56, 49), 'target_feat': (4, 56, 22)}\n",
            "I0715 09:39:24.815056 138021093316416 model.py:175] Output shape was {'distogram': {'bin_edges': (63,), 'logits': (56, 56, 64)}, 'experimentally_resolved': {'logits': (56, 37)}, 'masked_msa': {'logits': (508, 56, 23)}, 'predicted_lddt': {'logits': (56, 50)}, 'structure_module': {'final_atom_mask': (56, 37), 'final_atom_positions': (56, 37, 3)}, 'plddt': (56,), 'ranking_confidence': ()}\n",
            "I0715 09:39:24.815303 138021093316416 parjax_cla_multi_GoogleColab.py:144] Total JAX model model_1_pred_0 on 2LHD predict time (includes compilation time, see --benchmark): 15.4s\n",
            "I0715 09:39:24.836254 138021093316416 parjax_cla_multi_GoogleColab.py:132] Running model model_2_pred_0 on 2LHD\n",
            "I0715 09:39:27.161544 138021093316416 model.py:165] Running predict with shape(feat) = {'aatype': (4, 56), 'residue_index': (4, 56), 'seq_length': (4,), 'template_aatype': (4, 4, 56), 'template_all_atom_masks': (4, 4, 56, 37), 'template_all_atom_positions': (4, 4, 56, 37, 3), 'template_sum_probs': (4, 4, 1), 'is_distillation': (4,), 'seq_mask': (4, 56), 'msa_mask': (4, 508, 56), 'msa_row_mask': (4, 508), 'random_crop_to_size_seed': (4, 2), 'template_mask': (4, 4), 'template_pseudo_beta': (4, 4, 56, 3), 'template_pseudo_beta_mask': (4, 4, 56), 'atom14_atom_exists': (4, 56, 14), 'residx_atom14_to_atom37': (4, 56, 14), 'residx_atom37_to_atom14': (4, 56, 37), 'atom37_atom_exists': (4, 56, 37), 'extra_msa': (4, 1024, 56), 'extra_msa_mask': (4, 1024, 56), 'extra_msa_row_mask': (4, 1024), 'bert_mask': (4, 508, 56), 'true_msa': (4, 508, 56), 'extra_has_deletion': (4, 1024, 56), 'extra_deletion_value': (4, 1024, 56), 'msa_feat': (4, 508, 56, 49), 'target_feat': (4, 56, 22)}\n",
            "I0715 09:39:40.903557 138021093316416 model.py:175] Output shape was {'distogram': {'bin_edges': (63,), 'logits': (56, 56, 64)}, 'experimentally_resolved': {'logits': (56, 37)}, 'masked_msa': {'logits': (508, 56, 23)}, 'predicted_lddt': {'logits': (56, 50)}, 'structure_module': {'final_atom_mask': (56, 37), 'final_atom_positions': (56, 37, 3)}, 'plddt': (56,), 'ranking_confidence': ()}\n",
            "I0715 09:39:40.903831 138021093316416 parjax_cla_multi_GoogleColab.py:144] Total JAX model model_2_pred_0 on 2LHD predict time (includes compilation time, see --benchmark): 13.7s\n",
            "I0715 09:39:40.917110 138021093316416 parjax_cla_multi_GoogleColab.py:132] Running model model_3_pred_0 on 2LHD\n",
            "I0715 09:39:42.428725 138021093316416 model.py:165] Running predict with shape(feat) = {'aatype': (4, 56), 'residue_index': (4, 56), 'seq_length': (4,), 'is_distillation': (4,), 'seq_mask': (4, 56), 'msa_mask': (4, 512, 56), 'msa_row_mask': (4, 512), 'random_crop_to_size_seed': (4, 2), 'atom14_atom_exists': (4, 56, 14), 'residx_atom14_to_atom37': (4, 56, 14), 'residx_atom37_to_atom14': (4, 56, 37), 'atom37_atom_exists': (4, 56, 37), 'extra_msa': (4, 5120, 56), 'extra_msa_mask': (4, 5120, 56), 'extra_msa_row_mask': (4, 5120), 'bert_mask': (4, 512, 56), 'true_msa': (4, 512, 56), 'extra_has_deletion': (4, 5120, 56), 'extra_deletion_value': (4, 5120, 56), 'msa_feat': (4, 512, 56, 49), 'target_feat': (4, 56, 22)}\n",
            "I0715 09:39:57.697978 138021093316416 model.py:175] Output shape was {'distogram': {'bin_edges': (63,), 'logits': (56, 56, 64)}, 'experimentally_resolved': {'logits': (56, 37)}, 'masked_msa': {'logits': (512, 56, 23)}, 'predicted_lddt': {'logits': (56, 50)}, 'structure_module': {'final_atom_mask': (56, 37), 'final_atom_positions': (56, 37, 3)}, 'plddt': (56,), 'ranking_confidence': ()}\n",
            "I0715 09:39:57.698179 138021093316416 parjax_cla_multi_GoogleColab.py:144] Total JAX model model_3_pred_0 on 2LHD predict time (includes compilation time, see --benchmark): 15.3s\n",
            "I0715 09:39:57.710481 138021093316416 parjax_cla_multi_GoogleColab.py:132] Running model model_4_pred_0 on 2LHD\n",
            "I0715 09:39:59.655831 138021093316416 model.py:165] Running predict with shape(feat) = {'aatype': (4, 56), 'residue_index': (4, 56), 'seq_length': (4,), 'is_distillation': (4,), 'seq_mask': (4, 56), 'msa_mask': (4, 512, 56), 'msa_row_mask': (4, 512), 'random_crop_to_size_seed': (4, 2), 'atom14_atom_exists': (4, 56, 14), 'residx_atom14_to_atom37': (4, 56, 14), 'residx_atom37_to_atom14': (4, 56, 37), 'atom37_atom_exists': (4, 56, 37), 'extra_msa': (4, 5120, 56), 'extra_msa_mask': (4, 5120, 56), 'extra_msa_row_mask': (4, 5120), 'bert_mask': (4, 512, 56), 'true_msa': (4, 512, 56), 'extra_has_deletion': (4, 5120, 56), 'extra_deletion_value': (4, 5120, 56), 'msa_feat': (4, 512, 56, 49), 'target_feat': (4, 56, 22)}\n",
            "I0715 09:40:14.928370 138021093316416 model.py:175] Output shape was {'distogram': {'bin_edges': (63,), 'logits': (56, 56, 64)}, 'experimentally_resolved': {'logits': (56, 37)}, 'masked_msa': {'logits': (512, 56, 23)}, 'predicted_lddt': {'logits': (56, 50)}, 'structure_module': {'final_atom_mask': (56, 37), 'final_atom_positions': (56, 37, 3)}, 'plddt': (56,), 'ranking_confidence': ()}\n",
            "I0715 09:40:14.928613 138021093316416 parjax_cla_multi_GoogleColab.py:144] Total JAX model model_4_pred_0 on 2LHD predict time (includes compilation time, see --benchmark): 15.3s\n",
            "I0715 09:40:14.947337 138021093316416 parjax_cla_multi_GoogleColab.py:132] Running model model_5_pred_0 on 2LHD\n",
            "I0715 09:40:17.158389 138021093316416 model.py:165] Running predict with shape(feat) = {'aatype': (4, 56), 'residue_index': (4, 56), 'seq_length': (4,), 'is_distillation': (4,), 'seq_mask': (4, 56), 'msa_mask': (4, 512, 56), 'msa_row_mask': (4, 512), 'random_crop_to_size_seed': (4, 2), 'atom14_atom_exists': (4, 56, 14), 'residx_atom14_to_atom37': (4, 56, 14), 'residx_atom37_to_atom14': (4, 56, 37), 'atom37_atom_exists': (4, 56, 37), 'extra_msa': (4, 1024, 56), 'extra_msa_mask': (4, 1024, 56), 'extra_msa_row_mask': (4, 1024), 'bert_mask': (4, 512, 56), 'true_msa': (4, 512, 56), 'extra_has_deletion': (4, 1024, 56), 'extra_deletion_value': (4, 1024, 56), 'msa_feat': (4, 512, 56, 49), 'target_feat': (4, 56, 22)}\n",
            "I0715 09:40:30.594465 138021093316416 model.py:175] Output shape was {'distogram': {'bin_edges': (63,), 'logits': (56, 56, 64)}, 'experimentally_resolved': {'logits': (56, 37)}, 'masked_msa': {'logits': (512, 56, 23)}, 'predicted_lddt': {'logits': (56, 50)}, 'structure_module': {'final_atom_mask': (56, 37), 'final_atom_positions': (56, 37, 3)}, 'plddt': (56,), 'ranking_confidence': ()}\n",
            "I0715 09:40:30.594694 138021093316416 parjax_cla_multi_GoogleColab.py:144] Total JAX model model_5_pred_0 on 2LHD predict time (includes compilation time, see --benchmark): 13.4s\n",
            "I0715 09:40:33.927331 138021093316416 amber_minimize.py:178] alterations info: {'nonstandard_residues': [], 'removed_heterogens': set(), 'missing_residues': {}, 'missing_heavy_atoms': {}, 'missing_terminals': {<Residue 55 (GLU) of chain 0>: ['OXT']}, 'Se_in_MET': [], 'removed_chains': {0: []}}\n",
            "I0715 09:40:34.235047 138021093316416 amber_minimize.py:408] Minimizing protein, attempt 1 of 100.\n",
            "I0715 09:40:34.383772 138021093316416 amber_minimize.py:69] Restraining 452 / 923 particles.\n",
            "I0715 09:40:36.251148 138021093316416 amber_minimize.py:178] alterations info: {'nonstandard_residues': [], 'removed_heterogens': set(), 'missing_residues': {}, 'missing_heavy_atoms': {}, 'missing_terminals': {}, 'Se_in_MET': [], 'removed_chains': {0: []}}\n",
            "I0715 09:40:36.362962 138021093316416 amber_minimize.py:500] Iteration completed: Einit 1976.01 Efinal -858.34 Time 1.43 s num residue violations 0 num residue exclusions 0 \n",
            "I0715 09:40:36.395330 138021093316416 parjax_cla_multi_GoogleColab.py:231] Final timings for 2LHD: {'process_features_model_1_pred_0': 2.1084988117218018, 'predict_and_compile_model_1_pred_0': 15.432710886001587, 'process_features_model_2_pred_0': 2.324627161026001, 'predict_and_compile_model_2_pred_0': 13.742760181427002, 'process_features_model_3_pred_0': 1.5113165378570557, 'predict_and_compile_model_3_pred_0': 15.269609928131104, 'process_features_model_4_pred_0': 1.945084571838379, 'predict_and_compile_model_4_pred_0': 15.272910356521606, 'process_features_model_5_pred_0': 2.2106997966766357, 'predict_and_compile_model_5_pred_0': 13.436472177505493, 'relax_model_5_pred_0': 5.786889553070068}\n",
            "I0715 09:40:36.398176 138021093316416 parjax_cla_multi_GoogleColab.py:308] 2LHD AlphaFold structure prediction COMPLETE\n",
            "I0715 09:40:36.398313 138021093316416 parjax_cla_multi_GoogleColab.py:107] Predicting 6UF2\n",
            "I0715 09:40:36.403173 138021093316416 parjax_cla_multi_GoogleColab.py:132] Running model model_1_pred_0 on 6UF2\n",
            "I0715 09:40:38.651073 138021093316416 model.py:165] Running predict with shape(feat) = {'aatype': (4, 125), 'residue_index': (4, 125), 'seq_length': (4,), 'template_aatype': (4, 4, 125), 'template_all_atom_masks': (4, 4, 125, 37), 'template_all_atom_positions': (4, 4, 125, 37, 3), 'template_sum_probs': (4, 4, 1), 'is_distillation': (4,), 'seq_mask': (4, 125), 'msa_mask': (4, 508, 125), 'msa_row_mask': (4, 508), 'random_crop_to_size_seed': (4, 2), 'template_mask': (4, 4), 'template_pseudo_beta': (4, 4, 125, 3), 'template_pseudo_beta_mask': (4, 4, 125), 'atom14_atom_exists': (4, 125, 14), 'residx_atom14_to_atom37': (4, 125, 14), 'residx_atom37_to_atom14': (4, 125, 37), 'atom37_atom_exists': (4, 125, 37), 'extra_msa': (4, 5120, 125), 'extra_msa_mask': (4, 5120, 125), 'extra_msa_row_mask': (4, 5120), 'bert_mask': (4, 508, 125), 'true_msa': (4, 508, 125), 'extra_has_deletion': (4, 5120, 125), 'extra_deletion_value': (4, 5120, 125), 'msa_feat': (4, 508, 125, 49), 'target_feat': (4, 125, 22)}\n",
            "I0715 09:44:53.769438 138021093316416 model.py:175] Output shape was {'distogram': {'bin_edges': (63,), 'logits': (125, 125, 64)}, 'experimentally_resolved': {'logits': (125, 37)}, 'masked_msa': {'logits': (508, 125, 23)}, 'predicted_lddt': {'logits': (125, 50)}, 'structure_module': {'final_atom_mask': (125, 37), 'final_atom_positions': (125, 37, 3)}, 'plddt': (125,), 'ranking_confidence': ()}\n",
            "I0715 09:44:53.769722 138021093316416 parjax_cla_multi_GoogleColab.py:144] Total JAX model model_1_pred_0 on 6UF2 predict time (includes compilation time, see --benchmark): 255.1s\n",
            "I0715 09:44:53.799432 138021093316416 parjax_cla_multi_GoogleColab.py:132] Running model model_2_pred_0 on 6UF2\n",
            "I0715 09:44:56.081921 138021093316416 model.py:165] Running predict with shape(feat) = {'aatype': (4, 125), 'residue_index': (4, 125), 'seq_length': (4,), 'template_aatype': (4, 4, 125), 'template_all_atom_masks': (4, 4, 125, 37), 'template_all_atom_positions': (4, 4, 125, 37, 3), 'template_sum_probs': (4, 4, 1), 'is_distillation': (4,), 'seq_mask': (4, 125), 'msa_mask': (4, 508, 125), 'msa_row_mask': (4, 508), 'random_crop_to_size_seed': (4, 2), 'template_mask': (4, 4), 'template_pseudo_beta': (4, 4, 125, 3), 'template_pseudo_beta_mask': (4, 4, 125), 'atom14_atom_exists': (4, 125, 14), 'residx_atom14_to_atom37': (4, 125, 14), 'residx_atom37_to_atom14': (4, 125, 37), 'atom37_atom_exists': (4, 125, 37), 'extra_msa': (4, 1024, 125), 'extra_msa_mask': (4, 1024, 125), 'extra_msa_row_mask': (4, 1024), 'bert_mask': (4, 508, 125), 'true_msa': (4, 508, 125), 'extra_has_deletion': (4, 1024, 125), 'extra_deletion_value': (4, 1024, 125), 'msa_feat': (4, 508, 125, 49), 'target_feat': (4, 125, 22)}\n",
            "I0715 09:49:01.109543 138021093316416 model.py:175] Output shape was {'distogram': {'bin_edges': (63,), 'logits': (125, 125, 64)}, 'experimentally_resolved': {'logits': (125, 37)}, 'masked_msa': {'logits': (508, 125, 23)}, 'predicted_lddt': {'logits': (125, 50)}, 'structure_module': {'final_atom_mask': (125, 37), 'final_atom_positions': (125, 37, 3)}, 'plddt': (125,), 'ranking_confidence': ()}\n",
            "I0715 09:49:01.109856 138021093316416 parjax_cla_multi_GoogleColab.py:144] Total JAX model model_2_pred_0 on 6UF2 predict time (includes compilation time, see --benchmark): 245.0s\n",
            "I0715 09:49:01.146960 138021093316416 parjax_cla_multi_GoogleColab.py:132] Running model model_3_pred_0 on 6UF2\n",
            "I0715 09:49:02.999556 138021093316416 model.py:165] Running predict with shape(feat) = {'aatype': (4, 125), 'residue_index': (4, 125), 'seq_length': (4,), 'is_distillation': (4,), 'seq_mask': (4, 125), 'msa_mask': (4, 512, 125), 'msa_row_mask': (4, 512), 'random_crop_to_size_seed': (4, 2), 'atom14_atom_exists': (4, 125, 14), 'residx_atom14_to_atom37': (4, 125, 14), 'residx_atom37_to_atom14': (4, 125, 37), 'atom37_atom_exists': (4, 125, 37), 'extra_msa': (4, 5120, 125), 'extra_msa_mask': (4, 5120, 125), 'extra_msa_row_mask': (4, 5120), 'bert_mask': (4, 512, 125), 'true_msa': (4, 512, 125), 'extra_has_deletion': (4, 5120, 125), 'extra_deletion_value': (4, 5120, 125), 'msa_feat': (4, 512, 125, 49), 'target_feat': (4, 125, 22)}\n",
            "I0715 09:52:20.933720 138021093316416 model.py:175] Output shape was {'distogram': {'bin_edges': (63,), 'logits': (125, 125, 64)}, 'experimentally_resolved': {'logits': (125, 37)}, 'masked_msa': {'logits': (512, 125, 23)}, 'predicted_lddt': {'logits': (125, 50)}, 'structure_module': {'final_atom_mask': (125, 37), 'final_atom_positions': (125, 37, 3)}, 'plddt': (125,), 'ranking_confidence': ()}\n",
            "I0715 09:52:20.933995 138021093316416 parjax_cla_multi_GoogleColab.py:144] Total JAX model model_3_pred_0 on 6UF2 predict time (includes compilation time, see --benchmark): 197.9s\n",
            "I0715 09:52:20.963482 138021093316416 parjax_cla_multi_GoogleColab.py:132] Running model model_4_pred_0 on 6UF2\n",
            "I0715 09:52:22.827817 138021093316416 model.py:165] Running predict with shape(feat) = {'aatype': (4, 125), 'residue_index': (4, 125), 'seq_length': (4,), 'is_distillation': (4,), 'seq_mask': (4, 125), 'msa_mask': (4, 512, 125), 'msa_row_mask': (4, 512), 'random_crop_to_size_seed': (4, 2), 'atom14_atom_exists': (4, 125, 14), 'residx_atom14_to_atom37': (4, 125, 14), 'residx_atom37_to_atom14': (4, 125, 37), 'atom37_atom_exists': (4, 125, 37), 'extra_msa': (4, 5120, 125), 'extra_msa_mask': (4, 5120, 125), 'extra_msa_row_mask': (4, 5120), 'bert_mask': (4, 512, 125), 'true_msa': (4, 512, 125), 'extra_has_deletion': (4, 5120, 125), 'extra_deletion_value': (4, 5120, 125), 'msa_feat': (4, 512, 125, 49), 'target_feat': (4, 125, 22)}\n",
            "I0715 09:55:32.460662 138021093316416 model.py:175] Output shape was {'distogram': {'bin_edges': (63,), 'logits': (125, 125, 64)}, 'experimentally_resolved': {'logits': (125, 37)}, 'masked_msa': {'logits': (512, 125, 23)}, 'predicted_lddt': {'logits': (125, 50)}, 'structure_module': {'final_atom_mask': (125, 37), 'final_atom_positions': (125, 37, 3)}, 'plddt': (125,), 'ranking_confidence': ()}\n",
            "I0715 09:55:32.460977 138021093316416 parjax_cla_multi_GoogleColab.py:144] Total JAX model model_4_pred_0 on 6UF2 predict time (includes compilation time, see --benchmark): 189.6s\n",
            "I0715 09:55:32.509824 138021093316416 parjax_cla_multi_GoogleColab.py:132] Running model model_5_pred_0 on 6UF2\n",
            "I0715 09:55:34.827044 138021093316416 model.py:165] Running predict with shape(feat) = {'aatype': (4, 125), 'residue_index': (4, 125), 'seq_length': (4,), 'is_distillation': (4,), 'seq_mask': (4, 125), 'msa_mask': (4, 512, 125), 'msa_row_mask': (4, 512), 'random_crop_to_size_seed': (4, 2), 'atom14_atom_exists': (4, 125, 14), 'residx_atom14_to_atom37': (4, 125, 14), 'residx_atom37_to_atom14': (4, 125, 37), 'atom37_atom_exists': (4, 125, 37), 'extra_msa': (4, 1024, 125), 'extra_msa_mask': (4, 1024, 125), 'extra_msa_row_mask': (4, 1024), 'bert_mask': (4, 512, 125), 'true_msa': (4, 512, 125), 'extra_has_deletion': (4, 1024, 125), 'extra_deletion_value': (4, 1024, 125), 'msa_feat': (4, 512, 125, 49), 'target_feat': (4, 125, 22)}\n",
            "I0715 09:58:55.344926 138021093316416 model.py:175] Output shape was {'distogram': {'bin_edges': (63,), 'logits': (125, 125, 64)}, 'experimentally_resolved': {'logits': (125, 37)}, 'masked_msa': {'logits': (512, 125, 23)}, 'predicted_lddt': {'logits': (125, 50)}, 'structure_module': {'final_atom_mask': (125, 37), 'final_atom_positions': (125, 37, 3)}, 'plddt': (125,), 'ranking_confidence': ()}\n",
            "I0715 09:58:55.345182 138021093316416 parjax_cla_multi_GoogleColab.py:144] Total JAX model model_5_pred_0 on 6UF2 predict time (includes compilation time, see --benchmark): 200.5s\n",
            "I0715 09:58:59.886877 138021093316416 amber_minimize.py:178] alterations info: {'nonstandard_residues': [], 'removed_heterogens': set(), 'missing_residues': {}, 'missing_heavy_atoms': {}, 'missing_terminals': {<Residue 124 (SER) of chain 0>: ['OXT']}, 'Se_in_MET': [], 'removed_chains': {0: []}}\n",
            "I0715 09:59:00.299887 138021093316416 amber_minimize.py:408] Minimizing protein, attempt 1 of 100.\n",
            "I0715 09:59:00.892187 138021093316416 amber_minimize.py:69] Restraining 1016 / 2001 particles.\n",
            "I0715 09:59:04.164318 138021093316416 amber_minimize.py:178] alterations info: {'nonstandard_residues': [], 'removed_heterogens': set(), 'missing_residues': {}, 'missing_heavy_atoms': {}, 'missing_terminals': {}, 'Se_in_MET': [], 'removed_chains': {0: []}}\n",
            "I0715 09:59:06.688196 138021093316416 amber_minimize.py:500] Iteration completed: Einit 2427.39 Efinal -3299.22 Time 3.08 s num residue violations 0 num residue exclusions 0 \n",
            "I0715 09:59:06.754940 138021093316416 parjax_cla_multi_GoogleColab.py:231] Final timings for 6UF2: {'process_features_model_1_pred_0': 2.246626853942871, 'predict_and_compile_model_1_pred_0': 255.11980175971985, 'process_features_model_2_pred_0': 2.279576539993286, 'predict_and_compile_model_2_pred_0': 245.03067564964294, 'process_features_model_3_pred_0': 1.8522815704345703, 'predict_and_compile_model_3_pred_0': 197.93458318710327, 'process_features_model_4_pred_0': 1.8640007972717285, 'predict_and_compile_model_4_pred_0': 189.63331699371338, 'process_features_model_5_pred_0': 2.3168623447418213, 'predict_and_compile_model_5_pred_0': 200.51829075813293, 'relax_model_3_pred_0': 11.373363733291626}\n",
            "I0715 09:59:06.759374 138021093316416 parjax_cla_multi_GoogleColab.py:308] 6UF2 AlphaFold structure prediction COMPLETE\n"
          ]
        }
      ],
      "source": [
        "%%bash\n",
        "source activate parafold\n",
        "\n",
        "python parjax_cla_multi_GoogleColab.py \\\n",
        "  --fasta_paths=/content/jaxalpha/multi/2LHC/2LHC.fasta,/content/jaxalpha/multi/2LHG/2LHG.fasta,/content/jaxalpha/multi/2LHE/2LHE.fasta,/content/jaxalpha/multi/2LHD/2LHD.fasta,/content/jaxalpha/multi/6UF2/6UF2.fasta  \\\n",
        "  --output_dir=/content/jaxalpha/multi/out_multi_Z_A/1_5 \\\n",
        "  --parameter_path=/content/ParallelFold/params \\\n",
        "  --feature_files=/content/jaxalpha/multi/2LHC/feature.pkl,/content/jaxalpha/multi/2LHG/feature.pkl,/content/jaxalpha/multi/2LHE/feature.pkl,/content/jaxalpha/multi/2LHD/feature.pkl,/content/jaxalpha/multi/6UF2/feature.pkl \\\n",
        "  --use_gpu_relax=true\n",
        "\n"
      ]
    },
    {
      "cell_type": "code",
      "source": [
        "log_execution_time(start_time, cell_title)\n",
        "log_execution_time(code_start_time, from_beginning_to_end)"
      ],
      "metadata": {
        "id": "VHsqPxzNHonp"
      },
      "execution_count": 17,
      "outputs": []
    },
    {
      "cell_type": "code",
      "execution_count": 18,
      "metadata": {
        "id": "W-_pdPajkI_n"
      },
      "outputs": [],
      "source": [
        "#@title zip_output\n",
        "%%capture\n",
        "cell_title = \"zip_output\"\n",
        "start_time = time.time()\n",
        "\n",
        "import zipfile\n",
        "import os\n",
        "from google.colab import drive\n",
        "\n",
        "# Mount Google Drive\n",
        "drive.mount('/content/drive')\n",
        "\n",
        "!cp /content/time_cell_batch.txt /content/jaxalpha/multi/out_multi_Z_A/1_5\n",
        "# Define the folder to zip\n",
        "folder_to_zip = '/content/jaxalpha/multi/out_multi_Z_A/1_5'\n",
        "\n",
        "# Define the output zip file name and path (in Google Drive)\n",
        "output_filename = '/content/drive/My Drive/batch_1_5_ascend_T4.zip'\n",
        "\n",
        "# Create the zip file\n",
        "with zipfile.ZipFile(output_filename, 'w', zipfile.ZIP_DEFLATED) as zipf:\n",
        "    for root, dirs, files in os.walk(folder_to_zip):\n",
        "        for file in files:\n",
        "            zipf.write(os.path.join(root, file),\n",
        "                       os.path.relpath(os.path.join(root, file),\n",
        "                                       os.path.join(folder_to_zip, '..')))\n",
        "\n",
        "log_execution_time(start_time, cell_title)"
      ]
    }
  ],
  "metadata": {
    "colab": {
      "provenance": [],
      "machine_shape": "hm",
      "gpuType": "T4",
      "include_colab_link": true
    },
    "kernelspec": {
      "display_name": "Python 3",
      "name": "python3"
    },
    "language_info": {
      "name": "python"
    },
    "accelerator": "GPU"
  },
  "nbformat": 4,
  "nbformat_minor": 0
}