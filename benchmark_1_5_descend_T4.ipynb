{
  "cells": [
    {
      "cell_type": "markdown",
      "metadata": {
        "id": "view-in-github",
        "colab_type": "text"
      },
      "source": [
        "<a href=\"https://colab.research.google.com/github/fereidoon27/sample-colab/blob/main/benchmark_1_5_descend_T4.ipynb\" target=\"_parent\"><img src=\"https://colab.research.google.com/assets/colab-badge.svg\" alt=\"Open In Colab\"/></a>"
      ]
    },
    {
      "cell_type": "code",
      "source": [
        "#@title Initialize_time\n",
        "import time\n",
        "\n",
        "# Initialize an empty file\n",
        "with open('/content/time_cell_benchmark.txt', 'w') as file:\n",
        "    file.write('')\n",
        "\n",
        "\n",
        "def log_execution_time(start_time, cell_title):\n",
        "    end_time = time.time()\n",
        "    execution_time = end_time - start_time\n",
        "\n",
        "    with open('/content/time_cell_benchmark.txt', 'a') as file:\n",
        "        file.write(f\"execution_time_{cell_title}, {execution_time}\\n\")\n",
        "\n",
        "from_beginning_to_end = \"Start_running_the_code\"\n",
        "code_start_time = time.time()"
      ],
      "metadata": {
        "id": "el4dU4_088Xh",
        "cellView": "form"
      },
      "execution_count": 1,
      "outputs": []
    },
    {
      "cell_type": "code",
      "execution_count": 2,
      "metadata": {
        "id": "Iu_wXmRquKlk",
        "cellView": "form"
      },
      "outputs": [],
      "source": [
        "#@title clone\n",
        "%%capture\n",
        "cell_title = \"clone\"\n",
        "start_time = time.time()\n",
        "\n",
        "!git clone https://github.com/Zuricho/ParallelFold.git\n",
        "!git clone https://github.com/fereidoon27/jaxalpha.git\n",
        "\n",
        "log_execution_time(start_time, cell_title)"
      ]
    },
    {
      "cell_type": "code",
      "execution_count": 3,
      "metadata": {
        "collapsed": true,
        "id": "71M2Wr3NuZfM",
        "cellView": "form"
      },
      "outputs": [],
      "source": [
        "#@title Miniconda\n",
        "%%capture\n",
        "cell_title = \"Miniconda\"\n",
        "start_time = time.time()\n",
        "\n",
        "# Install Miniconda\n",
        "!wget https://repo.anaconda.com/miniconda/Miniconda3-latest-Linux-x86_64.sh\n",
        "!chmod +x Miniconda3-latest-Linux-x86_64.sh\n",
        "!bash ./Miniconda3-latest-Linux-x86_64.sh -b -f -p /usr/local\n",
        "\n",
        "# Initialize Conda\n",
        "import sys\n",
        "sys.path.append('/usr/local/lib/python3.8/site-packages')\n",
        "\n",
        "# Configure conda\n",
        "!conda init bash\n",
        "!source ~/.bashrc\n",
        "\n",
        "# Update conda\n",
        "!conda update conda -y\n",
        "\n",
        "log_execution_time(start_time, cell_title)"
      ]
    },
    {
      "cell_type": "code",
      "execution_count": 4,
      "metadata": {
        "collapsed": true,
        "id": "lr6PZXRiufLc",
        "cellView": "form"
      },
      "outputs": [],
      "source": [
        "#@title parafold_env\n",
        "%%capture\n",
        "cell_title = \"parafold_env\"\n",
        "start_time = time.time()\n",
        "\n",
        "# Recommend you to use python 3.8, version < 3.7 have missing packages, python versions newer than 3.8 were not tested\n",
        "!conda create -n parafold python=3.8 -y\n",
        "\n",
        "log_execution_time(start_time, cell_title)"
      ]
    },
    {
      "cell_type": "code",
      "execution_count": 5,
      "metadata": {
        "id": "ag5mSJ5fvZRA",
        "cellView": "form"
      },
      "outputs": [],
      "source": [
        "#@title testing_activate_parafold\n",
        "%%capture\n",
        "cell_title = \"testing_activate_parafold\"\n",
        "start_time = time.time()\n",
        "\n",
        "!source activate parafold && { \\\n",
        "    echo \"Setting up the parafold environment\"; \\\n",
        "    echo \"Current Python version:\"; \\\n",
        "    python --version; \\\n",
        "    }\n",
        "\n",
        "log_execution_time(start_time, cell_title)"
      ]
    },
    {
      "cell_type": "code",
      "execution_count": 6,
      "metadata": {
        "id": "qw3B2zQgxgw1",
        "cellView": "form"
      },
      "outputs": [],
      "source": [
        "#@title install_py3dmol\n",
        "%%capture\n",
        "cell_title = \"install_py3dmol\"\n",
        "start_time = time.time()\n",
        "\n",
        "#install py3dmol\n",
        "!source activate parafold && pip install py3dmol\n",
        "\n",
        "log_execution_time(start_time, cell_title)"
      ]
    },
    {
      "cell_type": "code",
      "execution_count": 7,
      "metadata": {
        "collapsed": true,
        "id": "nhH-cpF51ao4",
        "cellView": "form"
      },
      "outputs": [],
      "source": [
        "#@title install_openmm\n",
        "%%capture\n",
        "cell_title = \"install_openmm\"\n",
        "start_time = time.time()\n",
        "\n",
        "# openmm 7.7 is recommended (original alphafold using 7.5.1, but it is not supported now)\n",
        "!source activate parafold && conda install -c conda-forge openmm=7.7 pdbfixer -y\n",
        "\n",
        "log_execution_time(start_time, cell_title)"
      ]
    },
    {
      "cell_type": "code",
      "execution_count": 8,
      "metadata": {
        "collapsed": true,
        "id": "uW7VE2hi1jwl",
        "cellView": "form"
      },
      "outputs": [],
      "source": [
        "#@title install_requirements\n",
        "%%capture\n",
        "cell_title = \"install_requirements\"\n",
        "start_time = time.time()\n",
        "\n",
        "%cd ParallelFold\n",
        "#install requirements\n",
        "!source activate parafold && pip3 install -r requirements.txt\n",
        "\n",
        "log_execution_time(start_time, cell_title)"
      ]
    },
    {
      "cell_type": "code",
      "execution_count": 9,
      "metadata": {
        "collapsed": true,
        "id": "1P1qlWikHrT4",
        "cellView": "form"
      },
      "outputs": [],
      "source": [
        "#@title install_cuda_and_cudnn\n",
        "%%capture\n",
        "cell_title = \"install_cuda_and_cudnn\"\n",
        "start_time = time.time()\n",
        "\n",
        "# cudatoolkit 11.3.1 matches cudnn 8.2.1\n",
        "!source activate parafold && echo 'y' | conda install cudatoolkit=11.3 cudnn -y\n",
        "\n",
        "log_execution_time(start_time, cell_title)"
      ]
    },
    {
      "cell_type": "code",
      "execution_count": 10,
      "metadata": {
        "collapsed": true,
        "id": "BdbRAX2JI44X",
        "cellView": "form"
      },
      "outputs": [],
      "source": [
        "#@title downgrade_jaxlib\n",
        "%%capture\n",
        "cell_title = \"downgrade_jaxlib\"\n",
        "start_time = time.time()\n",
        "\n",
        "# downgrade jaxlib to the correct version, matches with cuda and cudnn version\n",
        "!source activate parafold && pip3 install --upgrade --no-cache-dir jax==0.3.25 jaxlib==0.3.25+cuda11.cudnn82 -f https://storage.googleapis.com/jax-releases/jax_cuda_releases.html\n",
        "\n",
        "log_execution_time(start_time, cell_title)"
      ]
    },
    {
      "cell_type": "code",
      "execution_count": 11,
      "metadata": {
        "collapsed": true,
        "id": "-O_Df8cdJAKj",
        "cellView": "form"
      },
      "outputs": [],
      "source": [
        "#@title packages_for_MSA\n",
        "%%capture\n",
        "cell_title = \"packages_for_MSA\"\n",
        "start_time = time.time()\n",
        "\n",
        "# install packages for multiple sequence alignment\n",
        "!source activate parafold && conda install -c bioconda hmmer=3.3.2 hhsuite=3.3.0 kalign2=2.04 -y\n",
        "\n",
        "log_execution_time(start_time, cell_title)"
      ]
    },
    {
      "cell_type": "code",
      "execution_count": 12,
      "metadata": {
        "collapsed": true,
        "id": "zmue22y1c7LC",
        "cellView": "form"
      },
      "outputs": [],
      "source": [
        "#@title aria2\n",
        "%%capture\n",
        "cell_title = \"aria2\"\n",
        "start_time = time.time()\n",
        "\n",
        "!source activate parafold && conda install aria2 -y\n",
        "\n",
        "log_execution_time(start_time, cell_title)"
      ]
    },
    {
      "cell_type": "code",
      "source": [
        "#@title alphafold_params\n",
        "%%capture\n",
        "cell_title = \"alphafold_params\"\n",
        "start_time = time.time()\n",
        "\n",
        "!source activate parafold && bash /content/ParallelFold/scripts/download_alphafold_params.sh /content/ParallelFold\n",
        "\n",
        "log_execution_time(start_time, cell_title)"
      ],
      "metadata": {
        "id": "iglOn5cGF7gC",
        "cellView": "form"
      },
      "execution_count": 13,
      "outputs": []
    },
    {
      "cell_type": "code",
      "execution_count": 14,
      "metadata": {
        "collapsed": true,
        "id": "IOE5ESGGOaT5",
        "colab": {
          "base_uri": "https://localhost:8080/"
        },
        "outputId": "b2cd8f54-4150-469b-d843-c3e4a35683b4"
      },
      "outputs": [
        {
          "output_type": "stream",
          "name": "stdout",
          "text": [
            "/content/ParallelFold\n"
          ]
        }
      ],
      "source": [
        "#@title directory\n",
        "!mv /content/jaxalpha/parjax_cla_multi_GoogleColab.py /content/ParallelFold\n",
        "%cd /content/ParallelFold/\n",
        "#!chmod +x parjax_cla_multi_GoogleColab.sh"
      ]
    },
    {
      "cell_type": "code",
      "source": [
        "cell_title = \"benchmark_1_5_A_Z_T4\"\n",
        "start_time = time.time()"
      ],
      "metadata": {
        "id": "QzSv4dVwHnr1"
      },
      "execution_count": 15,
      "outputs": []
    },
    {
      "cell_type": "code",
      "execution_count": 16,
      "metadata": {
        "collapsed": true,
        "id": "HiqjNrx6jnLE",
        "colab": {
          "base_uri": "https://localhost:8080/"
        },
        "outputId": "e61a9446-c3ed-41f5-85e2-460b3b364d99"
      },
      "outputs": [
        {
          "output_type": "stream",
          "name": "stderr",
          "text": [
            "I0714 09:35:07.896715 140715608131392 xla_bridge.py:353] Unable to initialize backend 'tpu_driver': NOT_FOUND: Unable to find driver in registry given worker: \n",
            "I0714 09:35:08.169999 140715608131392 xla_bridge.py:353] Unable to initialize backend 'rocm': NOT_FOUND: Could not find registered platform with name: \"rocm\". Available platform names are: Interpreter CUDA Host\n",
            "I0714 09:35:08.170870 140715608131392 xla_bridge.py:353] Unable to initialize backend 'tpu': module 'jaxlib.xla_extension' has no attribute 'get_tpu_client'\n",
            "I0714 09:35:08.171068 140715608131392 xla_bridge.py:353] Unable to initialize backend 'plugin': xla_extension has no attributes named get_plugin_device_client. Compile TensorFlow with //tensorflow/compiler/xla/python:enable_plugin_device set to true (defaults to false) to enable this.\n",
            "I0714 09:35:19.438277 140715608131392 parjax_cla_multi_GoogleColab.py:279] Have 5 models: ['model_1_pred_0', 'model_2_pred_0', 'model_3_pred_0', 'model_4_pred_0', 'model_5_pred_0']\n",
            "I0714 09:35:19.438490 140715608131392 parjax_cla_multi_GoogleColab.py:293] Using random seed 427911709326829918 for the data pipeline\n",
            "I0714 09:35:19.438873 140715608131392 parjax_cla_multi_GoogleColab.py:107] Predicting 6UF2\n",
            "I0714 09:35:19.444498 140715608131392 parjax_cla_multi_GoogleColab.py:132] Running model model_1_pred_0 on 6UF2\n",
            "W0714 09:35:20.660574 140715608131392 deprecation.py:350] From /usr/local/envs/parafold/lib/python3.8/site-packages/tensorflow/python/autograph/pyct/static_analysis/liveness.py:83: Analyzer.lamba_check (from tensorflow.python.autograph.pyct.static_analysis.liveness) is deprecated and will be removed after 2023-09-23.\n",
            "Instructions for updating:\n",
            "Lambda fuctions will be no more assumed to be used in the statement where they are used, or at least in the same block. https://github.com/tensorflow/tensorflow/issues/56089\n",
            "I0714 09:35:23.629926 140715608131392 model.py:165] Running predict with shape(feat) = {'aatype': (4, 125), 'residue_index': (4, 125), 'seq_length': (4,), 'template_aatype': (4, 4, 125), 'template_all_atom_masks': (4, 4, 125, 37), 'template_all_atom_positions': (4, 4, 125, 37, 3), 'template_sum_probs': (4, 4, 1), 'is_distillation': (4,), 'seq_mask': (4, 125), 'msa_mask': (4, 508, 125), 'msa_row_mask': (4, 508), 'random_crop_to_size_seed': (4, 2), 'template_mask': (4, 4), 'template_pseudo_beta': (4, 4, 125, 3), 'template_pseudo_beta_mask': (4, 4, 125), 'atom14_atom_exists': (4, 125, 14), 'residx_atom14_to_atom37': (4, 125, 14), 'residx_atom37_to_atom14': (4, 125, 37), 'atom37_atom_exists': (4, 125, 37), 'extra_msa': (4, 5120, 125), 'extra_msa_mask': (4, 5120, 125), 'extra_msa_row_mask': (4, 5120), 'bert_mask': (4, 508, 125), 'true_msa': (4, 508, 125), 'extra_has_deletion': (4, 5120, 125), 'extra_deletion_value': (4, 5120, 125), 'msa_feat': (4, 508, 125, 49), 'target_feat': (4, 125, 22)}\n",
            "I0714 09:39:15.687321 140715608131392 model.py:175] Output shape was {'distogram': {'bin_edges': (63,), 'logits': (125, 125, 64)}, 'experimentally_resolved': {'logits': (125, 37)}, 'masked_msa': {'logits': (508, 125, 23)}, 'predicted_lddt': {'logits': (125, 50)}, 'structure_module': {'final_atom_mask': (125, 37), 'final_atom_positions': (125, 37, 3)}, 'plddt': (125,), 'ranking_confidence': ()}\n",
            "I0714 09:39:15.687732 140715608131392 parjax_cla_multi_GoogleColab.py:144] Total JAX model model_1_pred_0 on 6UF2 predict time (includes compilation time, see --benchmark): 232.1s\n",
            "I0714 09:39:15.687978 140715608131392 model.py:165] Running predict with shape(feat) = {'aatype': (4, 125), 'residue_index': (4, 125), 'seq_length': (4,), 'template_aatype': (4, 4, 125), 'template_all_atom_masks': (4, 4, 125, 37), 'template_all_atom_positions': (4, 4, 125, 37, 3), 'template_sum_probs': (4, 4, 1), 'is_distillation': (4,), 'seq_mask': (4, 125), 'msa_mask': (4, 508, 125), 'msa_row_mask': (4, 508), 'random_crop_to_size_seed': (4, 2), 'template_mask': (4, 4), 'template_pseudo_beta': (4, 4, 125, 3), 'template_pseudo_beta_mask': (4, 4, 125), 'atom14_atom_exists': (4, 125, 14), 'residx_atom14_to_atom37': (4, 125, 14), 'residx_atom37_to_atom14': (4, 125, 37), 'atom37_atom_exists': (4, 125, 37), 'extra_msa': (4, 5120, 125), 'extra_msa_mask': (4, 5120, 125), 'extra_msa_row_mask': (4, 5120), 'bert_mask': (4, 508, 125), 'true_msa': (4, 508, 125), 'extra_has_deletion': (4, 5120, 125), 'extra_deletion_value': (4, 5120, 125), 'msa_feat': (4, 508, 125, 49), 'target_feat': (4, 125, 22)}\n",
            "I0714 09:39:48.639966 140715608131392 model.py:175] Output shape was {'distogram': {'bin_edges': (63,), 'logits': (125, 125, 64)}, 'experimentally_resolved': {'logits': (125, 37)}, 'masked_msa': {'logits': (508, 125, 23)}, 'predicted_lddt': {'logits': (125, 50)}, 'structure_module': {'final_atom_mask': (125, 37), 'final_atom_positions': (125, 37, 3)}, 'plddt': (125,), 'ranking_confidence': ()}\n",
            "I0714 09:39:48.640206 140715608131392 parjax_cla_multi_GoogleColab.py:154] Total JAX model model_1_pred_0 on 6UF2 predict time (excludes compilation time): 33.0s\n",
            "I0714 09:39:48.669999 140715608131392 parjax_cla_multi_GoogleColab.py:132] Running model model_2_pred_0 on 6UF2\n",
            "I0714 09:39:51.141606 140715608131392 model.py:165] Running predict with shape(feat) = {'aatype': (4, 125), 'residue_index': (4, 125), 'seq_length': (4,), 'template_aatype': (4, 4, 125), 'template_all_atom_masks': (4, 4, 125, 37), 'template_all_atom_positions': (4, 4, 125, 37, 3), 'template_sum_probs': (4, 4, 1), 'is_distillation': (4,), 'seq_mask': (4, 125), 'msa_mask': (4, 508, 125), 'msa_row_mask': (4, 508), 'random_crop_to_size_seed': (4, 2), 'template_mask': (4, 4), 'template_pseudo_beta': (4, 4, 125, 3), 'template_pseudo_beta_mask': (4, 4, 125), 'atom14_atom_exists': (4, 125, 14), 'residx_atom14_to_atom37': (4, 125, 14), 'residx_atom37_to_atom14': (4, 125, 37), 'atom37_atom_exists': (4, 125, 37), 'extra_msa': (4, 1024, 125), 'extra_msa_mask': (4, 1024, 125), 'extra_msa_row_mask': (4, 1024), 'bert_mask': (4, 508, 125), 'true_msa': (4, 508, 125), 'extra_has_deletion': (4, 1024, 125), 'extra_deletion_value': (4, 1024, 125), 'msa_feat': (4, 508, 125, 49), 'target_feat': (4, 125, 22)}\n",
            "I0714 09:43:43.105533 140715608131392 model.py:175] Output shape was {'distogram': {'bin_edges': (63,), 'logits': (125, 125, 64)}, 'experimentally_resolved': {'logits': (125, 37)}, 'masked_msa': {'logits': (508, 125, 23)}, 'predicted_lddt': {'logits': (125, 50)}, 'structure_module': {'final_atom_mask': (125, 37), 'final_atom_positions': (125, 37, 3)}, 'plddt': (125,), 'ranking_confidence': ()}\n",
            "I0714 09:43:43.105901 140715608131392 parjax_cla_multi_GoogleColab.py:144] Total JAX model model_2_pred_0 on 6UF2 predict time (includes compilation time, see --benchmark): 232.0s\n",
            "I0714 09:43:43.106181 140715608131392 model.py:165] Running predict with shape(feat) = {'aatype': (4, 125), 'residue_index': (4, 125), 'seq_length': (4,), 'template_aatype': (4, 4, 125), 'template_all_atom_masks': (4, 4, 125, 37), 'template_all_atom_positions': (4, 4, 125, 37, 3), 'template_sum_probs': (4, 4, 1), 'is_distillation': (4,), 'seq_mask': (4, 125), 'msa_mask': (4, 508, 125), 'msa_row_mask': (4, 508), 'random_crop_to_size_seed': (4, 2), 'template_mask': (4, 4), 'template_pseudo_beta': (4, 4, 125, 3), 'template_pseudo_beta_mask': (4, 4, 125), 'atom14_atom_exists': (4, 125, 14), 'residx_atom14_to_atom37': (4, 125, 14), 'residx_atom37_to_atom14': (4, 125, 37), 'atom37_atom_exists': (4, 125, 37), 'extra_msa': (4, 1024, 125), 'extra_msa_mask': (4, 1024, 125), 'extra_msa_row_mask': (4, 1024), 'bert_mask': (4, 508, 125), 'true_msa': (4, 508, 125), 'extra_has_deletion': (4, 1024, 125), 'extra_deletion_value': (4, 1024, 125), 'msa_feat': (4, 508, 125, 49), 'target_feat': (4, 125, 22)}\n",
            "I0714 09:44:12.881391 140715608131392 model.py:175] Output shape was {'distogram': {'bin_edges': (63,), 'logits': (125, 125, 64)}, 'experimentally_resolved': {'logits': (125, 37)}, 'masked_msa': {'logits': (508, 125, 23)}, 'predicted_lddt': {'logits': (125, 50)}, 'structure_module': {'final_atom_mask': (125, 37), 'final_atom_positions': (125, 37, 3)}, 'plddt': (125,), 'ranking_confidence': ()}\n",
            "I0714 09:44:12.881640 140715608131392 parjax_cla_multi_GoogleColab.py:154] Total JAX model model_2_pred_0 on 6UF2 predict time (excludes compilation time): 29.8s\n",
            "I0714 09:44:12.911877 140715608131392 parjax_cla_multi_GoogleColab.py:132] Running model model_3_pred_0 on 6UF2\n",
            "I0714 09:44:14.641976 140715608131392 model.py:165] Running predict with shape(feat) = {'aatype': (4, 125), 'residue_index': (4, 125), 'seq_length': (4,), 'is_distillation': (4,), 'seq_mask': (4, 125), 'msa_mask': (4, 512, 125), 'msa_row_mask': (4, 512), 'random_crop_to_size_seed': (4, 2), 'atom14_atom_exists': (4, 125, 14), 'residx_atom14_to_atom37': (4, 125, 14), 'residx_atom37_to_atom14': (4, 125, 37), 'atom37_atom_exists': (4, 125, 37), 'extra_msa': (4, 5120, 125), 'extra_msa_mask': (4, 5120, 125), 'extra_msa_row_mask': (4, 5120), 'bert_mask': (4, 512, 125), 'true_msa': (4, 512, 125), 'extra_has_deletion': (4, 5120, 125), 'extra_deletion_value': (4, 5120, 125), 'msa_feat': (4, 512, 125, 49), 'target_feat': (4, 125, 22)}\n",
            "I0714 09:47:25.035434 140715608131392 model.py:175] Output shape was {'distogram': {'bin_edges': (63,), 'logits': (125, 125, 64)}, 'experimentally_resolved': {'logits': (125, 37)}, 'masked_msa': {'logits': (512, 125, 23)}, 'predicted_lddt': {'logits': (125, 50)}, 'structure_module': {'final_atom_mask': (125, 37), 'final_atom_positions': (125, 37, 3)}, 'plddt': (125,), 'ranking_confidence': ()}\n",
            "I0714 09:47:25.035845 140715608131392 parjax_cla_multi_GoogleColab.py:144] Total JAX model model_3_pred_0 on 6UF2 predict time (includes compilation time, see --benchmark): 190.4s\n",
            "I0714 09:47:25.036099 140715608131392 model.py:165] Running predict with shape(feat) = {'aatype': (4, 125), 'residue_index': (4, 125), 'seq_length': (4,), 'is_distillation': (4,), 'seq_mask': (4, 125), 'msa_mask': (4, 512, 125), 'msa_row_mask': (4, 512), 'random_crop_to_size_seed': (4, 2), 'atom14_atom_exists': (4, 125, 14), 'residx_atom14_to_atom37': (4, 125, 14), 'residx_atom37_to_atom14': (4, 125, 37), 'atom37_atom_exists': (4, 125, 37), 'extra_msa': (4, 5120, 125), 'extra_msa_mask': (4, 5120, 125), 'extra_msa_row_mask': (4, 5120), 'bert_mask': (4, 512, 125), 'true_msa': (4, 512, 125), 'extra_has_deletion': (4, 5120, 125), 'extra_deletion_value': (4, 5120, 125), 'msa_feat': (4, 512, 125, 49), 'target_feat': (4, 125, 22)}\n",
            "I0714 09:47:57.670873 140715608131392 model.py:175] Output shape was {'distogram': {'bin_edges': (63,), 'logits': (125, 125, 64)}, 'experimentally_resolved': {'logits': (125, 37)}, 'masked_msa': {'logits': (512, 125, 23)}, 'predicted_lddt': {'logits': (125, 50)}, 'structure_module': {'final_atom_mask': (125, 37), 'final_atom_positions': (125, 37, 3)}, 'plddt': (125,), 'ranking_confidence': ()}\n",
            "I0714 09:47:57.671137 140715608131392 parjax_cla_multi_GoogleColab.py:154] Total JAX model model_3_pred_0 on 6UF2 predict time (excludes compilation time): 32.6s\n",
            "I0714 09:47:57.701305 140715608131392 parjax_cla_multi_GoogleColab.py:132] Running model model_4_pred_0 on 6UF2\n",
            "I0714 09:47:59.404222 140715608131392 model.py:165] Running predict with shape(feat) = {'aatype': (4, 125), 'residue_index': (4, 125), 'seq_length': (4,), 'is_distillation': (4,), 'seq_mask': (4, 125), 'msa_mask': (4, 512, 125), 'msa_row_mask': (4, 512), 'random_crop_to_size_seed': (4, 2), 'atom14_atom_exists': (4, 125, 14), 'residx_atom14_to_atom37': (4, 125, 14), 'residx_atom37_to_atom14': (4, 125, 37), 'atom37_atom_exists': (4, 125, 37), 'extra_msa': (4, 5120, 125), 'extra_msa_mask': (4, 5120, 125), 'extra_msa_row_mask': (4, 5120), 'bert_mask': (4, 512, 125), 'true_msa': (4, 512, 125), 'extra_has_deletion': (4, 5120, 125), 'extra_deletion_value': (4, 5120, 125), 'msa_feat': (4, 512, 125, 49), 'target_feat': (4, 125, 22)}\n",
            "I0714 09:51:02.567417 140715608131392 model.py:175] Output shape was {'distogram': {'bin_edges': (63,), 'logits': (125, 125, 64)}, 'experimentally_resolved': {'logits': (125, 37)}, 'masked_msa': {'logits': (512, 125, 23)}, 'predicted_lddt': {'logits': (125, 50)}, 'structure_module': {'final_atom_mask': (125, 37), 'final_atom_positions': (125, 37, 3)}, 'plddt': (125,), 'ranking_confidence': ()}\n",
            "I0714 09:51:02.567706 140715608131392 parjax_cla_multi_GoogleColab.py:144] Total JAX model model_4_pred_0 on 6UF2 predict time (includes compilation time, see --benchmark): 183.2s\n",
            "I0714 09:51:02.567900 140715608131392 model.py:165] Running predict with shape(feat) = {'aatype': (4, 125), 'residue_index': (4, 125), 'seq_length': (4,), 'is_distillation': (4,), 'seq_mask': (4, 125), 'msa_mask': (4, 512, 125), 'msa_row_mask': (4, 512), 'random_crop_to_size_seed': (4, 2), 'atom14_atom_exists': (4, 125, 14), 'residx_atom14_to_atom37': (4, 125, 14), 'residx_atom37_to_atom14': (4, 125, 37), 'atom37_atom_exists': (4, 125, 37), 'extra_msa': (4, 5120, 125), 'extra_msa_mask': (4, 5120, 125), 'extra_msa_row_mask': (4, 5120), 'bert_mask': (4, 512, 125), 'true_msa': (4, 512, 125), 'extra_has_deletion': (4, 5120, 125), 'extra_deletion_value': (4, 5120, 125), 'msa_feat': (4, 512, 125, 49), 'target_feat': (4, 125, 22)}\n",
            "I0714 09:51:35.222500 140715608131392 model.py:175] Output shape was {'distogram': {'bin_edges': (63,), 'logits': (125, 125, 64)}, 'experimentally_resolved': {'logits': (125, 37)}, 'masked_msa': {'logits': (512, 125, 23)}, 'predicted_lddt': {'logits': (125, 50)}, 'structure_module': {'final_atom_mask': (125, 37), 'final_atom_positions': (125, 37, 3)}, 'plddt': (125,), 'ranking_confidence': ()}\n",
            "I0714 09:51:35.222759 140715608131392 parjax_cla_multi_GoogleColab.py:154] Total JAX model model_4_pred_0 on 6UF2 predict time (excludes compilation time): 32.7s\n",
            "I0714 09:51:35.252880 140715608131392 parjax_cla_multi_GoogleColab.py:132] Running model model_5_pred_0 on 6UF2\n",
            "I0714 09:51:36.958413 140715608131392 model.py:165] Running predict with shape(feat) = {'aatype': (4, 125), 'residue_index': (4, 125), 'seq_length': (4,), 'is_distillation': (4,), 'seq_mask': (4, 125), 'msa_mask': (4, 512, 125), 'msa_row_mask': (4, 512), 'random_crop_to_size_seed': (4, 2), 'atom14_atom_exists': (4, 125, 14), 'residx_atom14_to_atom37': (4, 125, 14), 'residx_atom37_to_atom14': (4, 125, 37), 'atom37_atom_exists': (4, 125, 37), 'extra_msa': (4, 1024, 125), 'extra_msa_mask': (4, 1024, 125), 'extra_msa_row_mask': (4, 1024), 'bert_mask': (4, 512, 125), 'true_msa': (4, 512, 125), 'extra_has_deletion': (4, 1024, 125), 'extra_deletion_value': (4, 1024, 125), 'msa_feat': (4, 512, 125, 49), 'target_feat': (4, 125, 22)}\n",
            "I0714 09:54:45.548076 140715608131392 model.py:175] Output shape was {'distogram': {'bin_edges': (63,), 'logits': (125, 125, 64)}, 'experimentally_resolved': {'logits': (125, 37)}, 'masked_msa': {'logits': (512, 125, 23)}, 'predicted_lddt': {'logits': (125, 50)}, 'structure_module': {'final_atom_mask': (125, 37), 'final_atom_positions': (125, 37, 3)}, 'plddt': (125,), 'ranking_confidence': ()}\n",
            "I0714 09:54:45.548389 140715608131392 parjax_cla_multi_GoogleColab.py:144] Total JAX model model_5_pred_0 on 6UF2 predict time (includes compilation time, see --benchmark): 188.6s\n",
            "I0714 09:54:45.548598 140715608131392 model.py:165] Running predict with shape(feat) = {'aatype': (4, 125), 'residue_index': (4, 125), 'seq_length': (4,), 'is_distillation': (4,), 'seq_mask': (4, 125), 'msa_mask': (4, 512, 125), 'msa_row_mask': (4, 512), 'random_crop_to_size_seed': (4, 2), 'atom14_atom_exists': (4, 125, 14), 'residx_atom14_to_atom37': (4, 125, 14), 'residx_atom37_to_atom14': (4, 125, 37), 'atom37_atom_exists': (4, 125, 37), 'extra_msa': (4, 1024, 125), 'extra_msa_mask': (4, 1024, 125), 'extra_msa_row_mask': (4, 1024), 'bert_mask': (4, 512, 125), 'true_msa': (4, 512, 125), 'extra_has_deletion': (4, 1024, 125), 'extra_deletion_value': (4, 1024, 125), 'msa_feat': (4, 512, 125, 49), 'target_feat': (4, 125, 22)}\n",
            "I0714 09:55:15.165140 140715608131392 model.py:175] Output shape was {'distogram': {'bin_edges': (63,), 'logits': (125, 125, 64)}, 'experimentally_resolved': {'logits': (125, 37)}, 'masked_msa': {'logits': (512, 125, 23)}, 'predicted_lddt': {'logits': (125, 50)}, 'structure_module': {'final_atom_mask': (125, 37), 'final_atom_positions': (125, 37, 3)}, 'plddt': (125,), 'ranking_confidence': ()}\n",
            "I0714 09:55:15.165406 140715608131392 parjax_cla_multi_GoogleColab.py:154] Total JAX model model_5_pred_0 on 6UF2 predict time (excludes compilation time): 29.6s\n",
            "W0714 09:55:15.520021 140715608131392 __init__.py:5] Warning: importing 'simtk.openmm' is deprecated.  Import 'openmm' instead.\n",
            "I0714 09:55:21.861878 140715608131392 amber_minimize.py:178] alterations info: {'nonstandard_residues': [], 'removed_heterogens': set(), 'missing_residues': {}, 'missing_heavy_atoms': {}, 'missing_terminals': {<Residue 124 (SER) of chain 0>: ['OXT']}, 'Se_in_MET': [], 'removed_chains': {0: []}}\n",
            "I0714 09:55:22.289989 140715608131392 amber_minimize.py:408] Minimizing protein, attempt 1 of 100.\n",
            "I0714 09:55:22.729151 140715608131392 amber_minimize.py:69] Restraining 1016 / 2001 particles.\n",
            "I0714 09:55:25.986118 140715608131392 amber_minimize.py:178] alterations info: {'nonstandard_residues': [], 'removed_heterogens': set(), 'missing_residues': {}, 'missing_heavy_atoms': {}, 'missing_terminals': {}, 'Se_in_MET': [], 'removed_chains': {0: []}}\n",
            "I0714 09:55:28.461610 140715608131392 amber_minimize.py:500] Iteration completed: Einit 2564.91 Efinal -3305.84 Time 2.77 s num residue violations 0 num residue exclusions 0 \n",
            "I0714 09:55:28.543977 140715608131392 parjax_cla_multi_GoogleColab.py:231] Final timings for 6UF2: {'process_features_model_1_pred_0': 4.184791088104248, 'predict_and_compile_model_1_pred_0': 232.05823183059692, 'predict_benchmark_model_1_pred_0': 32.95233702659607, 'process_features_model_2_pred_0': 2.4710304737091064, 'predict_and_compile_model_2_pred_0': 231.96470618247986, 'predict_benchmark_model_2_pred_0': 29.77560067176819, 'process_features_model_3_pred_0': 1.7297883033752441, 'predict_and_compile_model_3_pred_0': 190.3940191268921, 'predict_benchmark_model_3_pred_0': 32.635141134262085, 'process_features_model_4_pred_0': 1.7026021480560303, 'predict_and_compile_model_4_pred_0': 183.1636290550232, 'predict_benchmark_model_4_pred_0': 32.65492653846741, 'process_features_model_5_pred_0': 1.705202579498291, 'predict_and_compile_model_5_pred_0': 188.59014415740967, 'predict_benchmark_model_5_pred_0': 29.616897106170654, 'relax_model_3_pred_0': 13.346231698989868}\n",
            "I0714 09:55:28.548497 140715608131392 parjax_cla_multi_GoogleColab.py:308] 6UF2 AlphaFold structure prediction COMPLETE\n",
            "I0714 09:55:28.548655 140715608131392 parjax_cla_multi_GoogleColab.py:107] Predicting 2LHG\n",
            "I0714 09:55:28.552089 140715608131392 parjax_cla_multi_GoogleColab.py:132] Running model model_1_pred_0 on 2LHG\n",
            "I0714 09:55:30.600145 140715608131392 model.py:165] Running predict with shape(feat) = {'aatype': (4, 56), 'residue_index': (4, 56), 'seq_length': (4,), 'template_aatype': (4, 4, 56), 'template_all_atom_masks': (4, 4, 56, 37), 'template_all_atom_positions': (4, 4, 56, 37, 3), 'template_sum_probs': (4, 4, 1), 'is_distillation': (4,), 'seq_mask': (4, 56), 'msa_mask': (4, 508, 56), 'msa_row_mask': (4, 508), 'random_crop_to_size_seed': (4, 2), 'template_mask': (4, 4), 'template_pseudo_beta': (4, 4, 56, 3), 'template_pseudo_beta_mask': (4, 4, 56), 'atom14_atom_exists': (4, 56, 14), 'residx_atom14_to_atom37': (4, 56, 14), 'residx_atom37_to_atom14': (4, 56, 37), 'atom37_atom_exists': (4, 56, 37), 'extra_msa': (4, 5120, 56), 'extra_msa_mask': (4, 5120, 56), 'extra_msa_row_mask': (4, 5120), 'bert_mask': (4, 508, 56), 'true_msa': (4, 508, 56), 'extra_has_deletion': (4, 5120, 56), 'extra_deletion_value': (4, 5120, 56), 'msa_feat': (4, 508, 56, 49), 'target_feat': (4, 56, 22)}\n",
            "I0714 09:59:12.234997 140715608131392 model.py:175] Output shape was {'distogram': {'bin_edges': (63,), 'logits': (56, 56, 64)}, 'experimentally_resolved': {'logits': (56, 37)}, 'masked_msa': {'logits': (508, 56, 23)}, 'predicted_lddt': {'logits': (56, 50)}, 'structure_module': {'final_atom_mask': (56, 37), 'final_atom_positions': (56, 37, 3)}, 'plddt': (56,), 'ranking_confidence': ()}\n",
            "I0714 09:59:12.235273 140715608131392 parjax_cla_multi_GoogleColab.py:144] Total JAX model model_1_pred_0 on 2LHG predict time (includes compilation time, see --benchmark): 221.6s\n",
            "I0714 09:59:12.235517 140715608131392 model.py:165] Running predict with shape(feat) = {'aatype': (4, 56), 'residue_index': (4, 56), 'seq_length': (4,), 'template_aatype': (4, 4, 56), 'template_all_atom_masks': (4, 4, 56, 37), 'template_all_atom_positions': (4, 4, 56, 37, 3), 'template_sum_probs': (4, 4, 1), 'is_distillation': (4,), 'seq_mask': (4, 56), 'msa_mask': (4, 508, 56), 'msa_row_mask': (4, 508), 'random_crop_to_size_seed': (4, 2), 'template_mask': (4, 4), 'template_pseudo_beta': (4, 4, 56, 3), 'template_pseudo_beta_mask': (4, 4, 56), 'atom14_atom_exists': (4, 56, 14), 'residx_atom14_to_atom37': (4, 56, 14), 'residx_atom37_to_atom14': (4, 56, 37), 'atom37_atom_exists': (4, 56, 37), 'extra_msa': (4, 5120, 56), 'extra_msa_mask': (4, 5120, 56), 'extra_msa_row_mask': (4, 5120), 'bert_mask': (4, 508, 56), 'true_msa': (4, 508, 56), 'extra_has_deletion': (4, 5120, 56), 'extra_deletion_value': (4, 5120, 56), 'msa_feat': (4, 508, 56, 49), 'target_feat': (4, 56, 22)}\n",
            "I0714 09:59:27.375958 140715608131392 model.py:175] Output shape was {'distogram': {'bin_edges': (63,), 'logits': (56, 56, 64)}, 'experimentally_resolved': {'logits': (56, 37)}, 'masked_msa': {'logits': (508, 56, 23)}, 'predicted_lddt': {'logits': (56, 50)}, 'structure_module': {'final_atom_mask': (56, 37), 'final_atom_positions': (56, 37, 3)}, 'plddt': (56,), 'ranking_confidence': ()}\n",
            "I0714 09:59:27.376224 140715608131392 parjax_cla_multi_GoogleColab.py:154] Total JAX model model_1_pred_0 on 2LHG predict time (excludes compilation time): 15.1s\n",
            "I0714 09:59:27.395102 140715608131392 parjax_cla_multi_GoogleColab.py:132] Running model model_2_pred_0 on 2LHG\n",
            "I0714 09:59:30.037457 140715608131392 model.py:165] Running predict with shape(feat) = {'aatype': (4, 56), 'residue_index': (4, 56), 'seq_length': (4,), 'template_aatype': (4, 4, 56), 'template_all_atom_masks': (4, 4, 56, 37), 'template_all_atom_positions': (4, 4, 56, 37, 3), 'template_sum_probs': (4, 4, 1), 'is_distillation': (4,), 'seq_mask': (4, 56), 'msa_mask': (4, 508, 56), 'msa_row_mask': (4, 508), 'random_crop_to_size_seed': (4, 2), 'template_mask': (4, 4), 'template_pseudo_beta': (4, 4, 56, 3), 'template_pseudo_beta_mask': (4, 4, 56), 'atom14_atom_exists': (4, 56, 14), 'residx_atom14_to_atom37': (4, 56, 14), 'residx_atom37_to_atom14': (4, 56, 37), 'atom37_atom_exists': (4, 56, 37), 'extra_msa': (4, 1024, 56), 'extra_msa_mask': (4, 1024, 56), 'extra_msa_row_mask': (4, 1024), 'bert_mask': (4, 508, 56), 'true_msa': (4, 508, 56), 'extra_has_deletion': (4, 1024, 56), 'extra_deletion_value': (4, 1024, 56), 'msa_feat': (4, 508, 56, 49), 'target_feat': (4, 56, 22)}\n",
            "I0714 10:03:06.051113 140715608131392 model.py:175] Output shape was {'distogram': {'bin_edges': (63,), 'logits': (56, 56, 64)}, 'experimentally_resolved': {'logits': (56, 37)}, 'masked_msa': {'logits': (508, 56, 23)}, 'predicted_lddt': {'logits': (56, 50)}, 'structure_module': {'final_atom_mask': (56, 37), 'final_atom_positions': (56, 37, 3)}, 'plddt': (56,), 'ranking_confidence': ()}\n",
            "I0714 10:03:06.051363 140715608131392 parjax_cla_multi_GoogleColab.py:144] Total JAX model model_2_pred_0 on 2LHG predict time (includes compilation time, see --benchmark): 216.0s\n",
            "I0714 10:03:06.051594 140715608131392 model.py:165] Running predict with shape(feat) = {'aatype': (4, 56), 'residue_index': (4, 56), 'seq_length': (4,), 'template_aatype': (4, 4, 56), 'template_all_atom_masks': (4, 4, 56, 37), 'template_all_atom_positions': (4, 4, 56, 37, 3), 'template_sum_probs': (4, 4, 1), 'is_distillation': (4,), 'seq_mask': (4, 56), 'msa_mask': (4, 508, 56), 'msa_row_mask': (4, 508), 'random_crop_to_size_seed': (4, 2), 'template_mask': (4, 4), 'template_pseudo_beta': (4, 4, 56, 3), 'template_pseudo_beta_mask': (4, 4, 56), 'atom14_atom_exists': (4, 56, 14), 'residx_atom14_to_atom37': (4, 56, 14), 'residx_atom37_to_atom14': (4, 56, 37), 'atom37_atom_exists': (4, 56, 37), 'extra_msa': (4, 1024, 56), 'extra_msa_mask': (4, 1024, 56), 'extra_msa_row_mask': (4, 1024), 'bert_mask': (4, 508, 56), 'true_msa': (4, 508, 56), 'extra_has_deletion': (4, 1024, 56), 'extra_deletion_value': (4, 1024, 56), 'msa_feat': (4, 508, 56, 49), 'target_feat': (4, 56, 22)}\n",
            "I0714 10:03:19.474667 140715608131392 model.py:175] Output shape was {'distogram': {'bin_edges': (63,), 'logits': (56, 56, 64)}, 'experimentally_resolved': {'logits': (56, 37)}, 'masked_msa': {'logits': (508, 56, 23)}, 'predicted_lddt': {'logits': (56, 50)}, 'structure_module': {'final_atom_mask': (56, 37), 'final_atom_positions': (56, 37, 3)}, 'plddt': (56,), 'ranking_confidence': ()}\n",
            "I0714 10:03:19.475305 140715608131392 parjax_cla_multi_GoogleColab.py:154] Total JAX model model_2_pred_0 on 2LHG predict time (excludes compilation time): 13.4s\n",
            "I0714 10:03:19.495295 140715608131392 parjax_cla_multi_GoogleColab.py:132] Running model model_3_pred_0 on 2LHG\n",
            "I0714 10:03:21.879829 140715608131392 model.py:165] Running predict with shape(feat) = {'aatype': (4, 56), 'residue_index': (4, 56), 'seq_length': (4,), 'is_distillation': (4,), 'seq_mask': (4, 56), 'msa_mask': (4, 512, 56), 'msa_row_mask': (4, 512), 'random_crop_to_size_seed': (4, 2), 'atom14_atom_exists': (4, 56, 14), 'residx_atom14_to_atom37': (4, 56, 14), 'residx_atom37_to_atom14': (4, 56, 37), 'atom37_atom_exists': (4, 56, 37), 'extra_msa': (4, 5120, 56), 'extra_msa_mask': (4, 5120, 56), 'extra_msa_row_mask': (4, 5120), 'bert_mask': (4, 512, 56), 'true_msa': (4, 512, 56), 'extra_has_deletion': (4, 5120, 56), 'extra_deletion_value': (4, 5120, 56), 'msa_feat': (4, 512, 56, 49), 'target_feat': (4, 56, 22)}\n",
            "I0714 10:06:19.929963 140715608131392 model.py:175] Output shape was {'distogram': {'bin_edges': (63,), 'logits': (56, 56, 64)}, 'experimentally_resolved': {'logits': (56, 37)}, 'masked_msa': {'logits': (512, 56, 23)}, 'predicted_lddt': {'logits': (56, 50)}, 'structure_module': {'final_atom_mask': (56, 37), 'final_atom_positions': (56, 37, 3)}, 'plddt': (56,), 'ranking_confidence': ()}\n",
            "I0714 10:06:19.930223 140715608131392 parjax_cla_multi_GoogleColab.py:144] Total JAX model model_3_pred_0 on 2LHG predict time (includes compilation time, see --benchmark): 178.1s\n",
            "I0714 10:06:19.930410 140715608131392 model.py:165] Running predict with shape(feat) = {'aatype': (4, 56), 'residue_index': (4, 56), 'seq_length': (4,), 'is_distillation': (4,), 'seq_mask': (4, 56), 'msa_mask': (4, 512, 56), 'msa_row_mask': (4, 512), 'random_crop_to_size_seed': (4, 2), 'atom14_atom_exists': (4, 56, 14), 'residx_atom14_to_atom37': (4, 56, 14), 'residx_atom37_to_atom14': (4, 56, 37), 'atom37_atom_exists': (4, 56, 37), 'extra_msa': (4, 5120, 56), 'extra_msa_mask': (4, 5120, 56), 'extra_msa_row_mask': (4, 5120), 'bert_mask': (4, 512, 56), 'true_msa': (4, 512, 56), 'extra_has_deletion': (4, 5120, 56), 'extra_deletion_value': (4, 5120, 56), 'msa_feat': (4, 512, 56, 49), 'target_feat': (4, 56, 22)}\n",
            "I0714 10:06:34.985740 140715608131392 model.py:175] Output shape was {'distogram': {'bin_edges': (63,), 'logits': (56, 56, 64)}, 'experimentally_resolved': {'logits': (56, 37)}, 'masked_msa': {'logits': (512, 56, 23)}, 'predicted_lddt': {'logits': (56, 50)}, 'structure_module': {'final_atom_mask': (56, 37), 'final_atom_positions': (56, 37, 3)}, 'plddt': (56,), 'ranking_confidence': ()}\n",
            "I0714 10:06:34.986016 140715608131392 parjax_cla_multi_GoogleColab.py:154] Total JAX model model_3_pred_0 on 2LHG predict time (excludes compilation time): 15.1s\n",
            "I0714 10:06:35.004904 140715608131392 parjax_cla_multi_GoogleColab.py:132] Running model model_4_pred_0 on 2LHG\n",
            "I0714 10:06:37.212018 140715608131392 model.py:165] Running predict with shape(feat) = {'aatype': (4, 56), 'residue_index': (4, 56), 'seq_length': (4,), 'is_distillation': (4,), 'seq_mask': (4, 56), 'msa_mask': (4, 512, 56), 'msa_row_mask': (4, 512), 'random_crop_to_size_seed': (4, 2), 'atom14_atom_exists': (4, 56, 14), 'residx_atom14_to_atom37': (4, 56, 14), 'residx_atom37_to_atom14': (4, 56, 37), 'atom37_atom_exists': (4, 56, 37), 'extra_msa': (4, 5120, 56), 'extra_msa_mask': (4, 5120, 56), 'extra_msa_row_mask': (4, 5120), 'bert_mask': (4, 512, 56), 'true_msa': (4, 512, 56), 'extra_has_deletion': (4, 5120, 56), 'extra_deletion_value': (4, 5120, 56), 'msa_feat': (4, 512, 56, 49), 'target_feat': (4, 56, 22)}\n",
            "I0714 10:09:24.196079 140715608131392 model.py:175] Output shape was {'distogram': {'bin_edges': (63,), 'logits': (56, 56, 64)}, 'experimentally_resolved': {'logits': (56, 37)}, 'masked_msa': {'logits': (512, 56, 23)}, 'predicted_lddt': {'logits': (56, 50)}, 'structure_module': {'final_atom_mask': (56, 37), 'final_atom_positions': (56, 37, 3)}, 'plddt': (56,), 'ranking_confidence': ()}\n",
            "I0714 10:09:24.196454 140715608131392 parjax_cla_multi_GoogleColab.py:144] Total JAX model model_4_pred_0 on 2LHG predict time (includes compilation time, see --benchmark): 167.0s\n",
            "I0714 10:09:24.196681 140715608131392 model.py:165] Running predict with shape(feat) = {'aatype': (4, 56), 'residue_index': (4, 56), 'seq_length': (4,), 'is_distillation': (4,), 'seq_mask': (4, 56), 'msa_mask': (4, 512, 56), 'msa_row_mask': (4, 512), 'random_crop_to_size_seed': (4, 2), 'atom14_atom_exists': (4, 56, 14), 'residx_atom14_to_atom37': (4, 56, 14), 'residx_atom37_to_atom14': (4, 56, 37), 'atom37_atom_exists': (4, 56, 37), 'extra_msa': (4, 5120, 56), 'extra_msa_mask': (4, 5120, 56), 'extra_msa_row_mask': (4, 5120), 'bert_mask': (4, 512, 56), 'true_msa': (4, 512, 56), 'extra_has_deletion': (4, 5120, 56), 'extra_deletion_value': (4, 5120, 56), 'msa_feat': (4, 512, 56, 49), 'target_feat': (4, 56, 22)}\n",
            "I0714 10:09:39.291744 140715608131392 model.py:175] Output shape was {'distogram': {'bin_edges': (63,), 'logits': (56, 56, 64)}, 'experimentally_resolved': {'logits': (56, 37)}, 'masked_msa': {'logits': (512, 56, 23)}, 'predicted_lddt': {'logits': (56, 50)}, 'structure_module': {'final_atom_mask': (56, 37), 'final_atom_positions': (56, 37, 3)}, 'plddt': (56,), 'ranking_confidence': ()}\n",
            "I0714 10:09:39.292083 140715608131392 parjax_cla_multi_GoogleColab.py:154] Total JAX model model_4_pred_0 on 2LHG predict time (excludes compilation time): 15.1s\n",
            "I0714 10:09:39.305348 140715608131392 parjax_cla_multi_GoogleColab.py:132] Running model model_5_pred_0 on 2LHG\n",
            "I0714 10:09:40.951411 140715608131392 model.py:165] Running predict with shape(feat) = {'aatype': (4, 56), 'residue_index': (4, 56), 'seq_length': (4,), 'is_distillation': (4,), 'seq_mask': (4, 56), 'msa_mask': (4, 512, 56), 'msa_row_mask': (4, 512), 'random_crop_to_size_seed': (4, 2), 'atom14_atom_exists': (4, 56, 14), 'residx_atom14_to_atom37': (4, 56, 14), 'residx_atom37_to_atom14': (4, 56, 37), 'atom37_atom_exists': (4, 56, 37), 'extra_msa': (4, 1024, 56), 'extra_msa_mask': (4, 1024, 56), 'extra_msa_row_mask': (4, 1024), 'bert_mask': (4, 512, 56), 'true_msa': (4, 512, 56), 'extra_has_deletion': (4, 1024, 56), 'extra_deletion_value': (4, 1024, 56), 'msa_feat': (4, 512, 56, 49), 'target_feat': (4, 56, 22)}\n",
            "I0714 10:12:32.330168 140715608131392 model.py:175] Output shape was {'distogram': {'bin_edges': (63,), 'logits': (56, 56, 64)}, 'experimentally_resolved': {'logits': (56, 37)}, 'masked_msa': {'logits': (512, 56, 23)}, 'predicted_lddt': {'logits': (56, 50)}, 'structure_module': {'final_atom_mask': (56, 37), 'final_atom_positions': (56, 37, 3)}, 'plddt': (56,), 'ranking_confidence': ()}\n",
            "I0714 10:12:32.330442 140715608131392 parjax_cla_multi_GoogleColab.py:144] Total JAX model model_5_pred_0 on 2LHG predict time (includes compilation time, see --benchmark): 171.4s\n",
            "I0714 10:12:32.330660 140715608131392 model.py:165] Running predict with shape(feat) = {'aatype': (4, 56), 'residue_index': (4, 56), 'seq_length': (4,), 'is_distillation': (4,), 'seq_mask': (4, 56), 'msa_mask': (4, 512, 56), 'msa_row_mask': (4, 512), 'random_crop_to_size_seed': (4, 2), 'atom14_atom_exists': (4, 56, 14), 'residx_atom14_to_atom37': (4, 56, 14), 'residx_atom37_to_atom14': (4, 56, 37), 'atom37_atom_exists': (4, 56, 37), 'extra_msa': (4, 1024, 56), 'extra_msa_mask': (4, 1024, 56), 'extra_msa_row_mask': (4, 1024), 'bert_mask': (4, 512, 56), 'true_msa': (4, 512, 56), 'extra_has_deletion': (4, 1024, 56), 'extra_deletion_value': (4, 1024, 56), 'msa_feat': (4, 512, 56, 49), 'target_feat': (4, 56, 22)}\n",
            "I0714 10:12:45.617699 140715608131392 model.py:175] Output shape was {'distogram': {'bin_edges': (63,), 'logits': (56, 56, 64)}, 'experimentally_resolved': {'logits': (56, 37)}, 'masked_msa': {'logits': (512, 56, 23)}, 'predicted_lddt': {'logits': (56, 50)}, 'structure_module': {'final_atom_mask': (56, 37), 'final_atom_positions': (56, 37, 3)}, 'plddt': (56,), 'ranking_confidence': ()}\n",
            "I0714 10:12:45.617997 140715608131392 parjax_cla_multi_GoogleColab.py:154] Total JAX model model_5_pred_0 on 2LHG predict time (excludes compilation time): 13.3s\n",
            "I0714 10:12:49.535675 140715608131392 amber_minimize.py:178] alterations info: {'nonstandard_residues': [], 'removed_heterogens': set(), 'missing_residues': {}, 'missing_heavy_atoms': {}, 'missing_terminals': {<Residue 55 (GLU) of chain 0>: ['OXT']}, 'Se_in_MET': [], 'removed_chains': {0: []}}\n",
            "I0714 10:12:49.814577 140715608131392 amber_minimize.py:408] Minimizing protein, attempt 1 of 100.\n",
            "I0714 10:12:50.056651 140715608131392 amber_minimize.py:69] Restraining 453 / 928 particles.\n",
            "I0714 10:12:52.374894 140715608131392 amber_minimize.py:178] alterations info: {'nonstandard_residues': [], 'removed_heterogens': set(), 'missing_residues': {}, 'missing_heavy_atoms': {}, 'missing_terminals': {}, 'Se_in_MET': [], 'removed_chains': {0: []}}\n",
            "I0714 10:12:54.191829 140715608131392 amber_minimize.py:500] Iteration completed: Einit 5066.37 Efinal -631.70 Time 2.12 s num residue violations 0 num residue exclusions 0 \n",
            "I0714 10:12:54.222473 140715608131392 parjax_cla_multi_GoogleColab.py:231] Final timings for 2LHG: {'process_features_model_1_pred_0': 2.0468428134918213, 'predict_and_compile_model_1_pred_0': 221.63621759414673, 'predict_benchmark_model_1_pred_0': 15.140828132629395, 'process_features_model_2_pred_0': 2.639918088912964, 'predict_and_compile_model_2_pred_0': 216.0161476135254, 'predict_benchmark_model_2_pred_0': 13.423820495605469, 'process_features_model_3_pred_0': 2.384103775024414, 'predict_and_compile_model_3_pred_0': 178.05060863494873, 'predict_benchmark_model_3_pred_0': 15.055691719055176, 'process_features_model_4_pred_0': 2.2068068981170654, 'predict_and_compile_model_4_pred_0': 166.98456573486328, 'predict_benchmark_model_4_pred_0': 15.095492839813232, 'process_features_model_5_pred_0': 1.6457993984222412, 'predict_and_compile_model_5_pred_0': 171.3791627883911, 'predict_benchmark_model_5_pred_0': 13.287421464920044, 'relax_model_5_pred_0': 8.590204000473022}\n",
            "I0714 10:12:54.223136 140715608131392 parjax_cla_multi_GoogleColab.py:308] 2LHG AlphaFold structure prediction COMPLETE\n",
            "I0714 10:12:54.223263 140715608131392 parjax_cla_multi_GoogleColab.py:107] Predicting 2LHE\n",
            "I0714 10:12:54.226394 140715608131392 parjax_cla_multi_GoogleColab.py:132] Running model model_1_pred_0 on 2LHE\n",
            "I0714 10:12:56.295281 140715608131392 model.py:165] Running predict with shape(feat) = {'aatype': (4, 56), 'residue_index': (4, 56), 'seq_length': (4,), 'template_aatype': (4, 4, 56), 'template_all_atom_masks': (4, 4, 56, 37), 'template_all_atom_positions': (4, 4, 56, 37, 3), 'template_sum_probs': (4, 4, 1), 'is_distillation': (4,), 'seq_mask': (4, 56), 'msa_mask': (4, 508, 56), 'msa_row_mask': (4, 508), 'random_crop_to_size_seed': (4, 2), 'template_mask': (4, 4), 'template_pseudo_beta': (4, 4, 56, 3), 'template_pseudo_beta_mask': (4, 4, 56), 'atom14_atom_exists': (4, 56, 14), 'residx_atom14_to_atom37': (4, 56, 14), 'residx_atom37_to_atom14': (4, 56, 37), 'atom37_atom_exists': (4, 56, 37), 'extra_msa': (4, 5120, 56), 'extra_msa_mask': (4, 5120, 56), 'extra_msa_row_mask': (4, 5120), 'bert_mask': (4, 508, 56), 'true_msa': (4, 508, 56), 'extra_has_deletion': (4, 5120, 56), 'extra_deletion_value': (4, 5120, 56), 'msa_feat': (4, 508, 56, 49), 'target_feat': (4, 56, 22)}\n",
            "I0714 10:13:11.480643 140715608131392 model.py:175] Output shape was {'distogram': {'bin_edges': (63,), 'logits': (56, 56, 64)}, 'experimentally_resolved': {'logits': (56, 37)}, 'masked_msa': {'logits': (508, 56, 23)}, 'predicted_lddt': {'logits': (56, 50)}, 'structure_module': {'final_atom_mask': (56, 37), 'final_atom_positions': (56, 37, 3)}, 'plddt': (56,), 'ranking_confidence': ()}\n",
            "I0714 10:13:11.480861 140715608131392 parjax_cla_multi_GoogleColab.py:144] Total JAX model model_1_pred_0 on 2LHE predict time (includes compilation time, see --benchmark): 15.2s\n",
            "I0714 10:13:11.481077 140715608131392 model.py:165] Running predict with shape(feat) = {'aatype': (4, 56), 'residue_index': (4, 56), 'seq_length': (4,), 'template_aatype': (4, 4, 56), 'template_all_atom_masks': (4, 4, 56, 37), 'template_all_atom_positions': (4, 4, 56, 37, 3), 'template_sum_probs': (4, 4, 1), 'is_distillation': (4,), 'seq_mask': (4, 56), 'msa_mask': (4, 508, 56), 'msa_row_mask': (4, 508), 'random_crop_to_size_seed': (4, 2), 'template_mask': (4, 4), 'template_pseudo_beta': (4, 4, 56, 3), 'template_pseudo_beta_mask': (4, 4, 56), 'atom14_atom_exists': (4, 56, 14), 'residx_atom14_to_atom37': (4, 56, 14), 'residx_atom37_to_atom14': (4, 56, 37), 'atom37_atom_exists': (4, 56, 37), 'extra_msa': (4, 5120, 56), 'extra_msa_mask': (4, 5120, 56), 'extra_msa_row_mask': (4, 5120), 'bert_mask': (4, 508, 56), 'true_msa': (4, 508, 56), 'extra_has_deletion': (4, 5120, 56), 'extra_deletion_value': (4, 5120, 56), 'msa_feat': (4, 508, 56, 49), 'target_feat': (4, 56, 22)}\n",
            "I0714 10:13:26.547872 140715608131392 model.py:175] Output shape was {'distogram': {'bin_edges': (63,), 'logits': (56, 56, 64)}, 'experimentally_resolved': {'logits': (56, 37)}, 'masked_msa': {'logits': (508, 56, 23)}, 'predicted_lddt': {'logits': (56, 50)}, 'structure_module': {'final_atom_mask': (56, 37), 'final_atom_positions': (56, 37, 3)}, 'plddt': (56,), 'ranking_confidence': ()}\n",
            "I0714 10:13:26.548110 140715608131392 parjax_cla_multi_GoogleColab.py:154] Total JAX model model_1_pred_0 on 2LHE predict time (excludes compilation time): 15.1s\n",
            "I0714 10:13:26.561700 140715608131392 parjax_cla_multi_GoogleColab.py:132] Running model model_2_pred_0 on 2LHE\n",
            "I0714 10:13:28.954065 140715608131392 model.py:165] Running predict with shape(feat) = {'aatype': (4, 56), 'residue_index': (4, 56), 'seq_length': (4,), 'template_aatype': (4, 4, 56), 'template_all_atom_masks': (4, 4, 56, 37), 'template_all_atom_positions': (4, 4, 56, 37, 3), 'template_sum_probs': (4, 4, 1), 'is_distillation': (4,), 'seq_mask': (4, 56), 'msa_mask': (4, 508, 56), 'msa_row_mask': (4, 508), 'random_crop_to_size_seed': (4, 2), 'template_mask': (4, 4), 'template_pseudo_beta': (4, 4, 56, 3), 'template_pseudo_beta_mask': (4, 4, 56), 'atom14_atom_exists': (4, 56, 14), 'residx_atom14_to_atom37': (4, 56, 14), 'residx_atom37_to_atom14': (4, 56, 37), 'atom37_atom_exists': (4, 56, 37), 'extra_msa': (4, 1024, 56), 'extra_msa_mask': (4, 1024, 56), 'extra_msa_row_mask': (4, 1024), 'bert_mask': (4, 508, 56), 'true_msa': (4, 508, 56), 'extra_has_deletion': (4, 1024, 56), 'extra_deletion_value': (4, 1024, 56), 'msa_feat': (4, 508, 56, 49), 'target_feat': (4, 56, 22)}\n",
            "I0714 10:13:42.218649 140715608131392 model.py:175] Output shape was {'distogram': {'bin_edges': (63,), 'logits': (56, 56, 64)}, 'experimentally_resolved': {'logits': (56, 37)}, 'masked_msa': {'logits': (508, 56, 23)}, 'predicted_lddt': {'logits': (56, 50)}, 'structure_module': {'final_atom_mask': (56, 37), 'final_atom_positions': (56, 37, 3)}, 'plddt': (56,), 'ranking_confidence': ()}\n",
            "I0714 10:13:42.219043 140715608131392 parjax_cla_multi_GoogleColab.py:144] Total JAX model model_2_pred_0 on 2LHE predict time (includes compilation time, see --benchmark): 13.3s\n",
            "I0714 10:13:42.219320 140715608131392 model.py:165] Running predict with shape(feat) = {'aatype': (4, 56), 'residue_index': (4, 56), 'seq_length': (4,), 'template_aatype': (4, 4, 56), 'template_all_atom_masks': (4, 4, 56, 37), 'template_all_atom_positions': (4, 4, 56, 37, 3), 'template_sum_probs': (4, 4, 1), 'is_distillation': (4,), 'seq_mask': (4, 56), 'msa_mask': (4, 508, 56), 'msa_row_mask': (4, 508), 'random_crop_to_size_seed': (4, 2), 'template_mask': (4, 4), 'template_pseudo_beta': (4, 4, 56, 3), 'template_pseudo_beta_mask': (4, 4, 56), 'atom14_atom_exists': (4, 56, 14), 'residx_atom14_to_atom37': (4, 56, 14), 'residx_atom37_to_atom14': (4, 56, 37), 'atom37_atom_exists': (4, 56, 37), 'extra_msa': (4, 1024, 56), 'extra_msa_mask': (4, 1024, 56), 'extra_msa_row_mask': (4, 1024), 'bert_mask': (4, 508, 56), 'true_msa': (4, 508, 56), 'extra_has_deletion': (4, 1024, 56), 'extra_deletion_value': (4, 1024, 56), 'msa_feat': (4, 508, 56, 49), 'target_feat': (4, 56, 22)}\n",
            "I0714 10:13:55.403691 140715608131392 model.py:175] Output shape was {'distogram': {'bin_edges': (63,), 'logits': (56, 56, 64)}, 'experimentally_resolved': {'logits': (56, 37)}, 'masked_msa': {'logits': (508, 56, 23)}, 'predicted_lddt': {'logits': (56, 50)}, 'structure_module': {'final_atom_mask': (56, 37), 'final_atom_positions': (56, 37, 3)}, 'plddt': (56,), 'ranking_confidence': ()}\n",
            "I0714 10:13:55.403973 140715608131392 parjax_cla_multi_GoogleColab.py:154] Total JAX model model_2_pred_0 on 2LHE predict time (excludes compilation time): 13.2s\n",
            "I0714 10:13:55.423605 140715608131392 parjax_cla_multi_GoogleColab.py:132] Running model model_3_pred_0 on 2LHE\n",
            "I0714 10:13:57.551141 140715608131392 model.py:165] Running predict with shape(feat) = {'aatype': (4, 56), 'residue_index': (4, 56), 'seq_length': (4,), 'is_distillation': (4,), 'seq_mask': (4, 56), 'msa_mask': (4, 512, 56), 'msa_row_mask': (4, 512), 'random_crop_to_size_seed': (4, 2), 'atom14_atom_exists': (4, 56, 14), 'residx_atom14_to_atom37': (4, 56, 14), 'residx_atom37_to_atom14': (4, 56, 37), 'atom37_atom_exists': (4, 56, 37), 'extra_msa': (4, 5120, 56), 'extra_msa_mask': (4, 5120, 56), 'extra_msa_row_mask': (4, 5120), 'bert_mask': (4, 512, 56), 'true_msa': (4, 512, 56), 'extra_has_deletion': (4, 5120, 56), 'extra_deletion_value': (4, 5120, 56), 'msa_feat': (4, 512, 56, 49), 'target_feat': (4, 56, 22)}\n",
            "I0714 10:14:12.432043 140715608131392 model.py:175] Output shape was {'distogram': {'bin_edges': (63,), 'logits': (56, 56, 64)}, 'experimentally_resolved': {'logits': (56, 37)}, 'masked_msa': {'logits': (512, 56, 23)}, 'predicted_lddt': {'logits': (56, 50)}, 'structure_module': {'final_atom_mask': (56, 37), 'final_atom_positions': (56, 37, 3)}, 'plddt': (56,), 'ranking_confidence': ()}\n",
            "I0714 10:14:12.432275 140715608131392 parjax_cla_multi_GoogleColab.py:144] Total JAX model model_3_pred_0 on 2LHE predict time (includes compilation time, see --benchmark): 14.9s\n",
            "I0714 10:14:12.432491 140715608131392 model.py:165] Running predict with shape(feat) = {'aatype': (4, 56), 'residue_index': (4, 56), 'seq_length': (4,), 'is_distillation': (4,), 'seq_mask': (4, 56), 'msa_mask': (4, 512, 56), 'msa_row_mask': (4, 512), 'random_crop_to_size_seed': (4, 2), 'atom14_atom_exists': (4, 56, 14), 'residx_atom14_to_atom37': (4, 56, 14), 'residx_atom37_to_atom14': (4, 56, 37), 'atom37_atom_exists': (4, 56, 37), 'extra_msa': (4, 5120, 56), 'extra_msa_mask': (4, 5120, 56), 'extra_msa_row_mask': (4, 5120), 'bert_mask': (4, 512, 56), 'true_msa': (4, 512, 56), 'extra_has_deletion': (4, 5120, 56), 'extra_deletion_value': (4, 5120, 56), 'msa_feat': (4, 512, 56, 49), 'target_feat': (4, 56, 22)}\n",
            "I0714 10:14:27.261878 140715608131392 model.py:175] Output shape was {'distogram': {'bin_edges': (63,), 'logits': (56, 56, 64)}, 'experimentally_resolved': {'logits': (56, 37)}, 'masked_msa': {'logits': (512, 56, 23)}, 'predicted_lddt': {'logits': (56, 50)}, 'structure_module': {'final_atom_mask': (56, 37), 'final_atom_positions': (56, 37, 3)}, 'plddt': (56,), 'ranking_confidence': ()}\n",
            "I0714 10:14:27.262118 140715608131392 parjax_cla_multi_GoogleColab.py:154] Total JAX model model_3_pred_0 on 2LHE predict time (excludes compilation time): 14.8s\n",
            "I0714 10:14:27.275000 140715608131392 parjax_cla_multi_GoogleColab.py:132] Running model model_4_pred_0 on 2LHE\n",
            "I0714 10:14:28.841064 140715608131392 model.py:165] Running predict with shape(feat) = {'aatype': (4, 56), 'residue_index': (4, 56), 'seq_length': (4,), 'is_distillation': (4,), 'seq_mask': (4, 56), 'msa_mask': (4, 512, 56), 'msa_row_mask': (4, 512), 'random_crop_to_size_seed': (4, 2), 'atom14_atom_exists': (4, 56, 14), 'residx_atom14_to_atom37': (4, 56, 14), 'residx_atom37_to_atom14': (4, 56, 37), 'atom37_atom_exists': (4, 56, 37), 'extra_msa': (4, 5120, 56), 'extra_msa_mask': (4, 5120, 56), 'extra_msa_row_mask': (4, 5120), 'bert_mask': (4, 512, 56), 'true_msa': (4, 512, 56), 'extra_has_deletion': (4, 5120, 56), 'extra_deletion_value': (4, 5120, 56), 'msa_feat': (4, 512, 56, 49), 'target_feat': (4, 56, 22)}\n",
            "I0714 10:14:43.661295 140715608131392 model.py:175] Output shape was {'distogram': {'bin_edges': (63,), 'logits': (56, 56, 64)}, 'experimentally_resolved': {'logits': (56, 37)}, 'masked_msa': {'logits': (512, 56, 23)}, 'predicted_lddt': {'logits': (56, 50)}, 'structure_module': {'final_atom_mask': (56, 37), 'final_atom_positions': (56, 37, 3)}, 'plddt': (56,), 'ranking_confidence': ()}\n",
            "I0714 10:14:43.661542 140715608131392 parjax_cla_multi_GoogleColab.py:144] Total JAX model model_4_pred_0 on 2LHE predict time (includes compilation time, see --benchmark): 14.8s\n",
            "I0714 10:14:43.661740 140715608131392 model.py:165] Running predict with shape(feat) = {'aatype': (4, 56), 'residue_index': (4, 56), 'seq_length': (4,), 'is_distillation': (4,), 'seq_mask': (4, 56), 'msa_mask': (4, 512, 56), 'msa_row_mask': (4, 512), 'random_crop_to_size_seed': (4, 2), 'atom14_atom_exists': (4, 56, 14), 'residx_atom14_to_atom37': (4, 56, 14), 'residx_atom37_to_atom14': (4, 56, 37), 'atom37_atom_exists': (4, 56, 37), 'extra_msa': (4, 5120, 56), 'extra_msa_mask': (4, 5120, 56), 'extra_msa_row_mask': (4, 5120), 'bert_mask': (4, 512, 56), 'true_msa': (4, 512, 56), 'extra_has_deletion': (4, 5120, 56), 'extra_deletion_value': (4, 5120, 56), 'msa_feat': (4, 512, 56, 49), 'target_feat': (4, 56, 22)}\n",
            "I0714 10:14:58.409873 140715608131392 model.py:175] Output shape was {'distogram': {'bin_edges': (63,), 'logits': (56, 56, 64)}, 'experimentally_resolved': {'logits': (56, 37)}, 'masked_msa': {'logits': (512, 56, 23)}, 'predicted_lddt': {'logits': (56, 50)}, 'structure_module': {'final_atom_mask': (56, 37), 'final_atom_positions': (56, 37, 3)}, 'plddt': (56,), 'ranking_confidence': ()}\n",
            "I0714 10:14:58.410166 140715608131392 parjax_cla_multi_GoogleColab.py:154] Total JAX model model_4_pred_0 on 2LHE predict time (excludes compilation time): 14.7s\n",
            "I0714 10:14:58.428984 140715608131392 parjax_cla_multi_GoogleColab.py:132] Running model model_5_pred_0 on 2LHE\n",
            "I0714 10:15:00.451532 140715608131392 model.py:165] Running predict with shape(feat) = {'aatype': (4, 56), 'residue_index': (4, 56), 'seq_length': (4,), 'is_distillation': (4,), 'seq_mask': (4, 56), 'msa_mask': (4, 512, 56), 'msa_row_mask': (4, 512), 'random_crop_to_size_seed': (4, 2), 'atom14_atom_exists': (4, 56, 14), 'residx_atom14_to_atom37': (4, 56, 14), 'residx_atom37_to_atom14': (4, 56, 37), 'atom37_atom_exists': (4, 56, 37), 'extra_msa': (4, 1024, 56), 'extra_msa_mask': (4, 1024, 56), 'extra_msa_row_mask': (4, 1024), 'bert_mask': (4, 512, 56), 'true_msa': (4, 512, 56), 'extra_has_deletion': (4, 1024, 56), 'extra_deletion_value': (4, 1024, 56), 'msa_feat': (4, 512, 56, 49), 'target_feat': (4, 56, 22)}\n",
            "I0714 10:15:13.644992 140715608131392 model.py:175] Output shape was {'distogram': {'bin_edges': (63,), 'logits': (56, 56, 64)}, 'experimentally_resolved': {'logits': (56, 37)}, 'masked_msa': {'logits': (512, 56, 23)}, 'predicted_lddt': {'logits': (56, 50)}, 'structure_module': {'final_atom_mask': (56, 37), 'final_atom_positions': (56, 37, 3)}, 'plddt': (56,), 'ranking_confidence': ()}\n",
            "I0714 10:15:13.645197 140715608131392 parjax_cla_multi_GoogleColab.py:144] Total JAX model model_5_pred_0 on 2LHE predict time (includes compilation time, see --benchmark): 13.2s\n",
            "I0714 10:15:13.645406 140715608131392 model.py:165] Running predict with shape(feat) = {'aatype': (4, 56), 'residue_index': (4, 56), 'seq_length': (4,), 'is_distillation': (4,), 'seq_mask': (4, 56), 'msa_mask': (4, 512, 56), 'msa_row_mask': (4, 512), 'random_crop_to_size_seed': (4, 2), 'atom14_atom_exists': (4, 56, 14), 'residx_atom14_to_atom37': (4, 56, 14), 'residx_atom37_to_atom14': (4, 56, 37), 'atom37_atom_exists': (4, 56, 37), 'extra_msa': (4, 1024, 56), 'extra_msa_mask': (4, 1024, 56), 'extra_msa_row_mask': (4, 1024), 'bert_mask': (4, 512, 56), 'true_msa': (4, 512, 56), 'extra_has_deletion': (4, 1024, 56), 'extra_deletion_value': (4, 1024, 56), 'msa_feat': (4, 512, 56, 49), 'target_feat': (4, 56, 22)}\n",
            "I0714 10:15:26.766063 140715608131392 model.py:175] Output shape was {'distogram': {'bin_edges': (63,), 'logits': (56, 56, 64)}, 'experimentally_resolved': {'logits': (56, 37)}, 'masked_msa': {'logits': (512, 56, 23)}, 'predicted_lddt': {'logits': (56, 50)}, 'structure_module': {'final_atom_mask': (56, 37), 'final_atom_positions': (56, 37, 3)}, 'plddt': (56,), 'ranking_confidence': ()}\n",
            "I0714 10:15:26.766309 140715608131392 parjax_cla_multi_GoogleColab.py:154] Total JAX model model_5_pred_0 on 2LHE predict time (excludes compilation time): 13.1s\n",
            "I0714 10:15:30.625132 140715608131392 amber_minimize.py:178] alterations info: {'nonstandard_residues': [], 'removed_heterogens': set(), 'missing_residues': {}, 'missing_heavy_atoms': {}, 'missing_terminals': {<Residue 55 (GLU) of chain 0>: ['OXT']}, 'Se_in_MET': [], 'removed_chains': {0: []}}\n",
            "I0714 10:15:30.687540 140715608131392 amber_minimize.py:408] Minimizing protein, attempt 1 of 100.\n",
            "I0714 10:15:30.940885 140715608131392 amber_minimize.py:69] Restraining 450 / 919 particles.\n",
            "I0714 10:15:32.652836 140715608131392 amber_minimize.py:178] alterations info: {'nonstandard_residues': [], 'removed_heterogens': set(), 'missing_residues': {}, 'missing_heavy_atoms': {}, 'missing_terminals': {}, 'Se_in_MET': [], 'removed_chains': {0: []}}\n",
            "I0714 10:15:32.755476 140715608131392 amber_minimize.py:500] Iteration completed: Einit 1124.87 Efinal -950.88 Time 1.47 s num residue violations 0 num residue exclusions 0 \n",
            "I0714 10:15:32.784499 140715608131392 parjax_cla_multi_GoogleColab.py:231] Final timings for 2LHE: {'process_features_model_1_pred_0': 2.0672199726104736, 'predict_and_compile_model_1_pred_0': 15.187124967575073, 'predict_benchmark_model_1_pred_0': 15.06714940071106, 'process_features_model_2_pred_0': 2.3916707038879395, 'predict_and_compile_model_2_pred_0': 13.265517473220825, 'predict_benchmark_model_2_pred_0': 13.184798002243042, 'process_features_model_3_pred_0': 2.1272389888763428, 'predict_and_compile_model_3_pred_0': 14.881263256072998, 'predict_benchmark_model_3_pred_0': 14.829718828201294, 'process_features_model_4_pred_0': 1.5657806396484375, 'predict_and_compile_model_4_pred_0': 14.82062315940857, 'predict_benchmark_model_4_pred_0': 14.748504638671875, 'process_features_model_5_pred_0': 2.022270917892456, 'predict_and_compile_model_5_pred_0': 13.193801403045654, 'predict_benchmark_model_5_pred_0': 13.121002197265625, 'relax_model_4_pred_0': 6.004530668258667}\n",
            "I0714 10:15:32.785131 140715608131392 parjax_cla_multi_GoogleColab.py:308] 2LHE AlphaFold structure prediction COMPLETE\n",
            "I0714 10:15:32.785250 140715608131392 parjax_cla_multi_GoogleColab.py:107] Predicting 2LHD\n",
            "I0714 10:15:32.788260 140715608131392 parjax_cla_multi_GoogleColab.py:132] Running model model_1_pred_0 on 2LHD\n",
            "I0714 10:15:34.874066 140715608131392 model.py:165] Running predict with shape(feat) = {'aatype': (4, 56), 'residue_index': (4, 56), 'seq_length': (4,), 'template_aatype': (4, 4, 56), 'template_all_atom_masks': (4, 4, 56, 37), 'template_all_atom_positions': (4, 4, 56, 37, 3), 'template_sum_probs': (4, 4, 1), 'is_distillation': (4,), 'seq_mask': (4, 56), 'msa_mask': (4, 508, 56), 'msa_row_mask': (4, 508), 'random_crop_to_size_seed': (4, 2), 'template_mask': (4, 4), 'template_pseudo_beta': (4, 4, 56, 3), 'template_pseudo_beta_mask': (4, 4, 56), 'atom14_atom_exists': (4, 56, 14), 'residx_atom14_to_atom37': (4, 56, 14), 'residx_atom37_to_atom14': (4, 56, 37), 'atom37_atom_exists': (4, 56, 37), 'extra_msa': (4, 5120, 56), 'extra_msa_mask': (4, 5120, 56), 'extra_msa_row_mask': (4, 5120), 'bert_mask': (4, 508, 56), 'true_msa': (4, 508, 56), 'extra_has_deletion': (4, 5120, 56), 'extra_deletion_value': (4, 5120, 56), 'msa_feat': (4, 508, 56, 49), 'target_feat': (4, 56, 22)}\n",
            "I0714 10:15:49.837182 140715608131392 model.py:175] Output shape was {'distogram': {'bin_edges': (63,), 'logits': (56, 56, 64)}, 'experimentally_resolved': {'logits': (56, 37)}, 'masked_msa': {'logits': (508, 56, 23)}, 'predicted_lddt': {'logits': (56, 50)}, 'structure_module': {'final_atom_mask': (56, 37), 'final_atom_positions': (56, 37, 3)}, 'plddt': (56,), 'ranking_confidence': ()}\n",
            "I0714 10:15:49.837441 140715608131392 parjax_cla_multi_GoogleColab.py:144] Total JAX model model_1_pred_0 on 2LHD predict time (includes compilation time, see --benchmark): 15.0s\n",
            "I0714 10:15:49.837723 140715608131392 model.py:165] Running predict with shape(feat) = {'aatype': (4, 56), 'residue_index': (4, 56), 'seq_length': (4,), 'template_aatype': (4, 4, 56), 'template_all_atom_masks': (4, 4, 56, 37), 'template_all_atom_positions': (4, 4, 56, 37, 3), 'template_sum_probs': (4, 4, 1), 'is_distillation': (4,), 'seq_mask': (4, 56), 'msa_mask': (4, 508, 56), 'msa_row_mask': (4, 508), 'random_crop_to_size_seed': (4, 2), 'template_mask': (4, 4), 'template_pseudo_beta': (4, 4, 56, 3), 'template_pseudo_beta_mask': (4, 4, 56), 'atom14_atom_exists': (4, 56, 14), 'residx_atom14_to_atom37': (4, 56, 14), 'residx_atom37_to_atom14': (4, 56, 37), 'atom37_atom_exists': (4, 56, 37), 'extra_msa': (4, 5120, 56), 'extra_msa_mask': (4, 5120, 56), 'extra_msa_row_mask': (4, 5120), 'bert_mask': (4, 508, 56), 'true_msa': (4, 508, 56), 'extra_has_deletion': (4, 5120, 56), 'extra_deletion_value': (4, 5120, 56), 'msa_feat': (4, 508, 56, 49), 'target_feat': (4, 56, 22)}\n",
            "I0714 10:16:04.963881 140715608131392 model.py:175] Output shape was {'distogram': {'bin_edges': (63,), 'logits': (56, 56, 64)}, 'experimentally_resolved': {'logits': (56, 37)}, 'masked_msa': {'logits': (508, 56, 23)}, 'predicted_lddt': {'logits': (56, 50)}, 'structure_module': {'final_atom_mask': (56, 37), 'final_atom_positions': (56, 37, 3)}, 'plddt': (56,), 'ranking_confidence': ()}\n",
            "I0714 10:16:04.964112 140715608131392 parjax_cla_multi_GoogleColab.py:154] Total JAX model model_1_pred_0 on 2LHD predict time (excludes compilation time): 15.1s\n",
            "I0714 10:16:04.976695 140715608131392 parjax_cla_multi_GoogleColab.py:132] Running model model_2_pred_0 on 2LHD\n",
            "I0714 10:16:07.304923 140715608131392 model.py:165] Running predict with shape(feat) = {'aatype': (4, 56), 'residue_index': (4, 56), 'seq_length': (4,), 'template_aatype': (4, 4, 56), 'template_all_atom_masks': (4, 4, 56, 37), 'template_all_atom_positions': (4, 4, 56, 37, 3), 'template_sum_probs': (4, 4, 1), 'is_distillation': (4,), 'seq_mask': (4, 56), 'msa_mask': (4, 508, 56), 'msa_row_mask': (4, 508), 'random_crop_to_size_seed': (4, 2), 'template_mask': (4, 4), 'template_pseudo_beta': (4, 4, 56, 3), 'template_pseudo_beta_mask': (4, 4, 56), 'atom14_atom_exists': (4, 56, 14), 'residx_atom14_to_atom37': (4, 56, 14), 'residx_atom37_to_atom14': (4, 56, 37), 'atom37_atom_exists': (4, 56, 37), 'extra_msa': (4, 1024, 56), 'extra_msa_mask': (4, 1024, 56), 'extra_msa_row_mask': (4, 1024), 'bert_mask': (4, 508, 56), 'true_msa': (4, 508, 56), 'extra_has_deletion': (4, 1024, 56), 'extra_deletion_value': (4, 1024, 56), 'msa_feat': (4, 508, 56, 49), 'target_feat': (4, 56, 22)}\n",
            "I0714 10:16:20.601659 140715608131392 model.py:175] Output shape was {'distogram': {'bin_edges': (63,), 'logits': (56, 56, 64)}, 'experimentally_resolved': {'logits': (56, 37)}, 'masked_msa': {'logits': (508, 56, 23)}, 'predicted_lddt': {'logits': (56, 50)}, 'structure_module': {'final_atom_mask': (56, 37), 'final_atom_positions': (56, 37, 3)}, 'plddt': (56,), 'ranking_confidence': ()}\n",
            "I0714 10:16:20.601905 140715608131392 parjax_cla_multi_GoogleColab.py:144] Total JAX model model_2_pred_0 on 2LHD predict time (includes compilation time, see --benchmark): 13.3s\n",
            "I0714 10:16:20.602131 140715608131392 model.py:165] Running predict with shape(feat) = {'aatype': (4, 56), 'residue_index': (4, 56), 'seq_length': (4,), 'template_aatype': (4, 4, 56), 'template_all_atom_masks': (4, 4, 56, 37), 'template_all_atom_positions': (4, 4, 56, 37, 3), 'template_sum_probs': (4, 4, 1), 'is_distillation': (4,), 'seq_mask': (4, 56), 'msa_mask': (4, 508, 56), 'msa_row_mask': (4, 508), 'random_crop_to_size_seed': (4, 2), 'template_mask': (4, 4), 'template_pseudo_beta': (4, 4, 56, 3), 'template_pseudo_beta_mask': (4, 4, 56), 'atom14_atom_exists': (4, 56, 14), 'residx_atom14_to_atom37': (4, 56, 14), 'residx_atom37_to_atom14': (4, 56, 37), 'atom37_atom_exists': (4, 56, 37), 'extra_msa': (4, 1024, 56), 'extra_msa_mask': (4, 1024, 56), 'extra_msa_row_mask': (4, 1024), 'bert_mask': (4, 508, 56), 'true_msa': (4, 508, 56), 'extra_has_deletion': (4, 1024, 56), 'extra_deletion_value': (4, 1024, 56), 'msa_feat': (4, 508, 56, 49), 'target_feat': (4, 56, 22)}\n",
            "I0714 10:16:33.831304 140715608131392 model.py:175] Output shape was {'distogram': {'bin_edges': (63,), 'logits': (56, 56, 64)}, 'experimentally_resolved': {'logits': (56, 37)}, 'masked_msa': {'logits': (508, 56, 23)}, 'predicted_lddt': {'logits': (56, 50)}, 'structure_module': {'final_atom_mask': (56, 37), 'final_atom_positions': (56, 37, 3)}, 'plddt': (56,), 'ranking_confidence': ()}\n",
            "I0714 10:16:33.831530 140715608131392 parjax_cla_multi_GoogleColab.py:154] Total JAX model model_2_pred_0 on 2LHD predict time (excludes compilation time): 13.2s\n",
            "I0714 10:16:33.844095 140715608131392 parjax_cla_multi_GoogleColab.py:132] Running model model_3_pred_0 on 2LHD\n",
            "I0714 10:16:35.372727 140715608131392 model.py:165] Running predict with shape(feat) = {'aatype': (4, 56), 'residue_index': (4, 56), 'seq_length': (4,), 'is_distillation': (4,), 'seq_mask': (4, 56), 'msa_mask': (4, 512, 56), 'msa_row_mask': (4, 512), 'random_crop_to_size_seed': (4, 2), 'atom14_atom_exists': (4, 56, 14), 'residx_atom14_to_atom37': (4, 56, 14), 'residx_atom37_to_atom14': (4, 56, 37), 'atom37_atom_exists': (4, 56, 37), 'extra_msa': (4, 5120, 56), 'extra_msa_mask': (4, 5120, 56), 'extra_msa_row_mask': (4, 5120), 'bert_mask': (4, 512, 56), 'true_msa': (4, 512, 56), 'extra_has_deletion': (4, 5120, 56), 'extra_deletion_value': (4, 5120, 56), 'msa_feat': (4, 512, 56, 49), 'target_feat': (4, 56, 22)}\n",
            "I0714 10:16:50.107091 140715608131392 model.py:175] Output shape was {'distogram': {'bin_edges': (63,), 'logits': (56, 56, 64)}, 'experimentally_resolved': {'logits': (56, 37)}, 'masked_msa': {'logits': (512, 56, 23)}, 'predicted_lddt': {'logits': (56, 50)}, 'structure_module': {'final_atom_mask': (56, 37), 'final_atom_positions': (56, 37, 3)}, 'plddt': (56,), 'ranking_confidence': ()}\n",
            "I0714 10:16:50.107308 140715608131392 parjax_cla_multi_GoogleColab.py:144] Total JAX model model_3_pred_0 on 2LHD predict time (includes compilation time, see --benchmark): 14.7s\n",
            "I0714 10:16:50.107530 140715608131392 model.py:165] Running predict with shape(feat) = {'aatype': (4, 56), 'residue_index': (4, 56), 'seq_length': (4,), 'is_distillation': (4,), 'seq_mask': (4, 56), 'msa_mask': (4, 512, 56), 'msa_row_mask': (4, 512), 'random_crop_to_size_seed': (4, 2), 'atom14_atom_exists': (4, 56, 14), 'residx_atom14_to_atom37': (4, 56, 14), 'residx_atom37_to_atom14': (4, 56, 37), 'atom37_atom_exists': (4, 56, 37), 'extra_msa': (4, 5120, 56), 'extra_msa_mask': (4, 5120, 56), 'extra_msa_row_mask': (4, 5120), 'bert_mask': (4, 512, 56), 'true_msa': (4, 512, 56), 'extra_has_deletion': (4, 5120, 56), 'extra_deletion_value': (4, 5120, 56), 'msa_feat': (4, 512, 56, 49), 'target_feat': (4, 56, 22)}\n",
            "I0714 10:17:04.868816 140715608131392 model.py:175] Output shape was {'distogram': {'bin_edges': (63,), 'logits': (56, 56, 64)}, 'experimentally_resolved': {'logits': (56, 37)}, 'masked_msa': {'logits': (512, 56, 23)}, 'predicted_lddt': {'logits': (56, 50)}, 'structure_module': {'final_atom_mask': (56, 37), 'final_atom_positions': (56, 37, 3)}, 'plddt': (56,), 'ranking_confidence': ()}\n",
            "I0714 10:17:04.869065 140715608131392 parjax_cla_multi_GoogleColab.py:154] Total JAX model model_3_pred_0 on 2LHD predict time (excludes compilation time): 14.8s\n",
            "I0714 10:17:04.881851 140715608131392 parjax_cla_multi_GoogleColab.py:132] Running model model_4_pred_0 on 2LHD\n",
            "I0714 10:17:06.624833 140715608131392 model.py:165] Running predict with shape(feat) = {'aatype': (4, 56), 'residue_index': (4, 56), 'seq_length': (4,), 'is_distillation': (4,), 'seq_mask': (4, 56), 'msa_mask': (4, 512, 56), 'msa_row_mask': (4, 512), 'random_crop_to_size_seed': (4, 2), 'atom14_atom_exists': (4, 56, 14), 'residx_atom14_to_atom37': (4, 56, 14), 'residx_atom37_to_atom14': (4, 56, 37), 'atom37_atom_exists': (4, 56, 37), 'extra_msa': (4, 5120, 56), 'extra_msa_mask': (4, 5120, 56), 'extra_msa_row_mask': (4, 5120), 'bert_mask': (4, 512, 56), 'true_msa': (4, 512, 56), 'extra_has_deletion': (4, 5120, 56), 'extra_deletion_value': (4, 5120, 56), 'msa_feat': (4, 512, 56, 49), 'target_feat': (4, 56, 22)}\n",
            "I0714 10:17:21.436331 140715608131392 model.py:175] Output shape was {'distogram': {'bin_edges': (63,), 'logits': (56, 56, 64)}, 'experimentally_resolved': {'logits': (56, 37)}, 'masked_msa': {'logits': (512, 56, 23)}, 'predicted_lddt': {'logits': (56, 50)}, 'structure_module': {'final_atom_mask': (56, 37), 'final_atom_positions': (56, 37, 3)}, 'plddt': (56,), 'ranking_confidence': ()}\n",
            "I0714 10:17:21.436739 140715608131392 parjax_cla_multi_GoogleColab.py:144] Total JAX model model_4_pred_0 on 2LHD predict time (includes compilation time, see --benchmark): 14.8s\n",
            "I0714 10:17:21.437124 140715608131392 model.py:165] Running predict with shape(feat) = {'aatype': (4, 56), 'residue_index': (4, 56), 'seq_length': (4,), 'is_distillation': (4,), 'seq_mask': (4, 56), 'msa_mask': (4, 512, 56), 'msa_row_mask': (4, 512), 'random_crop_to_size_seed': (4, 2), 'atom14_atom_exists': (4, 56, 14), 'residx_atom14_to_atom37': (4, 56, 14), 'residx_atom37_to_atom14': (4, 56, 37), 'atom37_atom_exists': (4, 56, 37), 'extra_msa': (4, 5120, 56), 'extra_msa_mask': (4, 5120, 56), 'extra_msa_row_mask': (4, 5120), 'bert_mask': (4, 512, 56), 'true_msa': (4, 512, 56), 'extra_has_deletion': (4, 5120, 56), 'extra_deletion_value': (4, 5120, 56), 'msa_feat': (4, 512, 56, 49), 'target_feat': (4, 56, 22)}\n",
            "I0714 10:17:36.271913 140715608131392 model.py:175] Output shape was {'distogram': {'bin_edges': (63,), 'logits': (56, 56, 64)}, 'experimentally_resolved': {'logits': (56, 37)}, 'masked_msa': {'logits': (512, 56, 23)}, 'predicted_lddt': {'logits': (56, 50)}, 'structure_module': {'final_atom_mask': (56, 37), 'final_atom_positions': (56, 37, 3)}, 'plddt': (56,), 'ranking_confidence': ()}\n",
            "I0714 10:17:36.272177 140715608131392 parjax_cla_multi_GoogleColab.py:154] Total JAX model model_4_pred_0 on 2LHD predict time (excludes compilation time): 14.8s\n",
            "I0714 10:17:36.285061 140715608131392 parjax_cla_multi_GoogleColab.py:132] Running model model_5_pred_0 on 2LHD\n",
            "I0714 10:17:37.774631 140715608131392 model.py:165] Running predict with shape(feat) = {'aatype': (4, 56), 'residue_index': (4, 56), 'seq_length': (4,), 'is_distillation': (4,), 'seq_mask': (4, 56), 'msa_mask': (4, 512, 56), 'msa_row_mask': (4, 512), 'random_crop_to_size_seed': (4, 2), 'atom14_atom_exists': (4, 56, 14), 'residx_atom14_to_atom37': (4, 56, 14), 'residx_atom37_to_atom14': (4, 56, 37), 'atom37_atom_exists': (4, 56, 37), 'extra_msa': (4, 1024, 56), 'extra_msa_mask': (4, 1024, 56), 'extra_msa_row_mask': (4, 1024), 'bert_mask': (4, 512, 56), 'true_msa': (4, 512, 56), 'extra_has_deletion': (4, 1024, 56), 'extra_deletion_value': (4, 1024, 56), 'msa_feat': (4, 512, 56, 49), 'target_feat': (4, 56, 22)}\n",
            "I0714 10:17:50.893499 140715608131392 model.py:175] Output shape was {'distogram': {'bin_edges': (63,), 'logits': (56, 56, 64)}, 'experimentally_resolved': {'logits': (56, 37)}, 'masked_msa': {'logits': (512, 56, 23)}, 'predicted_lddt': {'logits': (56, 50)}, 'structure_module': {'final_atom_mask': (56, 37), 'final_atom_positions': (56, 37, 3)}, 'plddt': (56,), 'ranking_confidence': ()}\n",
            "I0714 10:17:50.893702 140715608131392 parjax_cla_multi_GoogleColab.py:144] Total JAX model model_5_pred_0 on 2LHD predict time (includes compilation time, see --benchmark): 13.1s\n",
            "I0714 10:17:50.893921 140715608131392 model.py:165] Running predict with shape(feat) = {'aatype': (4, 56), 'residue_index': (4, 56), 'seq_length': (4,), 'is_distillation': (4,), 'seq_mask': (4, 56), 'msa_mask': (4, 512, 56), 'msa_row_mask': (4, 512), 'random_crop_to_size_seed': (4, 2), 'atom14_atom_exists': (4, 56, 14), 'residx_atom14_to_atom37': (4, 56, 14), 'residx_atom37_to_atom14': (4, 56, 37), 'atom37_atom_exists': (4, 56, 37), 'extra_msa': (4, 1024, 56), 'extra_msa_mask': (4, 1024, 56), 'extra_msa_row_mask': (4, 1024), 'bert_mask': (4, 512, 56), 'true_msa': (4, 512, 56), 'extra_has_deletion': (4, 1024, 56), 'extra_deletion_value': (4, 1024, 56), 'msa_feat': (4, 512, 56, 49), 'target_feat': (4, 56, 22)}\n",
            "I0714 10:18:04.006863 140715608131392 model.py:175] Output shape was {'distogram': {'bin_edges': (63,), 'logits': (56, 56, 64)}, 'experimentally_resolved': {'logits': (56, 37)}, 'masked_msa': {'logits': (512, 56, 23)}, 'predicted_lddt': {'logits': (56, 50)}, 'structure_module': {'final_atom_mask': (56, 37), 'final_atom_positions': (56, 37, 3)}, 'plddt': (56,), 'ranking_confidence': ()}\n",
            "I0714 10:18:04.007090 140715608131392 parjax_cla_multi_GoogleColab.py:154] Total JAX model model_5_pred_0 on 2LHD predict time (excludes compilation time): 13.1s\n",
            "I0714 10:18:07.772560 140715608131392 amber_minimize.py:178] alterations info: {'nonstandard_residues': [], 'removed_heterogens': set(), 'missing_residues': {}, 'missing_heavy_atoms': {}, 'missing_terminals': {<Residue 55 (GLU) of chain 0>: ['OXT']}, 'Se_in_MET': [], 'removed_chains': {0: []}}\n",
            "I0714 10:18:07.835405 140715608131392 amber_minimize.py:408] Minimizing protein, attempt 1 of 100.\n",
            "I0714 10:18:08.116768 140715608131392 amber_minimize.py:69] Restraining 452 / 923 particles.\n",
            "I0714 10:18:09.808990 140715608131392 amber_minimize.py:178] alterations info: {'nonstandard_residues': [], 'removed_heterogens': set(), 'missing_residues': {}, 'missing_heavy_atoms': {}, 'missing_terminals': {}, 'Se_in_MET': [], 'removed_chains': {0: []}}\n",
            "I0714 10:18:09.909141 140715608131392 amber_minimize.py:500] Iteration completed: Einit 3508.21 Efinal -490.43 Time 1.53 s num residue violations 0 num residue exclusions 0 \n",
            "I0714 10:18:09.939898 140715608131392 parjax_cla_multi_GoogleColab.py:231] Final timings for 2LHD: {'process_features_model_1_pred_0': 2.08408260345459, 'predict_and_compile_model_1_pred_0': 14.964986801147461, 'predict_benchmark_model_1_pred_0': 15.126546621322632, 'process_features_model_2_pred_0': 2.3261265754699707, 'predict_and_compile_model_2_pred_0': 13.298935413360596, 'predict_benchmark_model_2_pred_0': 13.229517221450806, 'process_features_model_3_pred_0': 1.5283575057983398, 'predict_and_compile_model_3_pred_0': 14.734720468521118, 'predict_benchmark_model_3_pred_0': 14.761638402938843, 'process_features_model_4_pred_0': 1.7426435947418213, 'predict_and_compile_model_4_pred_0': 14.811966180801392, 'predict_benchmark_model_4_pred_0': 14.835184574127197, 'process_features_model_5_pred_0': 1.489295244216919, 'predict_and_compile_model_5_pred_0': 13.119215726852417, 'predict_benchmark_model_5_pred_0': 13.113262176513672, 'relax_model_3_pred_0': 5.918854236602783}\n",
            "I0714 10:18:09.940704 140715608131392 parjax_cla_multi_GoogleColab.py:308] 2LHD AlphaFold structure prediction COMPLETE\n",
            "I0714 10:18:09.940868 140715608131392 parjax_cla_multi_GoogleColab.py:107] Predicting 2LHC\n",
            "I0714 10:18:09.944668 140715608131392 parjax_cla_multi_GoogleColab.py:132] Running model model_1_pred_0 on 2LHC\n",
            "I0714 10:18:12.912315 140715608131392 model.py:165] Running predict with shape(feat) = {'aatype': (4, 56), 'residue_index': (4, 56), 'seq_length': (4,), 'template_aatype': (4, 4, 56), 'template_all_atom_masks': (4, 4, 56, 37), 'template_all_atom_positions': (4, 4, 56, 37, 3), 'template_sum_probs': (4, 4, 1), 'is_distillation': (4,), 'seq_mask': (4, 56), 'msa_mask': (4, 508, 56), 'msa_row_mask': (4, 508), 'random_crop_to_size_seed': (4, 2), 'template_mask': (4, 4), 'template_pseudo_beta': (4, 4, 56, 3), 'template_pseudo_beta_mask': (4, 4, 56), 'atom14_atom_exists': (4, 56, 14), 'residx_atom14_to_atom37': (4, 56, 14), 'residx_atom37_to_atom14': (4, 56, 37), 'atom37_atom_exists': (4, 56, 37), 'extra_msa': (4, 5120, 56), 'extra_msa_mask': (4, 5120, 56), 'extra_msa_row_mask': (4, 5120), 'bert_mask': (4, 508, 56), 'true_msa': (4, 508, 56), 'extra_has_deletion': (4, 5120, 56), 'extra_deletion_value': (4, 5120, 56), 'msa_feat': (4, 508, 56, 49), 'target_feat': (4, 56, 22)}\n",
            "I0714 10:18:27.968706 140715608131392 model.py:175] Output shape was {'distogram': {'bin_edges': (63,), 'logits': (56, 56, 64)}, 'experimentally_resolved': {'logits': (56, 37)}, 'masked_msa': {'logits': (508, 56, 23)}, 'predicted_lddt': {'logits': (56, 50)}, 'structure_module': {'final_atom_mask': (56, 37), 'final_atom_positions': (56, 37, 3)}, 'plddt': (56,), 'ranking_confidence': ()}\n",
            "I0714 10:18:27.968930 140715608131392 parjax_cla_multi_GoogleColab.py:144] Total JAX model model_1_pred_0 on 2LHC predict time (includes compilation time, see --benchmark): 15.1s\n",
            "I0714 10:18:27.969143 140715608131392 model.py:165] Running predict with shape(feat) = {'aatype': (4, 56), 'residue_index': (4, 56), 'seq_length': (4,), 'template_aatype': (4, 4, 56), 'template_all_atom_masks': (4, 4, 56, 37), 'template_all_atom_positions': (4, 4, 56, 37, 3), 'template_sum_probs': (4, 4, 1), 'is_distillation': (4,), 'seq_mask': (4, 56), 'msa_mask': (4, 508, 56), 'msa_row_mask': (4, 508), 'random_crop_to_size_seed': (4, 2), 'template_mask': (4, 4), 'template_pseudo_beta': (4, 4, 56, 3), 'template_pseudo_beta_mask': (4, 4, 56), 'atom14_atom_exists': (4, 56, 14), 'residx_atom14_to_atom37': (4, 56, 14), 'residx_atom37_to_atom14': (4, 56, 37), 'atom37_atom_exists': (4, 56, 37), 'extra_msa': (4, 5120, 56), 'extra_msa_mask': (4, 5120, 56), 'extra_msa_row_mask': (4, 5120), 'bert_mask': (4, 508, 56), 'true_msa': (4, 508, 56), 'extra_has_deletion': (4, 5120, 56), 'extra_deletion_value': (4, 5120, 56), 'msa_feat': (4, 508, 56, 49), 'target_feat': (4, 56, 22)}\n",
            "I0714 10:18:43.048284 140715608131392 model.py:175] Output shape was {'distogram': {'bin_edges': (63,), 'logits': (56, 56, 64)}, 'experimentally_resolved': {'logits': (56, 37)}, 'masked_msa': {'logits': (508, 56, 23)}, 'predicted_lddt': {'logits': (56, 50)}, 'structure_module': {'final_atom_mask': (56, 37), 'final_atom_positions': (56, 37, 3)}, 'plddt': (56,), 'ranking_confidence': ()}\n",
            "I0714 10:18:43.048521 140715608131392 parjax_cla_multi_GoogleColab.py:154] Total JAX model model_1_pred_0 on 2LHC predict time (excludes compilation time): 15.1s\n",
            "I0714 10:18:43.061557 140715608131392 parjax_cla_multi_GoogleColab.py:132] Running model model_2_pred_0 on 2LHC\n",
            "I0714 10:18:45.018387 140715608131392 model.py:165] Running predict with shape(feat) = {'aatype': (4, 56), 'residue_index': (4, 56), 'seq_length': (4,), 'template_aatype': (4, 4, 56), 'template_all_atom_masks': (4, 4, 56, 37), 'template_all_atom_positions': (4, 4, 56, 37, 3), 'template_sum_probs': (4, 4, 1), 'is_distillation': (4,), 'seq_mask': (4, 56), 'msa_mask': (4, 508, 56), 'msa_row_mask': (4, 508), 'random_crop_to_size_seed': (4, 2), 'template_mask': (4, 4), 'template_pseudo_beta': (4, 4, 56, 3), 'template_pseudo_beta_mask': (4, 4, 56), 'atom14_atom_exists': (4, 56, 14), 'residx_atom14_to_atom37': (4, 56, 14), 'residx_atom37_to_atom14': (4, 56, 37), 'atom37_atom_exists': (4, 56, 37), 'extra_msa': (4, 1024, 56), 'extra_msa_mask': (4, 1024, 56), 'extra_msa_row_mask': (4, 1024), 'bert_mask': (4, 508, 56), 'true_msa': (4, 508, 56), 'extra_has_deletion': (4, 1024, 56), 'extra_deletion_value': (4, 1024, 56), 'msa_feat': (4, 508, 56, 49), 'target_feat': (4, 56, 22)}\n",
            "I0714 10:18:58.290221 140715608131392 model.py:175] Output shape was {'distogram': {'bin_edges': (63,), 'logits': (56, 56, 64)}, 'experimentally_resolved': {'logits': (56, 37)}, 'masked_msa': {'logits': (508, 56, 23)}, 'predicted_lddt': {'logits': (56, 50)}, 'structure_module': {'final_atom_mask': (56, 37), 'final_atom_positions': (56, 37, 3)}, 'plddt': (56,), 'ranking_confidence': ()}\n",
            "I0714 10:18:58.290420 140715608131392 parjax_cla_multi_GoogleColab.py:144] Total JAX model model_2_pred_0 on 2LHC predict time (includes compilation time, see --benchmark): 13.3s\n",
            "I0714 10:18:58.290641 140715608131392 model.py:165] Running predict with shape(feat) = {'aatype': (4, 56), 'residue_index': (4, 56), 'seq_length': (4,), 'template_aatype': (4, 4, 56), 'template_all_atom_masks': (4, 4, 56, 37), 'template_all_atom_positions': (4, 4, 56, 37, 3), 'template_sum_probs': (4, 4, 1), 'is_distillation': (4,), 'seq_mask': (4, 56), 'msa_mask': (4, 508, 56), 'msa_row_mask': (4, 508), 'random_crop_to_size_seed': (4, 2), 'template_mask': (4, 4), 'template_pseudo_beta': (4, 4, 56, 3), 'template_pseudo_beta_mask': (4, 4, 56), 'atom14_atom_exists': (4, 56, 14), 'residx_atom14_to_atom37': (4, 56, 14), 'residx_atom37_to_atom14': (4, 56, 37), 'atom37_atom_exists': (4, 56, 37), 'extra_msa': (4, 1024, 56), 'extra_msa_mask': (4, 1024, 56), 'extra_msa_row_mask': (4, 1024), 'bert_mask': (4, 508, 56), 'true_msa': (4, 508, 56), 'extra_has_deletion': (4, 1024, 56), 'extra_deletion_value': (4, 1024, 56), 'msa_feat': (4, 508, 56, 49), 'target_feat': (4, 56, 22)}\n",
            "I0714 10:19:11.544572 140715608131392 model.py:175] Output shape was {'distogram': {'bin_edges': (63,), 'logits': (56, 56, 64)}, 'experimentally_resolved': {'logits': (56, 37)}, 'masked_msa': {'logits': (508, 56, 23)}, 'predicted_lddt': {'logits': (56, 50)}, 'structure_module': {'final_atom_mask': (56, 37), 'final_atom_positions': (56, 37, 3)}, 'plddt': (56,), 'ranking_confidence': ()}\n",
            "I0714 10:19:11.544810 140715608131392 parjax_cla_multi_GoogleColab.py:154] Total JAX model model_2_pred_0 on 2LHC predict time (excludes compilation time): 13.3s\n",
            "I0714 10:19:11.557639 140715608131392 parjax_cla_multi_GoogleColab.py:132] Running model model_3_pred_0 on 2LHC\n",
            "I0714 10:19:13.036884 140715608131392 model.py:165] Running predict with shape(feat) = {'aatype': (4, 56), 'residue_index': (4, 56), 'seq_length': (4,), 'is_distillation': (4,), 'seq_mask': (4, 56), 'msa_mask': (4, 512, 56), 'msa_row_mask': (4, 512), 'random_crop_to_size_seed': (4, 2), 'atom14_atom_exists': (4, 56, 14), 'residx_atom14_to_atom37': (4, 56, 14), 'residx_atom37_to_atom14': (4, 56, 37), 'atom37_atom_exists': (4, 56, 37), 'extra_msa': (4, 5120, 56), 'extra_msa_mask': (4, 5120, 56), 'extra_msa_row_mask': (4, 5120), 'bert_mask': (4, 512, 56), 'true_msa': (4, 512, 56), 'extra_has_deletion': (4, 5120, 56), 'extra_deletion_value': (4, 5120, 56), 'msa_feat': (4, 512, 56, 49), 'target_feat': (4, 56, 22)}\n",
            "I0714 10:19:27.747957 140715608131392 model.py:175] Output shape was {'distogram': {'bin_edges': (63,), 'logits': (56, 56, 64)}, 'experimentally_resolved': {'logits': (56, 37)}, 'masked_msa': {'logits': (512, 56, 23)}, 'predicted_lddt': {'logits': (56, 50)}, 'structure_module': {'final_atom_mask': (56, 37), 'final_atom_positions': (56, 37, 3)}, 'plddt': (56,), 'ranking_confidence': ()}\n",
            "I0714 10:19:27.748208 140715608131392 parjax_cla_multi_GoogleColab.py:144] Total JAX model model_3_pred_0 on 2LHC predict time (includes compilation time, see --benchmark): 14.7s\n",
            "I0714 10:19:27.748434 140715608131392 model.py:165] Running predict with shape(feat) = {'aatype': (4, 56), 'residue_index': (4, 56), 'seq_length': (4,), 'is_distillation': (4,), 'seq_mask': (4, 56), 'msa_mask': (4, 512, 56), 'msa_row_mask': (4, 512), 'random_crop_to_size_seed': (4, 2), 'atom14_atom_exists': (4, 56, 14), 'residx_atom14_to_atom37': (4, 56, 14), 'residx_atom37_to_atom14': (4, 56, 37), 'atom37_atom_exists': (4, 56, 37), 'extra_msa': (4, 5120, 56), 'extra_msa_mask': (4, 5120, 56), 'extra_msa_row_mask': (4, 5120), 'bert_mask': (4, 512, 56), 'true_msa': (4, 512, 56), 'extra_has_deletion': (4, 5120, 56), 'extra_deletion_value': (4, 5120, 56), 'msa_feat': (4, 512, 56, 49), 'target_feat': (4, 56, 22)}\n",
            "I0714 10:19:42.515792 140715608131392 model.py:175] Output shape was {'distogram': {'bin_edges': (63,), 'logits': (56, 56, 64)}, 'experimentally_resolved': {'logits': (56, 37)}, 'masked_msa': {'logits': (512, 56, 23)}, 'predicted_lddt': {'logits': (56, 50)}, 'structure_module': {'final_atom_mask': (56, 37), 'final_atom_positions': (56, 37, 3)}, 'plddt': (56,), 'ranking_confidence': ()}\n",
            "I0714 10:19:42.516035 140715608131392 parjax_cla_multi_GoogleColab.py:154] Total JAX model model_3_pred_0 on 2LHC predict time (excludes compilation time): 14.8s\n",
            "I0714 10:19:42.528907 140715608131392 parjax_cla_multi_GoogleColab.py:132] Running model model_4_pred_0 on 2LHC\n",
            "I0714 10:19:44.019103 140715608131392 model.py:165] Running predict with shape(feat) = {'aatype': (4, 56), 'residue_index': (4, 56), 'seq_length': (4,), 'is_distillation': (4,), 'seq_mask': (4, 56), 'msa_mask': (4, 512, 56), 'msa_row_mask': (4, 512), 'random_crop_to_size_seed': (4, 2), 'atom14_atom_exists': (4, 56, 14), 'residx_atom14_to_atom37': (4, 56, 14), 'residx_atom37_to_atom14': (4, 56, 37), 'atom37_atom_exists': (4, 56, 37), 'extra_msa': (4, 5120, 56), 'extra_msa_mask': (4, 5120, 56), 'extra_msa_row_mask': (4, 5120), 'bert_mask': (4, 512, 56), 'true_msa': (4, 512, 56), 'extra_has_deletion': (4, 5120, 56), 'extra_deletion_value': (4, 5120, 56), 'msa_feat': (4, 512, 56, 49), 'target_feat': (4, 56, 22)}\n",
            "I0714 10:19:58.768349 140715608131392 model.py:175] Output shape was {'distogram': {'bin_edges': (63,), 'logits': (56, 56, 64)}, 'experimentally_resolved': {'logits': (56, 37)}, 'masked_msa': {'logits': (512, 56, 23)}, 'predicted_lddt': {'logits': (56, 50)}, 'structure_module': {'final_atom_mask': (56, 37), 'final_atom_positions': (56, 37, 3)}, 'plddt': (56,), 'ranking_confidence': ()}\n",
            "I0714 10:19:58.768554 140715608131392 parjax_cla_multi_GoogleColab.py:144] Total JAX model model_4_pred_0 on 2LHC predict time (includes compilation time, see --benchmark): 14.7s\n",
            "I0714 10:19:58.768742 140715608131392 model.py:165] Running predict with shape(feat) = {'aatype': (4, 56), 'residue_index': (4, 56), 'seq_length': (4,), 'is_distillation': (4,), 'seq_mask': (4, 56), 'msa_mask': (4, 512, 56), 'msa_row_mask': (4, 512), 'random_crop_to_size_seed': (4, 2), 'atom14_atom_exists': (4, 56, 14), 'residx_atom14_to_atom37': (4, 56, 14), 'residx_atom37_to_atom14': (4, 56, 37), 'atom37_atom_exists': (4, 56, 37), 'extra_msa': (4, 5120, 56), 'extra_msa_mask': (4, 5120, 56), 'extra_msa_row_mask': (4, 5120), 'bert_mask': (4, 512, 56), 'true_msa': (4, 512, 56), 'extra_has_deletion': (4, 5120, 56), 'extra_deletion_value': (4, 5120, 56), 'msa_feat': (4, 512, 56, 49), 'target_feat': (4, 56, 22)}\n",
            "I0714 10:20:13.579722 140715608131392 model.py:175] Output shape was {'distogram': {'bin_edges': (63,), 'logits': (56, 56, 64)}, 'experimentally_resolved': {'logits': (56, 37)}, 'masked_msa': {'logits': (512, 56, 23)}, 'predicted_lddt': {'logits': (56, 50)}, 'structure_module': {'final_atom_mask': (56, 37), 'final_atom_positions': (56, 37, 3)}, 'plddt': (56,), 'ranking_confidence': ()}\n",
            "I0714 10:20:13.579989 140715608131392 parjax_cla_multi_GoogleColab.py:154] Total JAX model model_4_pred_0 on 2LHC predict time (excludes compilation time): 14.8s\n",
            "I0714 10:20:13.592849 140715608131392 parjax_cla_multi_GoogleColab.py:132] Running model model_5_pred_0 on 2LHC\n",
            "I0714 10:20:15.546579 140715608131392 model.py:165] Running predict with shape(feat) = {'aatype': (4, 56), 'residue_index': (4, 56), 'seq_length': (4,), 'is_distillation': (4,), 'seq_mask': (4, 56), 'msa_mask': (4, 512, 56), 'msa_row_mask': (4, 512), 'random_crop_to_size_seed': (4, 2), 'atom14_atom_exists': (4, 56, 14), 'residx_atom14_to_atom37': (4, 56, 14), 'residx_atom37_to_atom14': (4, 56, 37), 'atom37_atom_exists': (4, 56, 37), 'extra_msa': (4, 1024, 56), 'extra_msa_mask': (4, 1024, 56), 'extra_msa_row_mask': (4, 1024), 'bert_mask': (4, 512, 56), 'true_msa': (4, 512, 56), 'extra_has_deletion': (4, 1024, 56), 'extra_deletion_value': (4, 1024, 56), 'msa_feat': (4, 512, 56, 49), 'target_feat': (4, 56, 22)}\n",
            "I0714 10:20:28.775717 140715608131392 model.py:175] Output shape was {'distogram': {'bin_edges': (63,), 'logits': (56, 56, 64)}, 'experimentally_resolved': {'logits': (56, 37)}, 'masked_msa': {'logits': (512, 56, 23)}, 'predicted_lddt': {'logits': (56, 50)}, 'structure_module': {'final_atom_mask': (56, 37), 'final_atom_positions': (56, 37, 3)}, 'plddt': (56,), 'ranking_confidence': ()}\n",
            "I0714 10:20:28.775937 140715608131392 parjax_cla_multi_GoogleColab.py:144] Total JAX model model_5_pred_0 on 2LHC predict time (includes compilation time, see --benchmark): 13.2s\n",
            "I0714 10:20:28.776142 140715608131392 model.py:165] Running predict with shape(feat) = {'aatype': (4, 56), 'residue_index': (4, 56), 'seq_length': (4,), 'is_distillation': (4,), 'seq_mask': (4, 56), 'msa_mask': (4, 512, 56), 'msa_row_mask': (4, 512), 'random_crop_to_size_seed': (4, 2), 'atom14_atom_exists': (4, 56, 14), 'residx_atom14_to_atom37': (4, 56, 14), 'residx_atom37_to_atom14': (4, 56, 37), 'atom37_atom_exists': (4, 56, 37), 'extra_msa': (4, 1024, 56), 'extra_msa_mask': (4, 1024, 56), 'extra_msa_row_mask': (4, 1024), 'bert_mask': (4, 512, 56), 'true_msa': (4, 512, 56), 'extra_has_deletion': (4, 1024, 56), 'extra_deletion_value': (4, 1024, 56), 'msa_feat': (4, 512, 56, 49), 'target_feat': (4, 56, 22)}\n",
            "I0714 10:20:41.914306 140715608131392 model.py:175] Output shape was {'distogram': {'bin_edges': (63,), 'logits': (56, 56, 64)}, 'experimentally_resolved': {'logits': (56, 37)}, 'masked_msa': {'logits': (512, 56, 23)}, 'predicted_lddt': {'logits': (56, 50)}, 'structure_module': {'final_atom_mask': (56, 37), 'final_atom_positions': (56, 37, 3)}, 'plddt': (56,), 'ranking_confidence': ()}\n",
            "I0714 10:20:41.914565 140715608131392 parjax_cla_multi_GoogleColab.py:154] Total JAX model model_5_pred_0 on 2LHC predict time (excludes compilation time): 13.1s\n",
            "I0714 10:20:46.494902 140715608131392 amber_minimize.py:178] alterations info: {'nonstandard_residues': [], 'removed_heterogens': set(), 'missing_residues': {}, 'missing_heavy_atoms': {}, 'missing_terminals': {<Residue 55 (GLU) of chain 0>: ['OXT']}, 'Se_in_MET': [], 'removed_chains': {0: []}}\n",
            "I0714 10:20:46.559586 140715608131392 amber_minimize.py:408] Minimizing protein, attempt 1 of 100.\n",
            "I0714 10:20:46.884944 140715608131392 amber_minimize.py:69] Restraining 448 / 921 particles.\n",
            "I0714 10:20:48.566518 140715608131392 amber_minimize.py:178] alterations info: {'nonstandard_residues': [], 'removed_heterogens': set(), 'missing_residues': {}, 'missing_heavy_atoms': {}, 'missing_terminals': {}, 'Se_in_MET': [], 'removed_chains': {0: []}}\n",
            "I0714 10:20:48.794518 140715608131392 amber_minimize.py:500] Iteration completed: Einit 2069.78 Efinal -578.11 Time 1.56 s num residue violations 0 num residue exclusions 0 \n",
            "I0714 10:20:48.824250 140715608131392 parjax_cla_multi_GoogleColab.py:231] Final timings for 2LHC: {'process_features_model_1_pred_0': 2.965641975402832, 'predict_and_compile_model_1_pred_0': 15.058470249176025, 'predict_benchmark_model_1_pred_0': 15.079488754272461, 'process_features_model_2_pred_0': 1.9562203884124756, 'predict_and_compile_model_2_pred_0': 13.272509813308716, 'predict_benchmark_model_2_pred_0': 13.254277229309082, 'process_features_model_3_pred_0': 1.4789605140686035, 'predict_and_compile_model_3_pred_0': 14.711477041244507, 'predict_benchmark_model_3_pred_0': 14.767701148986816, 'process_features_model_4_pred_0': 1.4899320602416992, 'predict_and_compile_model_4_pred_0': 14.749578952789307, 'predict_benchmark_model_4_pred_0': 14.811322689056396, 'process_features_model_5_pred_0': 1.953460693359375, 'predict_and_compile_model_5_pred_0': 13.229493856430054, 'predict_benchmark_model_5_pred_0': 13.13851547241211, 'relax_model_4_pred_0': 6.895698308944702}\n",
            "I0714 10:20:48.824986 140715608131392 parjax_cla_multi_GoogleColab.py:308] 2LHC AlphaFold structure prediction COMPLETE\n"
          ]
        }
      ],
      "source": [
        "%%bash\n",
        "source activate parafold\n",
        "\n",
        "python parjax_cla_multi_GoogleColab.py \\\n",
        "  --fasta_paths=/content/jaxalpha/multi/6UF2/6UF2.fasta,/content/jaxalpha/multi/2LHG/2LHG.fasta,/content/jaxalpha/multi/2LHE/2LHE.fasta,/content/jaxalpha/multi/2LHD/2LHD.fasta,/content/jaxalpha/multi/2LHC/2LHC.fasta  \\\n",
        "  --output_dir=/content/jaxalpha/multi/out_multi_A_Z/1_5 \\\n",
        "  --parameter_path=/content/ParallelFold/params \\\n",
        "  --feature_files=/content/jaxalpha/multi/6UF2/feature.pkl,/content/jaxalpha/multi/2LHG/feature.pkl,/content/jaxalpha/multi/2LHE/feature.pkl,/content/jaxalpha/multi/2LHD/feature.pkl,/content/jaxalpha/multi/2LHC/feature.pkl \\\n",
        "  --use_gpu_relax=true \\\n",
        "  --benchmark=true\n",
        "\n"
      ]
    },
    {
      "cell_type": "code",
      "source": [
        "log_execution_time(start_time, cell_title)\n",
        "log_execution_time(code_start_time, from_beginning_to_end)"
      ],
      "metadata": {
        "id": "VHsqPxzNHonp"
      },
      "execution_count": 17,
      "outputs": []
    },
    {
      "cell_type": "code",
      "execution_count": 19,
      "metadata": {
        "id": "W-_pdPajkI_n"
      },
      "outputs": [],
      "source": [
        "#@title zip_output\n",
        "%%capture\n",
        "cell_title = \"zip_output\"\n",
        "start_time = time.time()\n",
        "\n",
        "import zipfile\n",
        "import os\n",
        "from google.colab import drive\n",
        "\n",
        "# Mount Google Drive\n",
        "drive.mount('/content/drive')\n",
        "\n",
        "!cp /content/time_cell_benchmark.txt /content/jaxalpha/multi/out_multi_A_Z/1_5\n",
        "# Define the folder to zip\n",
        "folder_to_zip = '/content/jaxalpha/multi/out_multi_A_Z/1_5'\n",
        "\n",
        "# Define the output zip file name and path (in Google Drive)\n",
        "output_filename = '/content/drive/My Drive/benchmark_1_5_A_Z_T4.zip'\n",
        "\n",
        "# Create the zip file\n",
        "with zipfile.ZipFile(output_filename, 'w', zipfile.ZIP_DEFLATED) as zipf:\n",
        "    for root, dirs, files in os.walk(folder_to_zip):\n",
        "        for file in files:\n",
        "            zipf.write(os.path.join(root, file),\n",
        "                       os.path.relpath(os.path.join(root, file),\n",
        "                                       os.path.join(folder_to_zip, '..')))\n",
        "\n",
        "log_execution_time(start_time, cell_title)"
      ]
    }
  ],
  "metadata": {
    "colab": {
      "provenance": [],
      "machine_shape": "hm",
      "gpuType": "T4",
      "include_colab_link": true
    },
    "kernelspec": {
      "display_name": "Python 3",
      "name": "python3"
    },
    "language_info": {
      "name": "python"
    },
    "accelerator": "GPU"
  },
  "nbformat": 4,
  "nbformat_minor": 0
}